{
  "nbformat": 4,
  "nbformat_minor": 0,
  "metadata": {
    "colab": {
      "name": "1_Python_basics.ipynb",
      "provenance": [],
      "collapsed_sections": [],
      "include_colab_link": true
    },
    "kernelspec": {
      "name": "python3",
      "display_name": "Python 3"
    },
    "language_info": {
      "name": "python"
    }
  },
  "cells": [
    {
      "cell_type": "markdown",
      "metadata": {
        "id": "view-in-github",
        "colab_type": "text"
      },
      "source": [
        "<a href=\"https://colab.research.google.com/github/graff1te/Netology/blob/master/1_Python_basics.ipynb\" target=\"_parent\"><img src=\"https://colab.research.google.com/assets/colab-badge.svg\" alt=\"Open In Colab\"/></a>"
      ]
    },
    {
      "cell_type": "markdown",
      "metadata": {
        "id": "xm4dSAuCFr7G"
      },
      "source": [
        "#Задание 1. \n",
        "###Сравнение количества символов\n",
        "- Даны 2 переменных, в которых хранятся строки произвольной длины: phrase_1 и phrase_2. \n",
        "- Напишите код, который проверяет какая из этих строк длиннее."
      ]
    },
    {
      "cell_type": "code",
      "metadata": {
        "colab": {
          "base_uri": "https://localhost:8080/"
        },
        "id": "cxDiw6JzVjhK",
        "outputId": "a811afa3-b1b1-49c0-9b01-8cbb001a3be7"
      },
      "source": [
        "phrase_1_len = len(input ('введите фразу 1: '))\n",
        "phrase_2_len = len(input ('введите фразу 2: '))\n",
        "\n",
        "if phrase_1_len > phrase_2_len:\n",
        "    print ('Сравнение: фраза 1 длиннее фразы 2')\n",
        "elif phrase_1_len == phrase_2_len:\n",
        "    print ('Сравнение: фразы 1 и 2 равны')\n",
        "elif phrase_1_len < phrase_2_len:\n",
        "    print ('Сравнение: фраза 2 длиннее фразы 1')"
      ],
      "execution_count": null,
      "outputs": [
        {
          "output_type": "stream",
          "name": "stdout",
          "text": [
            "введите фразу 1: qqqq\n",
            "введите фразу 2: qq\n",
            "Сравнение: фраза 1 длиннее фразы 2\n"
          ]
        }
      ]
    },
    {
      "cell_type": "markdown",
      "metadata": {
        "id": "jX92AJaIWepH"
      },
      "source": [
        "#Задание 2. \n",
        "###Проверка года на високосность\n",
        "- Дана переменная, в которой хранится четырехзначное число (год). \n",
        "- Необходимо написать программу, которая выведет, является ли данный год високосным или обычным."
      ]
    },
    {
      "cell_type": "code",
      "metadata": {
        "colab": {
          "base_uri": "https://localhost:8080/"
        },
        "id": "oGdf0OEXWSx6",
        "outputId": "ddf4b4d3-fbad-4cd3-ea37-1db2b8d70154"
      },
      "source": [
        "year = int (input ('введите год: '))\n",
        "\n",
        "if year % 400 == 0:\n",
        "    print (str(year)+' - '+'високосный год')\n",
        "elif year % 100 == 0:\n",
        "    print (str(year)+' - '+'обычный год')\n",
        "elif year % 4 == 0:\n",
        "    print (str(year)+' - '+'високосный год')\n",
        "else:\n",
        "    print (str(year)+' - '+'обычный год')"
      ],
      "execution_count": null,
      "outputs": [
        {
          "output_type": "stream",
          "name": "stdout",
          "text": [
            "введите год: 2021\n",
            "2021 - обычный год\n"
          ]
        }
      ]
    },
    {
      "cell_type": "markdown",
      "metadata": {
        "id": "Wb_1JhQak6H2"
      },
      "source": [
        "#Задание 3. \n",
        "###Знак зодиака\n",
        "- Необходимо написать программу, которая будет запрашивать у пользователя месяц и дату рождения и выводить соответствующий знак зодиака."
      ]
    },
    {
      "cell_type": "code",
      "metadata": {
        "colab": {
          "base_uri": "https://localhost:8080/"
        },
        "id": "17jFwyMNk3km",
        "outputId": "646b3efd-2db9-4305-a3c8-ce4e56db6fd0"
      },
      "source": [
        "day = int (input ('введите день: '))\n",
        "month = input ('введите название месяца: ').lower()\n",
        "\n",
        "if month == 'январь':\n",
        "    if 1 <= day <= 19:\n",
        "        print ('Козерог')\n",
        "    elif 20 <= day <= 31:\n",
        "        print ('Водолей')\n",
        "        \n",
        "elif month == 'февраль':\n",
        "    if 1 <= day <= 19:\n",
        "        print ('Водолей')\n",
        "    elif 20 <= day <= 31:\n",
        "        print ('Рыбы')\n",
        "        \n",
        "elif month == 'март':\n",
        "    if 1 <= day <= 20:\n",
        "        print ('Рыбы')\n",
        "    elif 21 <= day <= 31:\n",
        "        print ('Овен')\n",
        "        \n",
        "elif month == 'апрель':\n",
        "    if 1 <= day <= 19:\n",
        "        print ('Овен')\n",
        "    elif 21 <= day <= 31:\n",
        "        print ('Телец')\n",
        "        \n",
        "elif month == 'май':\n",
        "    if 1 <= day <= 20:\n",
        "        print ('Телец')\n",
        "    elif 21 <= day <= 31:\n",
        "        print ('Близнецы')\n",
        "        \n",
        "elif month == 'июнь':\n",
        "    if 1 <= day <= 20:\n",
        "        print ('Близнецы')\n",
        "    elif 21 <= day <= 31:\n",
        "        print ('Рак')\n",
        "        \n",
        "elif month == 'июль':\n",
        "    if 1 <= day <= 22:\n",
        "        print ('Рак')\n",
        "    elif 23 <= day <= 31:\n",
        "        print ('Лев')\n",
        "        \n",
        "elif month == 'август':\n",
        "    if 1 <= day <= 22:\n",
        "        print ('Лев')\n",
        "    elif 23 <= day <= 31:\n",
        "        print ('Дева')\n",
        "        \n",
        "elif month == 'сентябрь':\n",
        "    if 1 <= day <= 22:\n",
        "        print ('Дева')\n",
        "    elif 23 <= day <= 31:\n",
        "        print ('Весы')\n",
        "        \n",
        "elif month == 'октябрь':\n",
        "    if 1 <= day <= 23:\n",
        "        print ('Весы')\n",
        "    elif 24 <= day <= 31:\n",
        "        print ('Скорпион')\n",
        "        \n",
        "elif month == 'ноябрь':\n",
        "    if 1 <= day <= 22:\n",
        "        print ('Скорпион')\n",
        "    elif 23 <= day <= 31:\n",
        "        print ('Стрелец')\n",
        "        \n",
        "elif month == 'декабрь':\n",
        "    if 1 <= day <= 21:\n",
        "        print ('Стрелец')\n",
        "    elif 22 <= day <= 31:\n",
        "        print ('Козерог')\n",
        "        \n",
        "else:\n",
        "    print ('Введите корректные данные')"
      ],
      "execution_count": null,
      "outputs": [
        {
          "output_type": "stream",
          "name": "stdout",
          "text": [
            "введите день: 15\n",
            "введите название месяца: март\n",
            "Рыбы\n"
          ]
        }
      ]
    },
    {
      "cell_type": "markdown",
      "metadata": {
        "id": "0kpMVippo1Qg"
      },
      "source": [
        "#Задание 4. \n",
        "###Подбор упаковки\n",
        "- Вам нужно написать программу для подбора упаковок по размерам товара. Размеры (ширина, длина, высота) хранятся в переменных (в сантиметрах):\n",
        "\n",
        "Используйте следующие правила:\n",
        "\n",
        "- если каждое из трех измерений менее или равно 15 сантиметрам, то выведите на экран \"Коробка №1\";\n",
        "-если хотя бы одно из измерений больше 15 сантиметров, но менее 50 сантиметров, то выводите \"Коробка №2\";\n",
        "-если длина товара больше 2 метров, то выводите \"Упаковка для лыж\";\n",
        "во всех остальных случаях выводите \"Стандартная коробка №3\"."
      ]
    },
    {
      "cell_type": "code",
      "metadata": {
        "colab": {
          "base_uri": "https://localhost:8080/"
        },
        "id": "pQ57xAtGpTqp",
        "outputId": "df5d695d-5daa-4689-b39d-8a98440e3670"
      },
      "source": [
        "width = int (input ('укажите ширину упаковки в см: '))\n",
        "length = int (input ('укажите длину упаковки в см: '))\n",
        "height = int (input ('укажите высоту упаковки в см: '))\n",
        "\n",
        "if width < 15 and length < 15 and height < 15:\n",
        "    print ('Коробка №1')\n",
        "  \n",
        "elif length > 200:\n",
        "    print ('Упаковка для лыж')\n",
        "    \n",
        "elif 50 > width > 15 or 50 > length > 15 or 50 > height > 15:\n",
        "    print ('Коробка №2')\n",
        "    \n",
        "else:\n",
        "    print ('Стандартная коробка №3')"
      ],
      "execution_count": null,
      "outputs": [
        {
          "output_type": "stream",
          "name": "stdout",
          "text": [
            "укажите ширину упаковки в см: 15\n",
            "укажите длину упаковки в см: 20\n",
            "укажите высоту упаковки в см: 60\n",
            "Коробка №2\n"
          ]
        }
      ]
    },
    {
      "cell_type": "markdown",
      "metadata": {
        "id": "7xOdPzEUp2lu"
      },
      "source": [
        "#Задание 5. \n",
        "###Поиск счастья в билете\n",
        "- Дана переменная, в которой хранится шестизначное число (номер проездного билета). \n",
        "-Напишите программу, которая будет определять, является ли данный билет \"счастливым\". \n",
        "-Билет считается счастливым, если сумма первых трех цифр совпадает с суммой последних трех цифр номера.\n"
      ]
    },
    {
      "cell_type": "code",
      "metadata": {
        "colab": {
          "base_uri": "https://localhost:8080/"
        },
        "id": "1ajRHBvmsvqE",
        "outputId": "df6e6df0-8408-46f0-b5c5-fc48eddc54ad"
      },
      "source": [
        "# Вариант 1.\n",
        "\n",
        "ticket = int (input ('введите номер билета: '))\n",
        "\n",
        "num_1 = ticket // 100000\n",
        "num_2 = ticket // 10000 % 10\n",
        "num_3 = ticket // 1000 % 10\n",
        "\n",
        "num_4 = ticket // 100 % 10\n",
        "num_5 = ticket // 10 % 10\n",
        "num_6 = ticket      % 10\n",
        "\n",
        "if (num_1+num_2+num_3) != (num_4+num_5+num_6):\n",
        "    \n",
        "    print ('Неасчастливый билет =(')\n",
        "    \n",
        "else:\n",
        "    print ('Cчастливый билет =)')"
      ],
      "execution_count": null,
      "outputs": [
        {
          "output_type": "stream",
          "name": "stdout",
          "text": [
            "введите номер билета: 125587\n",
            "Неасчастливый билет =(\n"
          ]
        }
      ]
    },
    {
      "cell_type": "code",
      "metadata": {
        "colab": {
          "base_uri": "https://localhost:8080/"
        },
        "id": "HlxCs67qqMd2",
        "outputId": "65e744f2-4581-4263-a6a3-4a87c628efe7"
      },
      "source": [
        "# Вариант 2.\n",
        "\n",
        "ticket =  input ('введите номер билета: ')\n",
        "\n",
        "num_1 = int (ticket[0])\n",
        "num_2 = int (ticket[1])\n",
        "num_3 = int (ticket[2])\n",
        "\n",
        "num_4 = int (ticket[3])\n",
        "num_5 = int (ticket[4])\n",
        "num_6 = int (ticket[5])\n",
        "\n",
        "if (num_1+num_2+num_3) != (num_4+num_5+num_6):\n",
        "    \n",
        "    print ('Неасчастливый билет =(')\n",
        "    \n",
        "else:\n",
        "    print ('Cчастливый билет =)')"
      ],
      "execution_count": null,
      "outputs": [
        {
          "output_type": "stream",
          "name": "stdout",
          "text": [
            "введите номер билета: 152251\n",
            "Cчастливый билет =)\n"
          ]
        }
      ]
    },
    {
      "cell_type": "markdown",
      "metadata": {
        "id": "H9KH3lwy24jo"
      },
      "source": [
        "#Задание 6. \n",
        "###Вычисление площади\n",
        "- Напишите программу, которая сможет вычислять площади трех фигур (круг, треугольник и прямоугольник). Тип фигуры запрашиваем через пользовательский ввод, после чего делаем запрос характеристик фигуры:\n",
        "-- если пользователь выбрал круг, запрашиваем его радиус,\n",
        "-- если треугольник – длины трех его сторон;\n",
        "-- если прямоугольник – длины двух его сторон."
      ]
    },
    {
      "cell_type": "code",
      "metadata": {
        "colab": {
          "base_uri": "https://localhost:8080/"
        },
        "id": "PtTpxIBk3uR2",
        "outputId": "726e8baf-3dfd-4648-c2e6-3bcd38fa9fd0"
      },
      "source": [
        "shape = input ('укажите фигуру: ').lower()\n",
        "\n",
        "if shape == ('круг'):\n",
        "    radius = int (input ('укажите радиус: '))\n",
        "    print (radius ** 2 * 3.14)\n",
        "    \n",
        "elif shape == ('треугольник'):\n",
        "    side_a = int (input ('укажите сторону а: '))\n",
        "    side_b = int (input ('укажите сторону b: '))\n",
        "    side_c = int (input ('укажите сторону c: '))\n",
        "    p = (side_a+side_b+side_c)/2\n",
        "    s = round(( p * (p - side_a) * (p - side_b) * (p - side_c) )**(1/2), 2)\n",
        "    print (s)\n",
        "    \n",
        "elif shape == ('прямоугольник'):\n",
        "    side_a = int (input ('укажите сторону а: '))\n",
        "    side_b = int (input ('укажите сторону b: '))\n",
        "    print (side_a * side_b)\n",
        "    \n",
        "else:\n",
        "    print ('введите название фигуры: круг, треугольник или прямоугольник')"
      ],
      "execution_count": null,
      "outputs": [
        {
          "output_type": "stream",
          "name": "stdout",
          "text": [
            "укажите фигуру: Треугольник\n",
            "укажите сторону а: 2\n",
            "укажите сторону b: 2\n",
            "укажите сторону c: 3\n",
            "1.98\n"
          ]
        }
      ]
    }
  ]
}