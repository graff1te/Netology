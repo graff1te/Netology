{
 "cells": [
  {
   "cell_type": "markdown",
   "id": "601b4bdd",
   "metadata": {},
   "source": [
    "# Задание 1. \n",
    "### Сравнение количества символов"
   ]
  },
  {
   "cell_type": "code",
   "execution_count": null,
   "id": "6d18268c",
   "metadata": {},
   "outputs": [],
   "source": [
    "phrase_1_input = input ('введите фразу 1: ')\n",
    "phrase_2_input = input ('введите фразу 2: ')\n",
    "\n",
    "phrase_1 = len(phrase_1_input)\n",
    "phrase_2 = len(phrase_2_input)\n",
    "\n",
    "if phrase_1 > phrase_2:\n",
    "    print ('Сравнение: фраза 1 длиннее фразы 2')\n",
    "elif phrase_1 == phrase_2:\n",
    "    print ('Сравнение: фразы 1 и 2 равны')\n",
    "elif phrase_1 < phrase_2:\n",
    "    print ('Сравнение: фраза 2 длиннее фразы 1')\n",
    "    "
   ]
  },
  {
   "cell_type": "markdown",
   "id": "f4ec43ca",
   "metadata": {},
   "source": [
    "\n",
    "\n",
    "\n"
   ]
  },
  {
   "cell_type": "markdown",
   "id": "ce9895d0",
   "metadata": {},
   "source": [
    "# Задание 2. \n",
    "### Проверка года на високосность"
   ]
  },
  {
   "cell_type": "code",
   "execution_count": 26,
   "id": "b10bd62b",
   "metadata": {},
   "outputs": [
    {
     "name": "stdout",
     "output_type": "stream",
     "text": [
      "введите год: 2004\n",
      "2004 - високосный год\n"
     ]
    }
   ],
   "source": [
    "year = int (input ('введите год: '))\n",
    "\n",
    "if year % 400 == 0:\n",
    "    print (str(year)+' - '+'високосный год')\n",
    "elif year % 100 == 0:\n",
    "    print (str(year)+' - '+'обычный год')\n",
    "elif year % 4 == 0:\n",
    "    print (str(year)+' - '+'високосный год')\n",
    "else:\n",
    "    print (str(year)+' - '+'обычный год')\n",
    "    "
   ]
  },
  {
   "cell_type": "markdown",
   "id": "71cfc8bb",
   "metadata": {},
   "source": [
    "\n",
    "\n",
    "\n"
   ]
  },
  {
   "cell_type": "markdown",
   "id": "0e0865f0",
   "metadata": {},
   "source": [
    "# Задание 3. \n",
    "### Знак зодиака"
   ]
  },
  {
   "cell_type": "code",
   "execution_count": null,
   "id": "bd7a1213",
   "metadata": {},
   "outputs": [],
   "source": [
    "day = int (input ('введите день: '))\n",
    "month = input ('введите название месяца: ')\n",
    "\n",
    "if month == 'январь':\n",
    "    if 1 <= day <= 19:\n",
    "        print ('Козерог')\n",
    "    if 20 <= day <= 31:\n",
    "        print ('Водолей')\n",
    "        \n",
    "elif month == 'февраль':\n",
    "    if 1 <= day <= 19:\n",
    "        print ('Водолей')\n",
    "    if 20 <= day <= 31:\n",
    "        print ('Рыбы')\n",
    "        \n",
    "elif month == 'март':\n",
    "    if 1 <= day <= 20:\n",
    "        print ('Рыбы')\n",
    "    if 21 <= day <= 31:\n",
    "        print ('Овен')\n",
    "        \n",
    "elif month == 'апрель':\n",
    "    if 1 <= day <= 19:\n",
    "        print ('Овен')\n",
    "    if 21 <= day <= 31:\n",
    "        print ('Телец')\n",
    "        \n",
    "elif month == 'май':\n",
    "    if 1 <= day <= 20:\n",
    "        print ('Телец')\n",
    "    if 21 <= day <= 31:\n",
    "        print ('Близнецы')\n",
    "        \n",
    "elif month == 'июнь':\n",
    "    if 1 <= day <= 20:\n",
    "        print ('Близнецы')\n",
    "    if 21 <= day <= 31:\n",
    "        print ('Рак')\n",
    "        \n",
    "elif month == 'июль':\n",
    "    if 1 <= day <= 22:\n",
    "        print ('Рак')\n",
    "    if 23 <= day <= 31:\n",
    "        print ('Лев')\n",
    "        \n",
    "elif month == 'август':\n",
    "    if 1 <= day <= 22:\n",
    "        print ('Лев')\n",
    "    if 23 <= day <= 31:\n",
    "        print ('Дева')\n",
    "        \n",
    "elif month == 'сентябрь':\n",
    "    if 1 <= day <= 22:\n",
    "        print ('Дева')\n",
    "    if 23 <= day <= 31:\n",
    "        print ('Весы')\n",
    "        \n",
    "elif month == 'октябрь':\n",
    "    if 1 <= day <= 23:\n",
    "        print ('Весы')\n",
    "    if 24 <= day <= 31:\n",
    "        print ('Скорпион')\n",
    "        \n",
    "elif month == 'ноябрь':\n",
    "    if 1 <= day <= 22:\n",
    "        print ('Скорпион')\n",
    "    if 23 <= day <= 31:\n",
    "        print ('Стрелец')\n",
    "        \n",
    "elif month == 'декабрь':\n",
    "    if 1 <= day <= 21:\n",
    "        print ('Стрелец')\n",
    "    if 22 <= day <= 31:\n",
    "        print ('Козерог')\n",
    "        \n",
    "else:\n",
    "    print ('Введите корректные данные')"
   ]
  },
  {
   "cell_type": "markdown",
   "id": "939d8282",
   "metadata": {},
   "source": [
    "\n",
    "\n",
    "\n"
   ]
  },
  {
   "cell_type": "markdown",
   "id": "ccf25c7a",
   "metadata": {},
   "source": [
    "# Задание 4. \n",
    "### Подбор упаковки"
   ]
  },
  {
   "cell_type": "code",
   "execution_count": null,
   "id": "7cf9ba90",
   "metadata": {},
   "outputs": [],
   "source": [
    "width = int (input ('укажите ширину упаковки в см: '))\n",
    "length = int (input ('укажите длину упаковки в см: '))\n",
    "height = int (input ('укажите высоту упаковки в см: '))\n",
    "\n",
    "if width < 15 and length < 15 and height < 15:\n",
    "    print ('Коробка №1')\n",
    "    \n",
    "elif length > 200:\n",
    "    print ('Упаковка для лыж')\n",
    "    \n",
    "elif 50 > width > 15 or 50 > length > 15 or 50 > height > 15:\n",
    "    print ('Коробка №2')\n",
    "    \n",
    "else:\n",
    "    print ('Стандартная коробка №3')\n"
   ]
  },
  {
   "cell_type": "markdown",
   "id": "85ee14d5",
   "metadata": {},
   "source": [
    "\n",
    "\n",
    "\n"
   ]
  },
  {
   "cell_type": "markdown",
   "id": "ff8cf0a6",
   "metadata": {},
   "source": [
    "# Задание 5. \n",
    "### Поиск счастья в билете"
   ]
  },
  {
   "cell_type": "markdown",
   "id": "47abd36d",
   "metadata": {},
   "source": [
    "\n",
    "\n",
    "\n"
   ]
  },
  {
   "cell_type": "markdown",
   "id": "af57f770",
   "metadata": {},
   "source": [
    "\n",
    "\n",
    "Пока не разобрался..\n"
   ]
  },
  {
   "cell_type": "markdown",
   "id": "1aa3378f",
   "metadata": {},
   "source": [
    "\n",
    "\n",
    "\n"
   ]
  },
  {
   "cell_type": "markdown",
   "id": "cad5da26",
   "metadata": {},
   "source": [
    "# Задание 6. \n",
    "### Вычисление площади"
   ]
  },
  {
   "cell_type": "code",
   "execution_count": 4,
   "id": "ce7eb942",
   "metadata": {},
   "outputs": [
    {
     "name": "stdout",
     "output_type": "stream",
     "text": [
      "укажите фигуру: треугольник\n",
      "укажите сторону а: 2\n",
      "укажите сторону b: 4\n",
      "укажите сторону c: 3\n",
      "2.9047375096555625\n"
     ]
    }
   ],
   "source": [
    "import math\n",
    "\n",
    "shape = input ('укажите фигуру: ')\n",
    "\n",
    "if shape == ('круг'):\n",
    "    radius = int (input ('укажите радиус: '))\n",
    "    print (radius ** 2 * 3.14)\n",
    "    \n",
    "elif shape == ('треугольник'):\n",
    "    side_a = int (input ('укажите сторону а: '))\n",
    "    side_b = int (input ('укажите сторону b: '))\n",
    "    side_c = int (input ('укажите сторону c: '))\n",
    "    p = (side_a+side_b+side_c)/2\n",
    "    s = math.sqrt ( p * (p - side_a) * (p - side_b) * (p - side_c) )\n",
    "    print (s)\n",
    "    \n",
    "elif shape == ('прямоугольник'):\n",
    "    side_a = int (input ('укажите сторону а: '))\n",
    "    side_b = int (input ('укажите сторону b: '))\n",
    "    print (side_a * side_b)\n",
    "    \n",
    "else:\n",
    "    print ('введите название фигуры: круг, треугольник или прямоугольник')"
   ]
  }
 ],
 "metadata": {
  "kernelspec": {
   "display_name": "Python 3",
   "language": "python",
   "name": "python3"
  },
  "language_info": {
   "codemirror_mode": {
    "name": "ipython",
    "version": 3
   },
   "file_extension": ".py",
   "mimetype": "text/x-python",
   "name": "python",
   "nbconvert_exporter": "python",
   "pygments_lexer": "ipython3",
   "version": "3.8.8"
  }
 },
 "nbformat": 4,
 "nbformat_minor": 5
}
