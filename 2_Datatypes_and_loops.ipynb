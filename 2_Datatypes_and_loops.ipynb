{
  "nbformat": 4,
  "nbformat_minor": 0,
  "metadata": {
    "colab": {
      "name": "2_Datatypes_and_loops.ipynb",
      "provenance": [],
      "collapsed_sections": [],
      "authorship_tag": "ABX9TyNQkRU98l4kLSwR3ApcBky3",
      "include_colab_link": true
    },
    "kernelspec": {
      "name": "python3",
      "display_name": "Python 3"
    },
    "language_info": {
      "name": "python"
    }
  },
  "cells": [
    {
      "cell_type": "markdown",
      "metadata": {
        "id": "view-in-github",
        "colab_type": "text"
      },
      "source": [
        "<a href=\"https://colab.research.google.com/github/graff1te/Netology/blob/master/2_Datatypes_and_loops.ipynb\" target=\"_parent\"><img src=\"https://colab.research.google.com/assets/colab-badge.svg\" alt=\"Open In Colab\"/></a>"
      ]
    },
    {
      "cell_type": "markdown",
      "metadata": {
        "id": "n6jg0mP02Uj-"
      },
      "source": [
        "#Задание 1. \n",
        "###Средние буквы в слове\n",
        "- Дана переменная, в которой хранится слово из латинских букв. \n",
        "- Напишите код, который выводит на экран:\n",
        " - среднюю букву, если число букв в слове нечетное;\n",
        " - две средних буквы, если число букв четное."
      ]
    },
    {
      "cell_type": "code",
      "metadata": {
        "colab": {
          "base_uri": "https://localhost:8080/"
        },
        "id": "mq7OdCKNS-r7",
        "outputId": "2bf90737-3364-44f9-901a-a2750c1cf963"
      },
      "source": [
        "word = input()\n",
        "a = int(len(word)/2)\n",
        "\n",
        "if len (word)%2 == 0:\n",
        "  print( f'Средние буквы в слове: {word.upper() [a-1 : a+1]}' )\n",
        "else:\n",
        "  print( f'Средняя буква в слове: {word.upper() [a]}' )"
      ],
      "execution_count": null,
      "outputs": [
        {
          "output_type": "stream",
          "name": "stdout",
          "text": [
            "qwerty\n",
            "Средние буквы в слове: ER\n"
          ]
        }
      ]
    },
    {
      "cell_type": "markdown",
      "metadata": {
        "id": "yzT4mdYK9Ae-"
      },
      "source": [
        "#Задание 2. \n",
        "###Сумма введенных до 0 чисел\n",
        "- Напишите программу, которая последовательно запрашивает у пользователя числа (по одному за раз) и после первого нуля выводит сумму всех ранее введенных чисел."
      ]
    },
    {
      "cell_type": "code",
      "metadata": {
        "colab": {
          "base_uri": "https://localhost:8080/"
        },
        "id": "XokuqX0_5-4W",
        "outputId": "3f44acd0-eb4b-4e38-a5e4-6d4fb84b24da"
      },
      "source": [
        "number = int(input('Введите число: '))\n",
        "number_sum = 0\n",
        "\n",
        "while number !=0:\n",
        "  number_sum = number_sum + number\n",
        "  number = int(input('Введите еще число: '))\n",
        "  \n",
        "print(f'\\nСумма введенных чисел: {number_sum}')"
      ],
      "execution_count": null,
      "outputs": [
        {
          "output_type": "stream",
          "name": "stdout",
          "text": [
            "Введите число: 1\n",
            "Введите еще число: 2\n",
            "Введите еще число: 3\n",
            "Введите еще число: 0\n",
            "\n",
            "Сумма введенных чисел: 6\n"
          ]
        }
      ]
    },
    {
      "cell_type": "markdown",
      "metadata": {
        "id": "ecqnslkxHnKk"
      },
      "source": [
        "#Задание 3. \n",
        "###MVP dating-сервиса\n",
        "- Мы делаем MVP dating-сервиса, и у нас есть список парней и девушек.\n",
        "- Выдвигаем гипотезу: лучшие рекомендации мы получим, если просто отсортируем имена по алфавиту и познакомим людей с одинаковыми индексами после сортировки!\n",
        "- Но мы не будем никого знакомить, если кто-то может остаться без пары:"
      ]
    },
    {
      "cell_type": "markdown",
      "metadata": {
        "id": "DXdftKQKTEbf"
      },
      "source": [
        "Вариант 1."
      ]
    },
    {
      "cell_type": "code",
      "metadata": {
        "colab": {
          "base_uri": "https://localhost:8080/"
        },
        "id": "dkc7fuqh_EVV",
        "outputId": "d571b673-19d8-48ea-afb8-78e3396946e9"
      },
      "source": [
        "boys = ['Peter', 'Alex', 'John', 'Arthur', 'Richard']\n",
        "girls = ['Kate', 'Liza', 'Kira', 'Emma', 'Trisha']\n",
        "\n",
        "a=0\n",
        "\n",
        "if len(boys) == len(girls):\n",
        "  print('Идеальные пары: \\n')\n",
        "  while a != len(boys):\n",
        "    print (f'{sorted(boys)[a]} и {sorted(girls)[a]}')\n",
        "    a = a + 1\n",
        "else : print('Внимание, кто-то может остаться без пары!')\n",
        "  "
      ],
      "execution_count": null,
      "outputs": [
        {
          "output_type": "stream",
          "name": "stdout",
          "text": [
            "Идеальные пары: \n",
            "\n",
            "Alex и Emma\n",
            "Arthur и Kate\n",
            "John и Kira\n",
            "Peter и Liza\n",
            "Richard и Trisha\n"
          ]
        }
      ]
    },
    {
      "cell_type": "markdown",
      "metadata": {
        "id": "scvJ0gl9S_h2"
      },
      "source": [
        "Вариант 2."
      ]
    },
    {
      "cell_type": "code",
      "metadata": {
        "colab": {
          "base_uri": "https://localhost:8080/"
        },
        "id": "9QTrW_SlREtR",
        "outputId": "9ae27423-3cbd-453d-8cd3-77b47f1217e4"
      },
      "source": [
        "boys = ['Peter', 'Alex', 'John', 'Arthur', 'Richard']\n",
        "girls = ['Kate', 'Liza', 'Kira', 'Emma', 'Trisha']\n",
        "\n",
        "if len(boys) == len(girls):\n",
        "  print('Идеальные пары: \\n')\n",
        "\n",
        "  couples_tuple = zip(sorted(boys), sorted(girls))\n",
        "\n",
        "  for couples in couples_tuple:\n",
        "    print(f'{couples[0]} и {couples[1]}')\n",
        "else : print('Внимание, кто-то может остаться без пары!')"
      ],
      "execution_count": null,
      "outputs": [
        {
          "output_type": "stream",
          "name": "stdout",
          "text": [
            "Идеальные пары: \n",
            "\n",
            "Alex и Emma\n",
            "Arthur и Kate\n",
            "John и Kira\n",
            "Peter и Liza\n",
            "Richard и Trisha\n"
          ]
        }
      ]
    },
    {
      "cell_type": "markdown",
      "metadata": {
        "id": "NxXbxOCVTUpz"
      },
      "source": [
        "#Задание 4. \n",
        "###Средняя температура за период в Цельсиях\n",
        "- У нас есть список, содержащий информацию о среднедневной температуре в Фаренгейтах за произвольный период по странам (структура данных в примере). \n",
        "- Необходимо написать код, который рассчитает среднюю температуру за период в Цельсиях(!) для каждой страны."
      ]
    },
    {
      "cell_type": "code",
      "metadata": {
        "colab": {
          "base_uri": "https://localhost:8080/"
        },
        "id": "Mztw4t94Tj4t",
        "outputId": "6abc5de4-7d5e-4d7c-fa92-35c73b735ce2"
      },
      "source": [
        "countries_temperature = [\n",
        "    ['Thailand', [75.2, 77, 78.8, 73.4, 68, 75.2, 77]],\n",
        "    ['Germany', [57.2, 55.4, 59, 59, 53.6]],\n",
        "    ['Russia', [35.6, 37.4, 39.2, 41, 42.8, 39.2, 35.6]],\n",
        "    ['Poland', [50, 50, 53.6, 57.2, 55.4, 55.4]]  ]\n",
        "\n",
        "print('Средняя температура в странах: \\n')\n",
        "\n",
        "for temp in countries_temperature:\n",
        "  result = round((sum(temp[1]) / len(temp[1]) -32)*5/9, 1)\n",
        "  print(f'{temp[0]} - {result} °C')"
      ],
      "execution_count": null,
      "outputs": [
        {
          "output_type": "stream",
          "name": "stdout",
          "text": [
            "Средняя температура в странах: \n",
            "\n",
            "Thailand - 23.9 °C\n",
            "Germany - 13.8 °C\n",
            "Russia - 3.7 °C\n",
            "Poland - 12.0 °C\n"
          ]
        }
      ]
    },
    {
      "cell_type": "markdown",
      "metadata": {
        "id": "7-6CPm4ie9Z8"
      },
      "source": [
        "#Задание 5. \n",
        "###Среднее значение просмотров на пользователя\n",
        "- Дан поток логов по количеству просмотренных страниц для каждого пользователя.\n",
        "- Вам необходимо написать алгоритм, который считает среднее значение просмотров на пользователя. \n",
        "-Т. е. надо посчитать отношение суммы всех просмотров к количеству уникальных пользователей.\n"
      ]
    },
    {
      "cell_type": "code",
      "metadata": {
        "id": "8hoDwQwhfP9z",
        "colab": {
          "base_uri": "https://localhost:8080/"
        },
        "outputId": "9efca972-bbda-42e2-cfeb-dea5bf77c205"
      },
      "source": [
        "stream = [\n",
        "    '2018-01-01,user1,3',\n",
        "    '2018-01-07,user1,4',\n",
        "    '2018-03-29,user1,1',\n",
        "    '2018-04-04,user1,13',\n",
        "    '2018-01-05,user2,7',\n",
        "    '2018-06-14,user3,4',\n",
        "    '2018-07-02,user3,10',\n",
        "    '2018-03-21,user4,19',\n",
        "    '2018-03-22,user4,4',\n",
        "    '2018-04-22,user4,8',\n",
        "    '2018-05-03,user4,9',\n",
        "    '2018-05-11,user4,11', ]\n",
        "\n",
        "views = 0\n",
        "users = []\n",
        "\n",
        "for a in stream:\n",
        "\n",
        "  # делим в цикле элементы списка на вложенные элементы\n",
        "  stream_splited = a.split(',')\n",
        "\n",
        "  # складываем в цикле 3й элемент каждого элемента списка (сумма просмотров)\n",
        "  views = int(stream_splited[2]) + views\n",
        "\n",
        "  # складываем в цикле уникальных юзеров\n",
        "  if stream_splited[1] not in users:\n",
        "    users.append(stream_splited[1])\n",
        "\n",
        "print(f'Количество просмотров: {views}')\n",
        "print(f'Количество уникальных пользователей: {len(users)}')\n",
        "print(f'Среднее количество просмотров на уникального пользователя: {views / len(users)}')\n"
      ],
      "execution_count": null,
      "outputs": [
        {
          "output_type": "stream",
          "name": "stdout",
          "text": [
            "Количество просмотров: 93\n",
            "Количество уникальных пользователей: 4\n",
            "Среднее количество просмотров на уникального пользователя: 23.25\n"
          ]
        }
      ]
    },
    {
      "cell_type": "markdown",
      "metadata": {
        "id": "ze_gzMJIySHl"
      },
      "source": [
        "#Задание 6. \n",
        "###Поиск повторяющихся чисел\n",
        "- Необходимо у пользователя запрашивать набор чисел разделенных пробелом. \n",
        "- В результате в отсортированном порядке должны выводиться числа, которые повторяются в вводе более одного раза."
      ]
    },
    {
      "cell_type": "code",
      "metadata": {
        "colab": {
          "base_uri": "https://localhost:8080/"
        },
        "id": "iwY6nr-yyghD",
        "outputId": "81399e12-0fd4-45a7-a4ab-78e7765a7a0a"
      },
      "source": [
        "numbers = (input('Введите числа, разделенные пробелом: ')).split(' ')\n",
        "\n",
        "repeated_numbers = []\n",
        "\n",
        "for a in numbers:\n",
        "  if a not in repeated_numbers and numbers.count(a) >= 2:\n",
        "    repeated_numbers.append(a)\n",
        "\n",
        "print('Повторяющиеся числа:',  ' '.join(repeated_numbers))\n"
      ],
      "execution_count": null,
      "outputs": [
        {
          "output_type": "stream",
          "name": "stdout",
          "text": [
            "Введите числа, разделенные пробелом: 4 4 4 5 5 6\n",
            "Повторяющиеся числа: 4 5\n"
          ]
        }
      ]
    }
  ]
}