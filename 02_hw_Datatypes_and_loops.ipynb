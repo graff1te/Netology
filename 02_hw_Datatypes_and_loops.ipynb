{
 "cells": [
  {
   "cell_type": "markdown",
   "id": "4685615e",
   "metadata": {},
   "source": [
    "# Задание 1. \n",
    "### Средние буквы в слове"
   ]
  },
  {
   "cell_type": "code",
   "execution_count": 146,
   "id": "deae96a5",
   "metadata": {},
   "outputs": [
    {
     "name": "stdout",
     "output_type": "stream",
     "text": [
      "введите слово: qwerty\n",
      "er\n"
     ]
    }
   ],
   "source": [
    "\n",
    "word = input ('введите слово: ')\n",
    "\n",
    "# если число четное:\n",
    "\n",
    "if (len (word) % 2) == 0:\n",
    "    \n",
    "    a = int (len (word) / 2)\n",
    "    print (word [a-1 : a+1])\n",
    "    \n",
    "# если число не четное:\n",
    "    \n",
    "else:\n",
    "    a = int (len (word) / 2)\n",
    "    print (word [a])\n",
    "    "
   ]
  },
  {
   "cell_type": "markdown",
   "id": "bd742620",
   "metadata": {},
   "source": [
    " "
   ]
  },
  {
   "cell_type": "markdown",
   "id": "cb79696e",
   "metadata": {},
   "source": [
    "# Задание 2. \n",
    "### Сумма введенных до 0 чисел"
   ]
  },
  {
   "cell_type": "markdown",
   "id": "f4c40593",
   "metadata": {},
   "source": [
    " "
   ]
  },
  {
   "cell_type": "code",
   "execution_count": 148,
   "id": "6050558d",
   "metadata": {},
   "outputs": [
    {
     "name": "stdout",
     "output_type": "stream",
     "text": [
      "введите число: 5\n",
      "введите число: 5\n",
      "введите число: 3\n",
      "введите число: 2\n",
      "введите число: 0\n",
      "15\n"
     ]
    }
   ],
   "source": [
    "\n",
    "number = int ( input ('введите число: '))\n",
    "\n",
    "number_sum = 0\n",
    "\n",
    "while number != 0:\n",
    "    number_sum = number_sum + number\n",
    "    number = int ( input ('введите число: '))\n",
    "    \n",
    "print (number_sum)\n"
   ]
  },
  {
   "cell_type": "markdown",
   "id": "38c9bb28",
   "metadata": {},
   "source": [
    " "
   ]
  },
  {
   "cell_type": "markdown",
   "id": "f32fc468",
   "metadata": {},
   "source": [
    "# Задание 3. \n",
    "### MVP dating-сервиса"
   ]
  },
  {
   "cell_type": "code",
   "execution_count": 149,
   "id": "e4bf77cb",
   "metadata": {},
   "outputs": [
    {
     "name": "stdout",
     "output_type": "stream",
     "text": [
      "Идеальные пары:\n",
      "\n",
      "Гриша \t и   Алена\n",
      "Жора \t и   Елена\n",
      "Миша \t и   Маша\n",
      "Рома \t и   Фекла\n"
     ]
    }
   ],
   "source": [
    "\n",
    "boys  = sorted ( ['Рома', 'Миша', 'Жора', 'Гриша'] )\n",
    "girls = sorted ( ['Маша', 'Алена', 'Фекла', 'Елена'] )\n",
    "\n",
    "if len(boys)==len(girls):\n",
    "    print(\"Идеальные пары:\")\n",
    "    print('')\n",
    "    \n",
    "    couples_tuple = zip(boys, girls)\n",
    "    \n",
    "    for couples in couples_tuple:\n",
    "        print(f'{couples[0]} \\t и   {couples[1]}')\n",
    "else:\n",
    "    print ('Внимание, кто-то может остаться без пары!')\n",
    "       "
   ]
  },
  {
   "cell_type": "markdown",
   "id": "dc6dc50f",
   "metadata": {},
   "source": [
    " "
   ]
  },
  {
   "cell_type": "markdown",
   "id": "aa00f876",
   "metadata": {},
   "source": [
    "# Задание 4. \n",
    "### Средняя температура за период в Цельсиях"
   ]
  },
  {
   "cell_type": "code",
   "execution_count": 150,
   "id": "b956aa94",
   "metadata": {},
   "outputs": [
    {
     "name": "stdout",
     "output_type": "stream",
     "text": [
      "Средняя температура в странах:\n",
      "\n",
      "Thailand - 23.9 С\n",
      "Germany - 13.8 С\n",
      "Russia - 3.7 С\n",
      "Poland - 12.0 С\n"
     ]
    }
   ],
   "source": [
    "\n",
    "countries_temp_Far = [\n",
    "['Thailand', [75.2, 77, 78.8, 73.4, 68, 75.2, 77]],\n",
    "['Germany', [57.2, 55.4, 59, 59, 53.6]],\n",
    "['Russia', [35.6, 37.4, 39.2, 41, 42.8, 39.2, 35.6]],\n",
    "['Poland', [50, 50, 53.6, 57.2, 55.4, 55.4]]\n",
    "]\n",
    "\n",
    "print ('Средняя температура в странах:')\n",
    "print('')\n",
    "\n",
    "#работаем с элементами списка с индексом [1] (это вложенный список)\n",
    "for countries_temp_Cel in countries_temp_Far:\n",
    "    \n",
    "    # определяем среднее значение в Фар\n",
    "    average_temp = (sum (countries_temp_Cel [1])) / len (countries_temp_Cel[1])\n",
    "    \n",
    "    # переводим в Цельсии\n",
    "    average_temp = round(((average_temp - 32) / 1.8),1)\n",
    "\n",
    "    print (f'{countries_temp_Cel[0][0:]} - {average_temp} С')\n",
    "    "
   ]
  },
  {
   "cell_type": "markdown",
   "id": "761188f0",
   "metadata": {},
   "source": [
    "# Задание 5. \n",
    "### Среднее значение просмотров на пользователя"
   ]
  },
  {
   "cell_type": "markdown",
   "id": "efd9dac5",
   "metadata": {},
   "source": [
    " "
   ]
  },
  {
   "cell_type": "code",
   "execution_count": 151,
   "id": "e5295f8e",
   "metadata": {},
   "outputs": [
    {
     "name": "stdout",
     "output_type": "stream",
     "text": [
      "Количество просмотров: 93\n",
      "Количество уникальных пользователей: 4\n",
      "Среднее количество просмотров на уникального пользователя:  23.25\n"
     ]
    }
   ],
   "source": [
    "\n",
    "stream = [\n",
    "'2018-01-01,user1,3',\n",
    "'2018-01-07,user1,4',\n",
    "'2018-03-29,user1,1',\n",
    "'2018-04-04,user1,13',\n",
    "'2018-01-05,user2,7',\n",
    "'2018-06-14,user3,4',\n",
    "'2018-07-02,user3,10',\n",
    "'2018-03-21,user4,19',\n",
    "'2018-03-22,user4,4',\n",
    "'2018-04-22,user4,8',\n",
    "'2018-05-03,user4,9',\n",
    "'2018-05-11,user4,11',\n",
    "]\n",
    "\n",
    "# задаем переменные\n",
    "views=0\n",
    "users=[]\n",
    "\n",
    "for a in stream:\n",
    "    \n",
    "    # делим в цикле элементы списка на вложенные элементы\n",
    "    stream_splited = (a[0:]).split(',')\n",
    "    \n",
    "    # складываем в цикле 3й элемент  каждого элемента списка (сумма просмотров)\n",
    "    views = int (stream_splited[2]) + views\n",
    "    \n",
    "    # складываем в цикле уникальных юзеров\n",
    "    if stream_splited[1] not in users:\n",
    "        users.append(stream_splited[1])\n",
    "        \n",
    "print (f'Количество просмотров: {views}')\n",
    "print(f'Количество уникальных пользователей: {len(users)}')\n",
    "\n",
    "print (f'Среднее количество просмотров на уникального пользователя:  {views / len(users)}')\n",
    "\n"
   ]
  },
  {
   "cell_type": "markdown",
   "id": "11f8fd49",
   "metadata": {},
   "source": [
    "# Задание 6. \n",
    "### Поиск повторяющихся чисел"
   ]
  },
  {
   "cell_type": "markdown",
   "id": "087321b0",
   "metadata": {},
   "source": [
    " "
   ]
  },
  {
   "cell_type": "code",
   "execution_count": 152,
   "id": "c6331ec8",
   "metadata": {},
   "outputs": [
    {
     "name": "stdout",
     "output_type": "stream",
     "text": [
      "введите число: 5 5 4 7\n",
      "\n"
     ]
    }
   ],
   "source": [
    "\n",
    "numbers = input ('введите число: ').split() \n",
    "\n",
    "result = []\n",
    "\n",
    "for a in numbers:\n",
    "    \n",
    "    if a not in result and numbers.count('a') >= 2:\n",
    "        \n",
    "        result.append(a)\n",
    "\n",
    "print (' '.join (result))\n",
    "\n",
    "    \n",
    "\n",
    "    \n",
    "\n",
    "\n"
   ]
  },
  {
   "cell_type": "code",
   "execution_count": null,
   "id": "b4ce34d5",
   "metadata": {},
   "outputs": [],
   "source": []
  }
 ],
 "metadata": {
  "kernelspec": {
   "display_name": "Python 3",
   "language": "python",
   "name": "python3"
  },
  "language_info": {
   "codemirror_mode": {
    "name": "ipython",
    "version": 3
   },
   "file_extension": ".py",
   "mimetype": "text/x-python",
   "name": "python",
   "nbconvert_exporter": "python",
   "pygments_lexer": "ipython3",
   "version": "3.8.8"
  }
 },
 "nbformat": 4,
 "nbformat_minor": 5
}
