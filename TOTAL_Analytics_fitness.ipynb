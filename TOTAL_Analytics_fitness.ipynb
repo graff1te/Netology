{
 "cells": [
  {
   "cell_type": "markdown",
   "id": "badd70d5",
   "metadata": {},
   "source": [
    "# <center>Анализ данных и прогноз оттока клиентов фитнесс-клуба</center>"
   ]
  },
  {
   "cell_type": "markdown",
   "id": "736645a1",
   "metadata": {},
   "source": [
    "---\n",
    "### Содержание:\n",
    "\n",
    "-  [Цели дипломной работы](#task1) \n",
    "-  [Описание данных](#task2) \n",
    "-  [Необходимые для работы библиотеки](#task3) \n",
    "1.  [EDA | Исследовательский анализ данных](#task4)   \n",
    " 1.1. [Подготовка данных](#task5)  \n",
    " 1.2. [Оценка коррелирующих с оттоком параметров](#task6)  \n",
    " 1.3. [Общий портрет клиента в разрезе категорий](#task7)  \n",
    " 1.4. [Выводы и предложения](#task8) \n",
    "\n",
    "\n",
    "\n",
    "\n",
    "\n",
    "\n",
    "\n",
    "---"
   ]
  },
  {
   "cell_type": "markdown",
   "id": "bd1cb23b",
   "metadata": {},
   "source": [
    "### <a id = 'task1'> Цели дипломной работы:  \n",
    "1. Построить модель прогноза оттока клиентов на основе имеющихся данных.\n",
    "2. Выявление групп клиентов, с общими характеристиками. \n",
    "    \n",
    "---"
   ]
  },
  {
   "cell_type": "markdown",
   "id": "f1aaefca",
   "metadata": {},
   "source": [
    "## <a id = 'task2'>Описание данных:\n",
    "\n",
    "- '**Churn**' — факт оттока в текущем месяце   \n",
    "\n",
    "### Данные клиента за предыдущий до проверки факта оттока месяц:  \n",
    "\n",
    "\n",
    "- '**gender**' — пол  \n",
    "- '**Near_Location**' — проживание или работа в районе, где находится фитнес-центр  \n",
    "- '**Partner**' — сотрудник компании-партнёра клуба  \n",
    "(сотрудничество с компаниями, чьи\n",
    "сотрудники могут получать скидки на абонемент — в таком случае\n",
    "фитнес-центр хранит информацию о работодателе клиента)  \n",
    "- '**Promo_friends**' — факт первоначальной записи в рамках акции «приведи друга»  \n",
    "(использовал промо-код от знакомого при оплате первого абонемента)  \n",
    "- '**Phone**' — наличие контактного телефона  \n",
    "- '**Age**' — возраст  \n",
    "- '**Lifetime**' — время с момента первого обращения в фитнес-центр (в месяцах)  \n",
    "\n",
    "### Информация на основе журнала посещений, покупок  и информация о текущем статусе абонемента клиента:  \n",
    "\n",
    "\n",
    "- '**Contract_period**' — длительность текущего действующего абонемента (месяц, 3 месяца, 6 месяцев, год)  \n",
    "- '**Month_to_end_contract**' — срок до окончания текущего действующего абонемента (в месяцах)  \n",
    "- '**Group_visits**' — факт посещения групповых занятий  \n",
    "- '**Avg_class_frequency_total**' — средняя частота посещений в неделю за все время с начала действия абонемента  \n",
    "- '**Avg_class_frequency_current_month**' — средняя частота посещений в неделю за предыдущий месяц  \n",
    "- '**Avg_additional_charges_total**' — суммарная выручка от других услуг фитнес-центра: кафе, спорт-товары, косметический и массажный салон  \n",
    "---"
   ]
  },
  {
   "cell_type": "markdown",
   "id": "1717b0fa",
   "metadata": {},
   "source": [
    "### <a id = 'task1'> Импортируем необходимые для работы библиотеки:"
   ]
  },
  {
   "cell_type": "code",
   "execution_count": 161,
   "id": "ec830683",
   "metadata": {},
   "outputs": [],
   "source": [
    "# Построение и обработка таблиц с данными\n",
    "import pandas as pd\n",
    "\n",
    "# Визуализация и построение графиков \n",
    "import matplotlib.pyplot as plt\n",
    "import seaborn as sns\n",
    "import matplotlib as mpl\n",
    "\n",
    "# Статистические функции\n",
    "import scipy.stats as stats \n",
    "\n",
    "# Фильтр незначительных предупреждений\n",
    "import warnings\n",
    "warnings.simplefilter(action='ignore', category=FutureWarning)"
   ]
  },
  {
   "cell_type": "markdown",
   "id": "844a9f12",
   "metadata": {},
   "source": [
    "---\n",
    "# <a id = 'task4'> 1. EDA | Исследовательский анализ данных"
   ]
  },
  {
   "cell_type": "markdown",
   "id": "71c0c880",
   "metadata": {},
   "source": [
    "## <a id = 'task5'> 1.1. Подготовка данных\n",
    "---"
   ]
  },
  {
   "cell_type": "code",
   "execution_count": 2,
   "id": "37f33789",
   "metadata": {},
   "outputs": [
    {
     "data": {
      "text/html": [
       "<div>\n",
       "<style scoped>\n",
       "    .dataframe tbody tr th:only-of-type {\n",
       "        vertical-align: middle;\n",
       "    }\n",
       "\n",
       "    .dataframe tbody tr th {\n",
       "        vertical-align: top;\n",
       "    }\n",
       "\n",
       "    .dataframe thead th {\n",
       "        text-align: right;\n",
       "    }\n",
       "</style>\n",
       "<table border=\"1\" class=\"dataframe\">\n",
       "  <thead>\n",
       "    <tr style=\"text-align: right;\">\n",
       "      <th></th>\n",
       "      <th>gender</th>\n",
       "      <th>Near_Location</th>\n",
       "      <th>Partner</th>\n",
       "      <th>Promo_friends</th>\n",
       "      <th>Phone</th>\n",
       "      <th>Contract_period</th>\n",
       "      <th>Group_visits</th>\n",
       "      <th>Age</th>\n",
       "      <th>Avg_additional_charges_total</th>\n",
       "      <th>Month_to_end_contract</th>\n",
       "      <th>Lifetime</th>\n",
       "      <th>Avg_class_frequency_total</th>\n",
       "      <th>Avg_class_frequency_current_month</th>\n",
       "      <th>Churn</th>\n",
       "    </tr>\n",
       "  </thead>\n",
       "  <tbody>\n",
       "    <tr>\n",
       "      <th>0</th>\n",
       "      <td>1</td>\n",
       "      <td>1</td>\n",
       "      <td>1</td>\n",
       "      <td>1</td>\n",
       "      <td>0</td>\n",
       "      <td>6</td>\n",
       "      <td>1</td>\n",
       "      <td>29</td>\n",
       "      <td>14.227470</td>\n",
       "      <td>5</td>\n",
       "      <td>3</td>\n",
       "      <td>0.020398</td>\n",
       "      <td>0.000000</td>\n",
       "      <td>0</td>\n",
       "    </tr>\n",
       "    <tr>\n",
       "      <th>1</th>\n",
       "      <td>0</td>\n",
       "      <td>1</td>\n",
       "      <td>0</td>\n",
       "      <td>0</td>\n",
       "      <td>1</td>\n",
       "      <td>12</td>\n",
       "      <td>1</td>\n",
       "      <td>31</td>\n",
       "      <td>113.202938</td>\n",
       "      <td>13</td>\n",
       "      <td>7</td>\n",
       "      <td>1.922936</td>\n",
       "      <td>1.910244</td>\n",
       "      <td>0</td>\n",
       "    </tr>\n",
       "    <tr>\n",
       "      <th>2</th>\n",
       "      <td>0</td>\n",
       "      <td>1</td>\n",
       "      <td>1</td>\n",
       "      <td>0</td>\n",
       "      <td>1</td>\n",
       "      <td>1</td>\n",
       "      <td>0</td>\n",
       "      <td>28</td>\n",
       "      <td>129.448479</td>\n",
       "      <td>2</td>\n",
       "      <td>2</td>\n",
       "      <td>1.859098</td>\n",
       "      <td>1.736502</td>\n",
       "      <td>0</td>\n",
       "    </tr>\n",
       "    <tr>\n",
       "      <th>3</th>\n",
       "      <td>0</td>\n",
       "      <td>1</td>\n",
       "      <td>1</td>\n",
       "      <td>1</td>\n",
       "      <td>1</td>\n",
       "      <td>12</td>\n",
       "      <td>1</td>\n",
       "      <td>33</td>\n",
       "      <td>62.669863</td>\n",
       "      <td>12</td>\n",
       "      <td>2</td>\n",
       "      <td>3.205633</td>\n",
       "      <td>3.357215</td>\n",
       "      <td>0</td>\n",
       "    </tr>\n",
       "    <tr>\n",
       "      <th>4</th>\n",
       "      <td>1</td>\n",
       "      <td>1</td>\n",
       "      <td>1</td>\n",
       "      <td>1</td>\n",
       "      <td>1</td>\n",
       "      <td>1</td>\n",
       "      <td>0</td>\n",
       "      <td>26</td>\n",
       "      <td>198.362265</td>\n",
       "      <td>2</td>\n",
       "      <td>3</td>\n",
       "      <td>1.113884</td>\n",
       "      <td>1.120078</td>\n",
       "      <td>0</td>\n",
       "    </tr>\n",
       "  </tbody>\n",
       "</table>\n",
       "</div>"
      ],
      "text/plain": [
       "   gender  Near_Location  Partner  Promo_friends  Phone  Contract_period  \\\n",
       "0       1              1        1              1      0                6   \n",
       "1       0              1        0              0      1               12   \n",
       "2       0              1        1              0      1                1   \n",
       "3       0              1        1              1      1               12   \n",
       "4       1              1        1              1      1                1   \n",
       "\n",
       "   Group_visits  Age  Avg_additional_charges_total  Month_to_end_contract  \\\n",
       "0             1   29                     14.227470                      5   \n",
       "1             1   31                    113.202938                     13   \n",
       "2             0   28                    129.448479                      2   \n",
       "3             1   33                     62.669863                     12   \n",
       "4             0   26                    198.362265                      2   \n",
       "\n",
       "   Lifetime  Avg_class_frequency_total  Avg_class_frequency_current_month  \\\n",
       "0         3                   0.020398                           0.000000   \n",
       "1         7                   1.922936                           1.910244   \n",
       "2         2                   1.859098                           1.736502   \n",
       "3         2                   3.205633                           3.357215   \n",
       "4         3                   1.113884                           1.120078   \n",
       "\n",
       "   Churn  \n",
       "0      0  \n",
       "1      0  \n",
       "2      0  \n",
       "3      0  \n",
       "4      0  "
      ]
     },
     "execution_count": 2,
     "metadata": {},
     "output_type": "execute_result"
    }
   ],
   "source": [
    "# Загружаем данные  \n",
    "\n",
    "df = pd.read_csv('D:\\\\Netology\\\\Модуль 5. Python\\\\TOTAL_Analytics_fitness\\\\gym_dataset.csv')\n",
    "df.head()"
   ]
  },
  {
   "cell_type": "code",
   "execution_count": 3,
   "id": "0cbd6c95",
   "metadata": {},
   "outputs": [
    {
     "data": {
      "text/plain": [
       "False    4000\n",
       "dtype: int64"
      ]
     },
     "execution_count": 3,
     "metadata": {},
     "output_type": "execute_result"
    }
   ],
   "source": [
    "# Проверяем наличие повторов записей\n",
    "\n",
    "df.duplicated().value_counts()"
   ]
  },
  {
   "cell_type": "code",
   "execution_count": 4,
   "id": "28fbc5c1",
   "metadata": {},
   "outputs": [
    {
     "name": "stdout",
     "output_type": "stream",
     "text": [
      "<class 'pandas.core.frame.DataFrame'>\n",
      "RangeIndex: 4000 entries, 0 to 3999\n",
      "Data columns (total 14 columns):\n",
      " #   Column                             Non-Null Count  Dtype  \n",
      "---  ------                             --------------  -----  \n",
      " 0   gender                             4000 non-null   int64  \n",
      " 1   Near_Location                      4000 non-null   int64  \n",
      " 2   Partner                            4000 non-null   int64  \n",
      " 3   Promo_friends                      4000 non-null   int64  \n",
      " 4   Phone                              4000 non-null   int64  \n",
      " 5   Contract_period                    4000 non-null   int64  \n",
      " 6   Group_visits                       4000 non-null   int64  \n",
      " 7   Age                                4000 non-null   int64  \n",
      " 8   Avg_additional_charges_total       4000 non-null   float64\n",
      " 9   Month_to_end_contract              4000 non-null   int64  \n",
      " 10  Lifetime                           4000 non-null   int64  \n",
      " 11  Avg_class_frequency_total          4000 non-null   float64\n",
      " 12  Avg_class_frequency_current_month  4000 non-null   float64\n",
      " 13  Churn                              4000 non-null   int64  \n",
      "dtypes: float64(3), int64(11)\n",
      "memory usage: 437.6 KB\n"
     ]
    }
   ],
   "source": [
    "# Смотрим на описание данных\n",
    "\n",
    "df.info()"
   ]
  },
  {
   "cell_type": "code",
   "execution_count": 5,
   "id": "0f787fde",
   "metadata": {},
   "outputs": [
    {
     "data": {
      "text/html": [
       "<div>\n",
       "<style scoped>\n",
       "    .dataframe tbody tr th:only-of-type {\n",
       "        vertical-align: middle;\n",
       "    }\n",
       "\n",
       "    .dataframe tbody tr th {\n",
       "        vertical-align: top;\n",
       "    }\n",
       "\n",
       "    .dataframe thead th {\n",
       "        text-align: right;\n",
       "    }\n",
       "</style>\n",
       "<table border=\"1\" class=\"dataframe\">\n",
       "  <thead>\n",
       "    <tr style=\"text-align: right;\">\n",
       "      <th></th>\n",
       "      <th>gender</th>\n",
       "      <th>Near_Location</th>\n",
       "      <th>Partner</th>\n",
       "      <th>Promo_friends</th>\n",
       "      <th>Phone</th>\n",
       "      <th>Contract_period</th>\n",
       "      <th>Group_visits</th>\n",
       "      <th>Age</th>\n",
       "      <th>Avg_additional_charges_total</th>\n",
       "      <th>Month_to_end_contract</th>\n",
       "      <th>Lifetime</th>\n",
       "      <th>Avg_class_frequency_total</th>\n",
       "      <th>Avg_class_frequency_current_month</th>\n",
       "      <th>Churn</th>\n",
       "    </tr>\n",
       "  </thead>\n",
       "  <tbody>\n",
       "    <tr>\n",
       "      <th>count</th>\n",
       "      <td>4000.000000</td>\n",
       "      <td>4000.000000</td>\n",
       "      <td>4000.000000</td>\n",
       "      <td>4000.000000</td>\n",
       "      <td>4000.000000</td>\n",
       "      <td>4000.000000</td>\n",
       "      <td>4000.000000</td>\n",
       "      <td>4000.000000</td>\n",
       "      <td>4000.000000</td>\n",
       "      <td>4000.000000</td>\n",
       "      <td>4000.000000</td>\n",
       "      <td>4000.000000</td>\n",
       "      <td>4000.000000</td>\n",
       "      <td>4000.000000</td>\n",
       "    </tr>\n",
       "    <tr>\n",
       "      <th>mean</th>\n",
       "      <td>0.510250</td>\n",
       "      <td>0.845250</td>\n",
       "      <td>0.486750</td>\n",
       "      <td>0.308500</td>\n",
       "      <td>0.903500</td>\n",
       "      <td>4.681250</td>\n",
       "      <td>0.412250</td>\n",
       "      <td>29.184250</td>\n",
       "      <td>146.943728</td>\n",
       "      <td>5.011500</td>\n",
       "      <td>3.724750</td>\n",
       "      <td>1.879020</td>\n",
       "      <td>1.767052</td>\n",
       "      <td>0.265250</td>\n",
       "    </tr>\n",
       "    <tr>\n",
       "      <th>std</th>\n",
       "      <td>0.499957</td>\n",
       "      <td>0.361711</td>\n",
       "      <td>0.499887</td>\n",
       "      <td>0.461932</td>\n",
       "      <td>0.295313</td>\n",
       "      <td>4.549706</td>\n",
       "      <td>0.492301</td>\n",
       "      <td>3.258367</td>\n",
       "      <td>96.355602</td>\n",
       "      <td>3.899573</td>\n",
       "      <td>3.749267</td>\n",
       "      <td>0.972245</td>\n",
       "      <td>1.052906</td>\n",
       "      <td>0.441521</td>\n",
       "    </tr>\n",
       "    <tr>\n",
       "      <th>min</th>\n",
       "      <td>0.000000</td>\n",
       "      <td>0.000000</td>\n",
       "      <td>0.000000</td>\n",
       "      <td>0.000000</td>\n",
       "      <td>0.000000</td>\n",
       "      <td>1.000000</td>\n",
       "      <td>0.000000</td>\n",
       "      <td>18.000000</td>\n",
       "      <td>0.148205</td>\n",
       "      <td>2.000000</td>\n",
       "      <td>0.000000</td>\n",
       "      <td>0.000000</td>\n",
       "      <td>0.000000</td>\n",
       "      <td>0.000000</td>\n",
       "    </tr>\n",
       "    <tr>\n",
       "      <th>25%</th>\n",
       "      <td>0.000000</td>\n",
       "      <td>1.000000</td>\n",
       "      <td>0.000000</td>\n",
       "      <td>0.000000</td>\n",
       "      <td>1.000000</td>\n",
       "      <td>1.000000</td>\n",
       "      <td>0.000000</td>\n",
       "      <td>27.000000</td>\n",
       "      <td>68.868830</td>\n",
       "      <td>2.000000</td>\n",
       "      <td>1.000000</td>\n",
       "      <td>1.180875</td>\n",
       "      <td>0.963003</td>\n",
       "      <td>0.000000</td>\n",
       "    </tr>\n",
       "    <tr>\n",
       "      <th>50%</th>\n",
       "      <td>1.000000</td>\n",
       "      <td>1.000000</td>\n",
       "      <td>0.000000</td>\n",
       "      <td>0.000000</td>\n",
       "      <td>1.000000</td>\n",
       "      <td>1.000000</td>\n",
       "      <td>0.000000</td>\n",
       "      <td>29.000000</td>\n",
       "      <td>136.220159</td>\n",
       "      <td>2.000000</td>\n",
       "      <td>3.000000</td>\n",
       "      <td>1.832768</td>\n",
       "      <td>1.719574</td>\n",
       "      <td>0.000000</td>\n",
       "    </tr>\n",
       "    <tr>\n",
       "      <th>75%</th>\n",
       "      <td>1.000000</td>\n",
       "      <td>1.000000</td>\n",
       "      <td>1.000000</td>\n",
       "      <td>1.000000</td>\n",
       "      <td>1.000000</td>\n",
       "      <td>6.000000</td>\n",
       "      <td>1.000000</td>\n",
       "      <td>31.000000</td>\n",
       "      <td>210.949625</td>\n",
       "      <td>7.000000</td>\n",
       "      <td>5.000000</td>\n",
       "      <td>2.536078</td>\n",
       "      <td>2.510336</td>\n",
       "      <td>1.000000</td>\n",
       "    </tr>\n",
       "    <tr>\n",
       "      <th>max</th>\n",
       "      <td>1.000000</td>\n",
       "      <td>1.000000</td>\n",
       "      <td>1.000000</td>\n",
       "      <td>1.000000</td>\n",
       "      <td>1.000000</td>\n",
       "      <td>12.000000</td>\n",
       "      <td>1.000000</td>\n",
       "      <td>41.000000</td>\n",
       "      <td>552.590740</td>\n",
       "      <td>13.000000</td>\n",
       "      <td>31.000000</td>\n",
       "      <td>6.023668</td>\n",
       "      <td>6.146783</td>\n",
       "      <td>1.000000</td>\n",
       "    </tr>\n",
       "  </tbody>\n",
       "</table>\n",
       "</div>"
      ],
      "text/plain": [
       "            gender  Near_Location      Partner  Promo_friends        Phone  \\\n",
       "count  4000.000000    4000.000000  4000.000000    4000.000000  4000.000000   \n",
       "mean      0.510250       0.845250     0.486750       0.308500     0.903500   \n",
       "std       0.499957       0.361711     0.499887       0.461932     0.295313   \n",
       "min       0.000000       0.000000     0.000000       0.000000     0.000000   \n",
       "25%       0.000000       1.000000     0.000000       0.000000     1.000000   \n",
       "50%       1.000000       1.000000     0.000000       0.000000     1.000000   \n",
       "75%       1.000000       1.000000     1.000000       1.000000     1.000000   \n",
       "max       1.000000       1.000000     1.000000       1.000000     1.000000   \n",
       "\n",
       "       Contract_period  Group_visits          Age  \\\n",
       "count      4000.000000   4000.000000  4000.000000   \n",
       "mean          4.681250      0.412250    29.184250   \n",
       "std           4.549706      0.492301     3.258367   \n",
       "min           1.000000      0.000000    18.000000   \n",
       "25%           1.000000      0.000000    27.000000   \n",
       "50%           1.000000      0.000000    29.000000   \n",
       "75%           6.000000      1.000000    31.000000   \n",
       "max          12.000000      1.000000    41.000000   \n",
       "\n",
       "       Avg_additional_charges_total  Month_to_end_contract     Lifetime  \\\n",
       "count                   4000.000000            4000.000000  4000.000000   \n",
       "mean                     146.943728               5.011500     3.724750   \n",
       "std                       96.355602               3.899573     3.749267   \n",
       "min                        0.148205               2.000000     0.000000   \n",
       "25%                       68.868830               2.000000     1.000000   \n",
       "50%                      136.220159               2.000000     3.000000   \n",
       "75%                      210.949625               7.000000     5.000000   \n",
       "max                      552.590740              13.000000    31.000000   \n",
       "\n",
       "       Avg_class_frequency_total  Avg_class_frequency_current_month  \\\n",
       "count                4000.000000                        4000.000000   \n",
       "mean                    1.879020                           1.767052   \n",
       "std                     0.972245                           1.052906   \n",
       "min                     0.000000                           0.000000   \n",
       "25%                     1.180875                           0.963003   \n",
       "50%                     1.832768                           1.719574   \n",
       "75%                     2.536078                           2.510336   \n",
       "max                     6.023668                           6.146783   \n",
       "\n",
       "             Churn  \n",
       "count  4000.000000  \n",
       "mean      0.265250  \n",
       "std       0.441521  \n",
       "min       0.000000  \n",
       "25%       0.000000  \n",
       "50%       0.000000  \n",
       "75%       1.000000  \n",
       "max       1.000000  "
      ]
     },
     "execution_count": 5,
     "metadata": {},
     "output_type": "execute_result"
    }
   ],
   "source": [
    "# Выводим основную статистику\n",
    "\n",
    "df.describe()"
   ]
  },
  {
   "cell_type": "markdown",
   "id": "31014d5a",
   "metadata": {},
   "source": [
    "---\n",
    "- Набор данных состоит из 4000 записей, состоящих из 14 параметров.  \n",
    "- Повторов записей нет.\n",
    "- Все данные имеют численное выражение (целые и дробные).  \n",
    "- Значений, не соответствующих условиям диапазона для допустимых нет.  \n",
    "- Исходя из известных диапазонов значений, по основной статистике можем сделать вывод об осутствии выбросов в значениях, кроме параметра 'Avg_additional_charges_total'.  \n",
    "- Пропусков нет. На всякий случай проверяем:\n",
    "---"
   ]
  },
  {
   "cell_type": "code",
   "execution_count": 6,
   "id": "a519348a",
   "metadata": {},
   "outputs": [
    {
     "name": "stdout",
     "output_type": "stream",
     "text": [
      "gender                               0\n",
      "Near_Location                        0\n",
      "Partner                              0\n",
      "Promo_friends                        0\n",
      "Phone                                0\n",
      "Contract_period                      0\n",
      "Group_visits                         0\n",
      "Age                                  0\n",
      "Avg_additional_charges_total         0\n",
      "Month_to_end_contract                0\n",
      "Lifetime                             0\n",
      "Avg_class_frequency_total            0\n",
      "Avg_class_frequency_current_month    0\n",
      "Churn                                0\n",
      "dtype: int64\n"
     ]
    }
   ],
   "source": [
    "# Считаем количество пропусков в каждом столбце\n",
    "\n",
    "print(df.isnull().sum())\n",
    "\n",
    "# % пропусков в каждом столбце\n",
    "# (df.isnull().mean() * 100).round(2)"
   ]
  },
  {
   "cell_type": "markdown",
   "id": "2ede480e",
   "metadata": {},
   "source": [
    "---\n",
    "Стоит проверить наличие выбросов в значениях параметра 'Avg_additional_charges_total' (суммарная выручка от других услуг)  \n",
    "Через межквартильный размах корректно искать выбросы в нормально распределенных данных  \n",
    "Оцениваем нормальность распределения визуально:\n",
    "\n",
    "---"
   ]
  },
  {
   "cell_type": "code",
   "execution_count": 160,
   "id": "148485b0",
   "metadata": {},
   "outputs": [
    {
     "data": {
      "text/plain": [
       "NormaltestResult(statistic=217.1033594810358, pvalue=7.187940729972919e-48)"
      ]
     },
     "execution_count": 160,
     "metadata": {},
     "output_type": "execute_result"
    }
   ],
   "source": [
    "stats.normaltest(df['Avg_additional_charges_total'])"
   ]
  },
  {
   "cell_type": "code",
   "execution_count": 8,
   "id": "5831b977",
   "metadata": {},
   "outputs": [
    {
     "data": {
      "text/plain": [
       "<AxesSubplot:xlabel='Avg_additional_charges_total', ylabel='Density'>"
      ]
     },
     "execution_count": 8,
     "metadata": {},
     "output_type": "execute_result"
    },
    {
     "data": {
      "image/png": "[encoded data removed]",
      "text/plain": [
       "<Figure size 432x288 with 1 Axes>"
      ]
     },
     "metadata": {
      "needs_background": "light"
     },
     "output_type": "display_data"
    }
   ],
   "source": [
    "sns.distplot(df.Avg_additional_charges_total)"
   ]
  },
  {
   "cell_type": "markdown",
   "id": "8a9afc37",
   "metadata": {},
   "source": [
    "---\n",
    "Видим распределение, похожее на нормальное, но 'односторонее'  \n",
    "Выбросы возможны только со стороны upper_bound\n",
    "\n",
    "---"
   ]
  },
  {
   "cell_type": "code",
   "execution_count": 9,
   "id": "559c0a65",
   "metadata": {},
   "outputs": [
    {
     "name": "stdout",
     "output_type": "stream",
     "text": [
      "% выбросов по методу квантилей: 0.73\n"
     ]
    }
   ],
   "source": [
    "# Проверяем наличие выбросов в столбце 'Avg_additional_charges_total'\n",
    "# Допустинмые значения: >lower_bound и <upper_bound\n",
    "\n",
    "q1 = df['Avg_additional_charges_total'].quantile(0.25)\n",
    "q3 = df['Avg_additional_charges_total'].quantile(0.75)\n",
    "iqr = q3 - q1\n",
    "lower_bound = q1 - (1.5 * iqr) \n",
    "upper_bound = q3 + (1.5 * iqr)\n",
    "\n",
    "print('% выбросов по методу квантилей:',\n",
    "    round(len(df[(\n",
    "    (df['Avg_additional_charges_total'] < lower_bound) | \n",
    "    (df['Avg_additional_charges_total'] > upper_bound) \n",
    ")]) / len(df['Avg_additional_charges_total']) *100, 2)\n",
    ")"
   ]
  },
  {
   "cell_type": "code",
   "execution_count": 10,
   "id": "587e9eec",
   "metadata": {},
   "outputs": [
    {
     "data": {
      "text/plain": [
       "<AxesSubplot:title={'center':'Выбросы по методу квантилей'}>"
      ]
     },
     "execution_count": 10,
     "metadata": {},
     "output_type": "execute_result"
    },
    {
     "data": {
      "image/png": "[encoded data removed]",
      "text/plain": [
       "<Figure size 432x288 with 1 Axes>"
      ]
     },
     "metadata": {
      "needs_background": "light"
     },
     "output_type": "display_data"
    }
   ],
   "source": [
    "df['Avg_additional_charges_total'].plot(kind='box', title='Выбросы по методу квантилей', grid=True)"
   ]
  },
  {
   "cell_type": "code",
   "execution_count": 11,
   "id": "f91f4373",
   "metadata": {},
   "outputs": [
    {
     "data": {
      "text/html": [
       "<div>\n",
       "<style scoped>\n",
       "    .dataframe tbody tr th:only-of-type {\n",
       "        vertical-align: middle;\n",
       "    }\n",
       "\n",
       "    .dataframe tbody tr th {\n",
       "        vertical-align: top;\n",
       "    }\n",
       "\n",
       "    .dataframe thead th {\n",
       "        text-align: right;\n",
       "    }\n",
       "</style>\n",
       "<table border=\"1\" class=\"dataframe\">\n",
       "  <thead>\n",
       "    <tr style=\"text-align: right;\">\n",
       "      <th></th>\n",
       "      <th>gender</th>\n",
       "      <th>Near_Location</th>\n",
       "      <th>Partner</th>\n",
       "      <th>Promo_friends</th>\n",
       "      <th>Phone</th>\n",
       "      <th>Contract_period</th>\n",
       "      <th>Group_visits</th>\n",
       "      <th>Age</th>\n",
       "      <th>Avg_additional_charges_total</th>\n",
       "      <th>Month_to_end_contract</th>\n",
       "      <th>Lifetime</th>\n",
       "      <th>Avg_class_frequency_total</th>\n",
       "      <th>Avg_class_frequency_current_month</th>\n",
       "      <th>Churn</th>\n",
       "    </tr>\n",
       "  </thead>\n",
       "  <tbody>\n",
       "    <tr>\n",
       "      <th>5</th>\n",
       "      <td>1</td>\n",
       "      <td>1</td>\n",
       "      <td>0</td>\n",
       "      <td>0</td>\n",
       "      <td>1</td>\n",
       "      <td>1</td>\n",
       "      <td>1</td>\n",
       "      <td>34</td>\n",
       "      <td>450.743960</td>\n",
       "      <td>2</td>\n",
       "      <td>3</td>\n",
       "      <td>2.623477</td>\n",
       "      <td>2.637007</td>\n",
       "      <td>0</td>\n",
       "    </tr>\n",
       "    <tr>\n",
       "      <th>483</th>\n",
       "      <td>0</td>\n",
       "      <td>1</td>\n",
       "      <td>0</td>\n",
       "      <td>0</td>\n",
       "      <td>1</td>\n",
       "      <td>1</td>\n",
       "      <td>0</td>\n",
       "      <td>28</td>\n",
       "      <td>455.173225</td>\n",
       "      <td>2</td>\n",
       "      <td>5</td>\n",
       "      <td>2.092353</td>\n",
       "      <td>2.154556</td>\n",
       "      <td>0</td>\n",
       "    </tr>\n",
       "    <tr>\n",
       "      <th>761</th>\n",
       "      <td>0</td>\n",
       "      <td>1</td>\n",
       "      <td>0</td>\n",
       "      <td>0</td>\n",
       "      <td>1</td>\n",
       "      <td>1</td>\n",
       "      <td>1</td>\n",
       "      <td>27</td>\n",
       "      <td>472.318897</td>\n",
       "      <td>2</td>\n",
       "      <td>5</td>\n",
       "      <td>3.547490</td>\n",
       "      <td>3.755130</td>\n",
       "      <td>0</td>\n",
       "    </tr>\n",
       "    <tr>\n",
       "      <th>822</th>\n",
       "      <td>0</td>\n",
       "      <td>1</td>\n",
       "      <td>1</td>\n",
       "      <td>1</td>\n",
       "      <td>1</td>\n",
       "      <td>1</td>\n",
       "      <td>1</td>\n",
       "      <td>29</td>\n",
       "      <td>460.904008</td>\n",
       "      <td>2</td>\n",
       "      <td>10</td>\n",
       "      <td>3.157764</td>\n",
       "      <td>3.154869</td>\n",
       "      <td>0</td>\n",
       "    </tr>\n",
       "    <tr>\n",
       "      <th>862</th>\n",
       "      <td>1</td>\n",
       "      <td>1</td>\n",
       "      <td>0</td>\n",
       "      <td>0</td>\n",
       "      <td>1</td>\n",
       "      <td>1</td>\n",
       "      <td>0</td>\n",
       "      <td>34</td>\n",
       "      <td>445.954527</td>\n",
       "      <td>2</td>\n",
       "      <td>1</td>\n",
       "      <td>1.872359</td>\n",
       "      <td>1.892621</td>\n",
       "      <td>0</td>\n",
       "    </tr>\n",
       "    <tr>\n",
       "      <th>975</th>\n",
       "      <td>0</td>\n",
       "      <td>0</td>\n",
       "      <td>1</td>\n",
       "      <td>0</td>\n",
       "      <td>1</td>\n",
       "      <td>12</td>\n",
       "      <td>1</td>\n",
       "      <td>32</td>\n",
       "      <td>552.590740</td>\n",
       "      <td>12</td>\n",
       "      <td>1</td>\n",
       "      <td>0.887859</td>\n",
       "      <td>0.939304</td>\n",
       "      <td>0</td>\n",
       "    </tr>\n",
       "    <tr>\n",
       "      <th>999</th>\n",
       "      <td>0</td>\n",
       "      <td>1</td>\n",
       "      <td>1</td>\n",
       "      <td>1</td>\n",
       "      <td>1</td>\n",
       "      <td>12</td>\n",
       "      <td>1</td>\n",
       "      <td>28</td>\n",
       "      <td>457.406479</td>\n",
       "      <td>9</td>\n",
       "      <td>1</td>\n",
       "      <td>1.718064</td>\n",
       "      <td>1.655872</td>\n",
       "      <td>0</td>\n",
       "    </tr>\n",
       "    <tr>\n",
       "      <th>1400</th>\n",
       "      <td>1</td>\n",
       "      <td>1</td>\n",
       "      <td>0</td>\n",
       "      <td>0</td>\n",
       "      <td>1</td>\n",
       "      <td>6</td>\n",
       "      <td>1</td>\n",
       "      <td>31</td>\n",
       "      <td>462.178660</td>\n",
       "      <td>5</td>\n",
       "      <td>0</td>\n",
       "      <td>2.504586</td>\n",
       "      <td>2.453484</td>\n",
       "      <td>0</td>\n",
       "    </tr>\n",
       "    <tr>\n",
       "      <th>1597</th>\n",
       "      <td>0</td>\n",
       "      <td>0</td>\n",
       "      <td>0</td>\n",
       "      <td>0</td>\n",
       "      <td>1</td>\n",
       "      <td>6</td>\n",
       "      <td>0</td>\n",
       "      <td>31</td>\n",
       "      <td>471.720040</td>\n",
       "      <td>7</td>\n",
       "      <td>21</td>\n",
       "      <td>3.284087</td>\n",
       "      <td>3.294925</td>\n",
       "      <td>0</td>\n",
       "    </tr>\n",
       "    <tr>\n",
       "      <th>1756</th>\n",
       "      <td>1</td>\n",
       "      <td>1</td>\n",
       "      <td>0</td>\n",
       "      <td>0</td>\n",
       "      <td>1</td>\n",
       "      <td>1</td>\n",
       "      <td>1</td>\n",
       "      <td>30</td>\n",
       "      <td>456.861001</td>\n",
       "      <td>2</td>\n",
       "      <td>2</td>\n",
       "      <td>1.937277</td>\n",
       "      <td>2.011021</td>\n",
       "      <td>0</td>\n",
       "    </tr>\n",
       "    <tr>\n",
       "      <th>1757</th>\n",
       "      <td>1</td>\n",
       "      <td>1</td>\n",
       "      <td>0</td>\n",
       "      <td>0</td>\n",
       "      <td>1</td>\n",
       "      <td>1</td>\n",
       "      <td>0</td>\n",
       "      <td>30</td>\n",
       "      <td>425.535220</td>\n",
       "      <td>2</td>\n",
       "      <td>5</td>\n",
       "      <td>1.010425</td>\n",
       "      <td>0.154223</td>\n",
       "      <td>1</td>\n",
       "    </tr>\n",
       "    <tr>\n",
       "      <th>1797</th>\n",
       "      <td>0</td>\n",
       "      <td>1</td>\n",
       "      <td>1</td>\n",
       "      <td>0</td>\n",
       "      <td>0</td>\n",
       "      <td>1</td>\n",
       "      <td>0</td>\n",
       "      <td>27</td>\n",
       "      <td>496.172222</td>\n",
       "      <td>2</td>\n",
       "      <td>6</td>\n",
       "      <td>1.630830</td>\n",
       "      <td>1.620165</td>\n",
       "      <td>0</td>\n",
       "    </tr>\n",
       "    <tr>\n",
       "      <th>1958</th>\n",
       "      <td>0</td>\n",
       "      <td>0</td>\n",
       "      <td>1</td>\n",
       "      <td>0</td>\n",
       "      <td>0</td>\n",
       "      <td>1</td>\n",
       "      <td>1</td>\n",
       "      <td>26</td>\n",
       "      <td>464.068749</td>\n",
       "      <td>2</td>\n",
       "      <td>4</td>\n",
       "      <td>3.350751</td>\n",
       "      <td>3.259372</td>\n",
       "      <td>0</td>\n",
       "    </tr>\n",
       "    <tr>\n",
       "      <th>2059</th>\n",
       "      <td>0</td>\n",
       "      <td>1</td>\n",
       "      <td>1</td>\n",
       "      <td>0</td>\n",
       "      <td>1</td>\n",
       "      <td>6</td>\n",
       "      <td>0</td>\n",
       "      <td>33</td>\n",
       "      <td>431.061636</td>\n",
       "      <td>7</td>\n",
       "      <td>5</td>\n",
       "      <td>4.005287</td>\n",
       "      <td>4.119855</td>\n",
       "      <td>0</td>\n",
       "    </tr>\n",
       "    <tr>\n",
       "      <th>2063</th>\n",
       "      <td>0</td>\n",
       "      <td>1</td>\n",
       "      <td>1</td>\n",
       "      <td>0</td>\n",
       "      <td>1</td>\n",
       "      <td>12</td>\n",
       "      <td>0</td>\n",
       "      <td>32</td>\n",
       "      <td>488.708175</td>\n",
       "      <td>12</td>\n",
       "      <td>2</td>\n",
       "      <td>1.073821</td>\n",
       "      <td>1.065885</td>\n",
       "      <td>0</td>\n",
       "    </tr>\n",
       "    <tr>\n",
       "      <th>2202</th>\n",
       "      <td>0</td>\n",
       "      <td>1</td>\n",
       "      <td>0</td>\n",
       "      <td>0</td>\n",
       "      <td>1</td>\n",
       "      <td>6</td>\n",
       "      <td>0</td>\n",
       "      <td>30</td>\n",
       "      <td>440.653490</td>\n",
       "      <td>7</td>\n",
       "      <td>3</td>\n",
       "      <td>1.191834</td>\n",
       "      <td>1.202961</td>\n",
       "      <td>0</td>\n",
       "    </tr>\n",
       "    <tr>\n",
       "      <th>2267</th>\n",
       "      <td>1</td>\n",
       "      <td>1</td>\n",
       "      <td>1</td>\n",
       "      <td>0</td>\n",
       "      <td>1</td>\n",
       "      <td>12</td>\n",
       "      <td>0</td>\n",
       "      <td>25</td>\n",
       "      <td>449.033720</td>\n",
       "      <td>12</td>\n",
       "      <td>7</td>\n",
       "      <td>0.014710</td>\n",
       "      <td>0.037995</td>\n",
       "      <td>0</td>\n",
       "    </tr>\n",
       "    <tr>\n",
       "      <th>2276</th>\n",
       "      <td>0</td>\n",
       "      <td>1</td>\n",
       "      <td>1</td>\n",
       "      <td>0</td>\n",
       "      <td>1</td>\n",
       "      <td>12</td>\n",
       "      <td>0</td>\n",
       "      <td>29</td>\n",
       "      <td>424.353056</td>\n",
       "      <td>13</td>\n",
       "      <td>8</td>\n",
       "      <td>3.653327</td>\n",
       "      <td>3.539171</td>\n",
       "      <td>0</td>\n",
       "    </tr>\n",
       "    <tr>\n",
       "      <th>2284</th>\n",
       "      <td>0</td>\n",
       "      <td>1</td>\n",
       "      <td>1</td>\n",
       "      <td>0</td>\n",
       "      <td>1</td>\n",
       "      <td>12</td>\n",
       "      <td>0</td>\n",
       "      <td>32</td>\n",
       "      <td>432.070355</td>\n",
       "      <td>11</td>\n",
       "      <td>4</td>\n",
       "      <td>0.784571</td>\n",
       "      <td>0.758408</td>\n",
       "      <td>0</td>\n",
       "    </tr>\n",
       "    <tr>\n",
       "      <th>2313</th>\n",
       "      <td>0</td>\n",
       "      <td>1</td>\n",
       "      <td>0</td>\n",
       "      <td>0</td>\n",
       "      <td>1</td>\n",
       "      <td>12</td>\n",
       "      <td>1</td>\n",
       "      <td>30</td>\n",
       "      <td>466.027640</td>\n",
       "      <td>10</td>\n",
       "      <td>1</td>\n",
       "      <td>3.519716</td>\n",
       "      <td>3.548916</td>\n",
       "      <td>0</td>\n",
       "    </tr>\n",
       "    <tr>\n",
       "      <th>2342</th>\n",
       "      <td>1</td>\n",
       "      <td>1</td>\n",
       "      <td>0</td>\n",
       "      <td>0</td>\n",
       "      <td>1</td>\n",
       "      <td>1</td>\n",
       "      <td>1</td>\n",
       "      <td>32</td>\n",
       "      <td>442.976355</td>\n",
       "      <td>2</td>\n",
       "      <td>1</td>\n",
       "      <td>1.884685</td>\n",
       "      <td>1.969210</td>\n",
       "      <td>0</td>\n",
       "    </tr>\n",
       "    <tr>\n",
       "      <th>2394</th>\n",
       "      <td>0</td>\n",
       "      <td>0</td>\n",
       "      <td>0</td>\n",
       "      <td>0</td>\n",
       "      <td>1</td>\n",
       "      <td>6</td>\n",
       "      <td>1</td>\n",
       "      <td>32</td>\n",
       "      <td>515.392606</td>\n",
       "      <td>7</td>\n",
       "      <td>4</td>\n",
       "      <td>0.000000</td>\n",
       "      <td>0.000000</td>\n",
       "      <td>0</td>\n",
       "    </tr>\n",
       "    <tr>\n",
       "      <th>2648</th>\n",
       "      <td>0</td>\n",
       "      <td>1</td>\n",
       "      <td>1</td>\n",
       "      <td>0</td>\n",
       "      <td>1</td>\n",
       "      <td>1</td>\n",
       "      <td>1</td>\n",
       "      <td>27</td>\n",
       "      <td>456.934348</td>\n",
       "      <td>2</td>\n",
       "      <td>14</td>\n",
       "      <td>2.649489</td>\n",
       "      <td>2.628932</td>\n",
       "      <td>0</td>\n",
       "    </tr>\n",
       "    <tr>\n",
       "      <th>3541</th>\n",
       "      <td>0</td>\n",
       "      <td>1</td>\n",
       "      <td>0</td>\n",
       "      <td>0</td>\n",
       "      <td>1</td>\n",
       "      <td>1</td>\n",
       "      <td>0</td>\n",
       "      <td>28</td>\n",
       "      <td>476.432655</td>\n",
       "      <td>2</td>\n",
       "      <td>4</td>\n",
       "      <td>3.207606</td>\n",
       "      <td>3.154818</td>\n",
       "      <td>0</td>\n",
       "    </tr>\n",
       "    <tr>\n",
       "      <th>3632</th>\n",
       "      <td>0</td>\n",
       "      <td>1</td>\n",
       "      <td>0</td>\n",
       "      <td>0</td>\n",
       "      <td>1</td>\n",
       "      <td>1</td>\n",
       "      <td>1</td>\n",
       "      <td>28</td>\n",
       "      <td>434.530332</td>\n",
       "      <td>2</td>\n",
       "      <td>3</td>\n",
       "      <td>0.562089</td>\n",
       "      <td>0.392896</td>\n",
       "      <td>0</td>\n",
       "    </tr>\n",
       "    <tr>\n",
       "      <th>3799</th>\n",
       "      <td>1</td>\n",
       "      <td>0</td>\n",
       "      <td>0</td>\n",
       "      <td>0</td>\n",
       "      <td>1</td>\n",
       "      <td>1</td>\n",
       "      <td>1</td>\n",
       "      <td>31</td>\n",
       "      <td>534.256182</td>\n",
       "      <td>2</td>\n",
       "      <td>2</td>\n",
       "      <td>2.325128</td>\n",
       "      <td>2.267241</td>\n",
       "      <td>0</td>\n",
       "    </tr>\n",
       "    <tr>\n",
       "      <th>3869</th>\n",
       "      <td>0</td>\n",
       "      <td>1</td>\n",
       "      <td>1</td>\n",
       "      <td>1</td>\n",
       "      <td>1</td>\n",
       "      <td>12</td>\n",
       "      <td>1</td>\n",
       "      <td>30</td>\n",
       "      <td>429.469075</td>\n",
       "      <td>12</td>\n",
       "      <td>3</td>\n",
       "      <td>2.499115</td>\n",
       "      <td>2.400492</td>\n",
       "      <td>0</td>\n",
       "    </tr>\n",
       "    <tr>\n",
       "      <th>3892</th>\n",
       "      <td>1</td>\n",
       "      <td>1</td>\n",
       "      <td>1</td>\n",
       "      <td>0</td>\n",
       "      <td>1</td>\n",
       "      <td>1</td>\n",
       "      <td>0</td>\n",
       "      <td>26</td>\n",
       "      <td>429.151779</td>\n",
       "      <td>2</td>\n",
       "      <td>1</td>\n",
       "      <td>2.624928</td>\n",
       "      <td>2.718264</td>\n",
       "      <td>0</td>\n",
       "    </tr>\n",
       "    <tr>\n",
       "      <th>3942</th>\n",
       "      <td>0</td>\n",
       "      <td>1</td>\n",
       "      <td>0</td>\n",
       "      <td>0</td>\n",
       "      <td>1</td>\n",
       "      <td>1</td>\n",
       "      <td>0</td>\n",
       "      <td>28</td>\n",
       "      <td>468.205360</td>\n",
       "      <td>2</td>\n",
       "      <td>2</td>\n",
       "      <td>0.763912</td>\n",
       "      <td>0.660546</td>\n",
       "      <td>0</td>\n",
       "    </tr>\n",
       "  </tbody>\n",
       "</table>\n",
       "</div>"
      ],
      "text/plain": [
       "      gender  Near_Location  Partner  Promo_friends  Phone  Contract_period  \\\n",
       "5          1              1        0              0      1                1   \n",
       "483        0              1        0              0      1                1   \n",
       "761        0              1        0              0      1                1   \n",
       "822        0              1        1              1      1                1   \n",
       "862        1              1        0              0      1                1   \n",
       "975        0              0        1              0      1               12   \n",
       "999        0              1        1              1      1               12   \n",
       "1400       1              1        0              0      1                6   \n",
       "1597       0              0        0              0      1                6   \n",
       "1756       1              1        0              0      1                1   \n",
       "1757       1              1        0              0      1                1   \n",
       "1797       0              1        1              0      0                1   \n",
       "1958       0              0        1              0      0                1   \n",
       "2059       0              1        1              0      1                6   \n",
       "2063       0              1        1              0      1               12   \n",
       "2202       0              1        0              0      1                6   \n",
       "2267       1              1        1              0      1               12   \n",
       "2276       0              1        1              0      1               12   \n",
       "2284       0              1        1              0      1               12   \n",
       "2313       0              1        0              0      1               12   \n",
       "2342       1              1        0              0      1                1   \n",
       "2394       0              0        0              0      1                6   \n",
       "2648       0              1        1              0      1                1   \n",
       "3541       0              1        0              0      1                1   \n",
       "3632       0              1        0              0      1                1   \n",
       "3799       1              0        0              0      1                1   \n",
       "3869       0              1        1              1      1               12   \n",
       "3892       1              1        1              0      1                1   \n",
       "3942       0              1        0              0      1                1   \n",
       "\n",
       "      Group_visits  Age  Avg_additional_charges_total  Month_to_end_contract  \\\n",
       "5                1   34                    450.743960                      2   \n",
       "483              0   28                    455.173225                      2   \n",
       "761              1   27                    472.318897                      2   \n",
       "822              1   29                    460.904008                      2   \n",
       "862              0   34                    445.954527                      2   \n",
       "975              1   32                    552.590740                     12   \n",
       "999              1   28                    457.406479                      9   \n",
       "1400             1   31                    462.178660                      5   \n",
       "1597             0   31                    471.720040                      7   \n",
       "1756             1   30                    456.861001                      2   \n",
       "1757             0   30                    425.535220                      2   \n",
       "1797             0   27                    496.172222                      2   \n",
       "1958             1   26                    464.068749                      2   \n",
       "2059             0   33                    431.061636                      7   \n",
       "2063             0   32                    488.708175                     12   \n",
       "2202             0   30                    440.653490                      7   \n",
       "2267             0   25                    449.033720                     12   \n",
       "2276             0   29                    424.353056                     13   \n",
       "2284             0   32                    432.070355                     11   \n",
       "2313             1   30                    466.027640                     10   \n",
       "2342             1   32                    442.976355                      2   \n",
       "2394             1   32                    515.392606                      7   \n",
       "2648             1   27                    456.934348                      2   \n",
       "3541             0   28                    476.432655                      2   \n",
       "3632             1   28                    434.530332                      2   \n",
       "3799             1   31                    534.256182                      2   \n",
       "3869             1   30                    429.469075                     12   \n",
       "3892             0   26                    429.151779                      2   \n",
       "3942             0   28                    468.205360                      2   \n",
       "\n",
       "      Lifetime  Avg_class_frequency_total  Avg_class_frequency_current_month  \\\n",
       "5            3                   2.623477                           2.637007   \n",
       "483          5                   2.092353                           2.154556   \n",
       "761          5                   3.547490                           3.755130   \n",
       "822         10                   3.157764                           3.154869   \n",
       "862          1                   1.872359                           1.892621   \n",
       "975          1                   0.887859                           0.939304   \n",
       "999          1                   1.718064                           1.655872   \n",
       "1400         0                   2.504586                           2.453484   \n",
       "1597        21                   3.284087                           3.294925   \n",
       "1756         2                   1.937277                           2.011021   \n",
       "1757         5                   1.010425                           0.154223   \n",
       "1797         6                   1.630830                           1.620165   \n",
       "1958         4                   3.350751                           3.259372   \n",
       "2059         5                   4.005287                           4.119855   \n",
       "2063         2                   1.073821                           1.065885   \n",
       "2202         3                   1.191834                           1.202961   \n",
       "2267         7                   0.014710                           0.037995   \n",
       "2276         8                   3.653327                           3.539171   \n",
       "2284         4                   0.784571                           0.758408   \n",
       "2313         1                   3.519716                           3.548916   \n",
       "2342         1                   1.884685                           1.969210   \n",
       "2394         4                   0.000000                           0.000000   \n",
       "2648        14                   2.649489                           2.628932   \n",
       "3541         4                   3.207606                           3.154818   \n",
       "3632         3                   0.562089                           0.392896   \n",
       "3799         2                   2.325128                           2.267241   \n",
       "3869         3                   2.499115                           2.400492   \n",
       "3892         1                   2.624928                           2.718264   \n",
       "3942         2                   0.763912                           0.660546   \n",
       "\n",
       "      Churn  \n",
       "5         0  \n",
       "483       0  \n",
       "761       0  \n",
       "822       0  \n",
       "862       0  \n",
       "975       0  \n",
       "999       0  \n",
       "1400      0  \n",
       "1597      0  \n",
       "1756      0  \n",
       "1757      1  \n",
       "1797      0  \n",
       "1958      0  \n",
       "2059      0  \n",
       "2063      0  \n",
       "2202      0  \n",
       "2267      0  \n",
       "2276      0  \n",
       "2284      0  \n",
       "2313      0  \n",
       "2342      0  \n",
       "2394      0  \n",
       "2648      0  \n",
       "3541      0  \n",
       "3632      0  \n",
       "3799      0  \n",
       "3869      0  \n",
       "3892      0  \n",
       "3942      0  "
      ]
     },
     "execution_count": 11,
     "metadata": {},
     "output_type": "execute_result"
    }
   ],
   "source": [
    "# Выводим эти выбросы:\n",
    "\n",
    "df[(\n",
    "    (df['Avg_additional_charges_total'] < lower_bound) | \n",
    "    (df['Avg_additional_charges_total'] > upper_bound) \n",
    ")]"
   ]
  },
  {
   "cell_type": "markdown",
   "id": "ecf3c2b2",
   "metadata": {},
   "source": [
    "---\n",
    "## <a id = 'task6'> 1.2. Оценка коррелирующих с оттоком параметров\n",
    "---"
   ]
  },
  {
   "cell_type": "code",
   "execution_count": 12,
   "id": "b2219bf5",
   "metadata": {},
   "outputs": [
    {
     "data": {
      "text/html": [
       "<div>\n",
       "<style scoped>\n",
       "    .dataframe tbody tr th:only-of-type {\n",
       "        vertical-align: middle;\n",
       "    }\n",
       "\n",
       "    .dataframe tbody tr th {\n",
       "        vertical-align: top;\n",
       "    }\n",
       "\n",
       "    .dataframe thead th {\n",
       "        text-align: right;\n",
       "    }\n",
       "</style>\n",
       "<table border=\"1\" class=\"dataframe\">\n",
       "  <thead>\n",
       "    <tr style=\"text-align: right;\">\n",
       "      <th></th>\n",
       "      <th>Churn</th>\n",
       "      <th>count</th>\n",
       "      <th>% charn</th>\n",
       "    </tr>\n",
       "  </thead>\n",
       "  <tbody>\n",
       "    <tr>\n",
       "      <th>0</th>\n",
       "      <td>0</td>\n",
       "      <td>2939</td>\n",
       "      <td>73</td>\n",
       "    </tr>\n",
       "    <tr>\n",
       "      <th>1</th>\n",
       "      <td>1</td>\n",
       "      <td>1061</td>\n",
       "      <td>27</td>\n",
       "    </tr>\n",
       "  </tbody>\n",
       "</table>\n",
       "</div>"
      ],
      "text/plain": [
       "   Churn  count  % charn\n",
       "0      0   2939       73\n",
       "1      1   1061       27"
      ]
     },
     "execution_count": 12,
     "metadata": {},
     "output_type": "execute_result"
    }
   ],
   "source": [
    "# Оцениваем масштаб оттока в текущем месяце\n",
    "\n",
    "data = df[['Churn']].value_counts()\n",
    "data = data.to_frame().reset_index()\n",
    "data = data.rename(columns = {0:'count'})\n",
    "data['% charn'] = round(data['count'] / data['count'].sum() * 100, 0).astype('int')\n",
    "\n",
    "data"
   ]
  },
  {
   "cell_type": "code",
   "execution_count": 13,
   "id": "9f88fed1",
   "metadata": {},
   "outputs": [
    {
     "data": {
      "image/png": "[encoded data removed]",
      "text/plain": [
       "<Figure size 432x288 with 1 Axes>"
      ]
     },
     "metadata": {
      "needs_background": "light"
     },
     "output_type": "display_data"
    }
   ],
   "source": [
    "sns.barplot(x = ['churn_0', 'churn_1'], y='% charn', data=data, palette='pastel')\n",
    "plt.title(\"Churn rate\")\n",
    "plt.xlabel('Churn')\n",
    "plt.ylabel('%')\n",
    "\n",
    "plt.show()"
   ]
  },
  {
   "cell_type": "markdown",
   "id": "3e692428",
   "metadata": {},
   "source": [
    "---\n",
    "Отток клиентов сотавляет 27%  \n",
    "Строим матрицу корреляций, чтобы найти наиболее влияющие на отток факторы\n",
    "\n",
    "---"
   ]
  },
  {
   "cell_type": "code",
   "execution_count": 14,
   "id": "f8cb4773",
   "metadata": {},
   "outputs": [
    {
     "data": {
      "image/png": "[encoded data removed]",
      "text/plain": [
       "<Figure size 1080x720 with 2 Axes>"
      ]
     },
     "metadata": {
      "needs_background": "light"
     },
     "output_type": "display_data"
    }
   ],
   "source": [
    "plt.figure(figsize=(15,10))\n",
    "sns.heatmap(data = df.corr(), annot=True, square=True)\n",
    "plt.title('Матрица корреляций')\n",
    "plt.show()"
   ]
  },
  {
   "cell_type": "markdown",
   "id": "e8eedb9f",
   "metadata": {},
   "source": [
    "---\n",
    "Между собой параметры имеют довольно низкую корреляцию.  \n",
    "Исключения составляют производные от себя параметры.\n",
    "\n",
    "---"
   ]
  },
  {
   "cell_type": "code",
   "execution_count": 30,
   "id": "e81fa269",
   "metadata": {
    "scrolled": false
   },
   "outputs": [
    {
     "data": {
      "text/html": [
       "<div>\n",
       "<style scoped>\n",
       "    .dataframe tbody tr th:only-of-type {\n",
       "        vertical-align: middle;\n",
       "    }\n",
       "\n",
       "    .dataframe tbody tr th {\n",
       "        vertical-align: top;\n",
       "    }\n",
       "\n",
       "    .dataframe thead th {\n",
       "        text-align: right;\n",
       "    }\n",
       "</style>\n",
       "<table border=\"1\" class=\"dataframe\">\n",
       "  <thead>\n",
       "    <tr style=\"text-align: right;\">\n",
       "      <th></th>\n",
       "      <th>Churn</th>\n",
       "    </tr>\n",
       "  </thead>\n",
       "  <tbody>\n",
       "    <tr>\n",
       "      <th>Lifetime</th>\n",
       "      <td>-0.438220</td>\n",
       "    </tr>\n",
       "    <tr>\n",
       "      <th>Avg_class_frequency_current_month</th>\n",
       "      <td>-0.412348</td>\n",
       "    </tr>\n",
       "    <tr>\n",
       "      <th>Age</th>\n",
       "      <td>-0.404735</td>\n",
       "    </tr>\n",
       "    <tr>\n",
       "      <th>Contract_period</th>\n",
       "      <td>-0.389984</td>\n",
       "    </tr>\n",
       "    <tr>\n",
       "      <th>Month_to_end_contract</th>\n",
       "      <td>-0.374307</td>\n",
       "    </tr>\n",
       "    <tr>\n",
       "      <th>Avg_class_frequency_total</th>\n",
       "      <td>-0.249715</td>\n",
       "    </tr>\n",
       "    <tr>\n",
       "      <th>Avg_additional_charges_total</th>\n",
       "      <td>-0.198697</td>\n",
       "    </tr>\n",
       "    <tr>\n",
       "      <th>Group_visits</th>\n",
       "      <td>-0.175325</td>\n",
       "    </tr>\n",
       "    <tr>\n",
       "      <th>Promo_friends</th>\n",
       "      <td>-0.162233</td>\n",
       "    </tr>\n",
       "    <tr>\n",
       "      <th>Partner</th>\n",
       "      <td>-0.157986</td>\n",
       "    </tr>\n",
       "    <tr>\n",
       "      <th>Near_Location</th>\n",
       "      <td>-0.128098</td>\n",
       "    </tr>\n",
       "    <tr>\n",
       "      <th>Phone</th>\n",
       "      <td>-0.001177</td>\n",
       "    </tr>\n",
       "    <tr>\n",
       "      <th>gender</th>\n",
       "      <td>0.000708</td>\n",
       "    </tr>\n",
       "  </tbody>\n",
       "</table>\n",
       "</div>"
      ],
      "text/plain": [
       "                                      Churn\n",
       "Lifetime                          -0.438220\n",
       "Avg_class_frequency_current_month -0.412348\n",
       "Age                               -0.404735\n",
       "Contract_period                   -0.389984\n",
       "Month_to_end_contract             -0.374307\n",
       "Avg_class_frequency_total         -0.249715\n",
       "Avg_additional_charges_total      -0.198697\n",
       "Group_visits                      -0.175325\n",
       "Promo_friends                     -0.162233\n",
       "Partner                           -0.157986\n",
       "Near_Location                     -0.128098\n",
       "Phone                             -0.001177\n",
       "gender                             0.000708"
      ]
     },
     "execution_count": 30,
     "metadata": {},
     "output_type": "execute_result"
    }
   ],
   "source": [
    "df.corr()[['Churn']].sort_values(by = 'Churn')\n",
    "df_corr = df.corr()[['Churn']].sort_values(by = 'Churn')\n",
    "df_corr = df_corr.drop(df_corr[df_corr.index == 'Churn'].index)\n",
    "df_corr"
   ]
  },
  {
   "cell_type": "markdown",
   "id": "cb3a62ce",
   "metadata": {},
   "source": [
    "---\n",
    "Наиболее сильная корреляция связана со сроком посещения, частотой посещений и возрастом клиентов.  \n",
    "Можно выделить следующие характеристики, присущие потерянным клиентам:\n",
    "\n",
    "- новые клиенты\n",
    "- редко посесяющие клуб\n",
    "- молодые клиенты\n",
    "- с коротким абонементом\n",
    "\n",
    "Следовательно, нужно направить усилия на мотивацию клентов чаще заниматься.   \n",
    "Упор сделать на более молодых с коротким абонементом.\n",
    "\n",
    "**Предложение:**  \n",
    "- Провести опрос редко занимающихся клиентов с целью выявления причин такого поведения\n",
    "- По результатам опроса рассмотреть возможность устранения выявленных причин.\n",
    "\n",
    "---"
   ]
  },
  {
   "cell_type": "markdown",
   "id": "fe5b33d8",
   "metadata": {},
   "source": [
    "## <a id = 'task7'> 1.3. Общий портрет клиента в разрезе категорий\n",
    "\n",
    "---"
   ]
  },
  {
   "cell_type": "markdown",
   "id": "234d62e8",
   "metadata": {},
   "source": [
    "На основании срезов средних значений параметров сравниваем общие портреты оставшихся и уходящих клиентов:\n",
    "\n",
    "---"
   ]
  },
  {
   "cell_type": "code",
   "execution_count": 114,
   "id": "cb2bac8b",
   "metadata": {
    "scrolled": false
   },
   "outputs": [
    {
     "data": {
      "text/html": [
       "<div>\n",
       "<style scoped>\n",
       "    .dataframe tbody tr th:only-of-type {\n",
       "        vertical-align: middle;\n",
       "    }\n",
       "\n",
       "    .dataframe tbody tr th {\n",
       "        vertical-align: top;\n",
       "    }\n",
       "\n",
       "    .dataframe thead th {\n",
       "        text-align: right;\n",
       "    }\n",
       "</style>\n",
       "<table border=\"1\" class=\"dataframe\">\n",
       "  <thead>\n",
       "    <tr style=\"text-align: right;\">\n",
       "      <th></th>\n",
       "      <th>churn_0_mean</th>\n",
       "      <th>churn_1_mean</th>\n",
       "      <th>%</th>\n",
       "    </tr>\n",
       "  </thead>\n",
       "  <tbody>\n",
       "    <tr>\n",
       "      <th>Lifetime</th>\n",
       "      <td>4.71</td>\n",
       "      <td>0.99</td>\n",
       "      <td>375</td>\n",
       "    </tr>\n",
       "    <tr>\n",
       "      <th>Contract_period</th>\n",
       "      <td>5.75</td>\n",
       "      <td>1.73</td>\n",
       "      <td>232</td>\n",
       "    </tr>\n",
       "    <tr>\n",
       "      <th>Month_to_end_contract</th>\n",
       "      <td>5.89</td>\n",
       "      <td>2.58</td>\n",
       "      <td>128</td>\n",
       "    </tr>\n",
       "    <tr>\n",
       "      <th>Avg_class_frequency_current_month</th>\n",
       "      <td>2.03</td>\n",
       "      <td>1.04</td>\n",
       "      <td>95</td>\n",
       "    </tr>\n",
       "    <tr>\n",
       "      <th>Promo_friends</th>\n",
       "      <td>0.35</td>\n",
       "      <td>0.18</td>\n",
       "      <td>94</td>\n",
       "    </tr>\n",
       "    <tr>\n",
       "      <th>Group_visits</th>\n",
       "      <td>0.46</td>\n",
       "      <td>0.27</td>\n",
       "      <td>70</td>\n",
       "    </tr>\n",
       "    <tr>\n",
       "      <th>Partner</th>\n",
       "      <td>0.53</td>\n",
       "      <td>0.36</td>\n",
       "      <td>47</td>\n",
       "    </tr>\n",
       "    <tr>\n",
       "      <th>Avg_additional_charges_total</th>\n",
       "      <td>158.45</td>\n",
       "      <td>115.08</td>\n",
       "      <td>37</td>\n",
       "    </tr>\n",
       "    <tr>\n",
       "      <th>Avg_class_frequency_total</th>\n",
       "      <td>2.02</td>\n",
       "      <td>1.47</td>\n",
       "      <td>37</td>\n",
       "    </tr>\n",
       "    <tr>\n",
       "      <th>Near_Location</th>\n",
       "      <td>0.87</td>\n",
       "      <td>0.77</td>\n",
       "      <td>12</td>\n",
       "    </tr>\n",
       "    <tr>\n",
       "      <th>Age</th>\n",
       "      <td>29.98</td>\n",
       "      <td>26.99</td>\n",
       "      <td>11</td>\n",
       "    </tr>\n",
       "    <tr>\n",
       "      <th>gender</th>\n",
       "      <td>0.51</td>\n",
       "      <td>0.51</td>\n",
       "      <td>0</td>\n",
       "    </tr>\n",
       "    <tr>\n",
       "      <th>Phone</th>\n",
       "      <td>0.90</td>\n",
       "      <td>0.90</td>\n",
       "      <td>0</td>\n",
       "    </tr>\n",
       "  </tbody>\n",
       "</table>\n",
       "</div>"
      ],
      "text/plain": [
       "                                   churn_0_mean  churn_1_mean    %\n",
       "Lifetime                                   4.71          0.99  375\n",
       "Contract_period                            5.75          1.73  232\n",
       "Month_to_end_contract                      5.89          2.58  128\n",
       "Avg_class_frequency_current_month          2.03          1.04   95\n",
       "Promo_friends                              0.35          0.18   94\n",
       "Group_visits                               0.46          0.27   70\n",
       "Partner                                    0.53          0.36   47\n",
       "Avg_additional_charges_total             158.45        115.08   37\n",
       "Avg_class_frequency_total                  2.02          1.47   37\n",
       "Near_Location                              0.87          0.77   12\n",
       "Age                                       29.98         26.99   11\n",
       "gender                                     0.51          0.51    0\n",
       "Phone                                      0.90          0.90    0"
      ]
     },
     "execution_count": 114,
     "metadata": {},
     "output_type": "execute_result"
    }
   ],
   "source": [
    "mean_compare = round(df[df['Churn'] == 0].mean(),2)\n",
    "mean_compare = mean_compare.to_frame()\n",
    "mean_compare = mean_compare.rename(columns = {0:'churn_0_mean'})\n",
    "\n",
    "mean_compare['churn_1_mean'] = round(df[df['Churn'] == 1].mean(),2)\n",
    "mean_compare['%'] = (mean_compare['churn_0_mean'] / mean_compare['churn_1_mean']*100-100).astype(int)\n",
    "mean_compare = mean_compare.sort_values(by='%', ascending=False)\n",
    "\n",
    "mean_compare = mean_compare.drop(mean_compare[mean_compare.index == 'Churn'].index)\n",
    "mean_compare"
   ]
  },
  {
   "cell_type": "markdown",
   "id": "51c47c78",
   "metadata": {},
   "source": [
    "---\n",
    "Оценим различия визуально:\n",
    "\n",
    "---"
   ]
  },
  {
   "cell_type": "code",
   "execution_count": 138,
   "id": "d83ff215",
   "metadata": {
    "scrolled": false
   },
   "outputs": [
    {
     "data": {
      "image/png": "[encoded data removed]",
      "text/plain": [
       "<Figure size 432x288 with 1 Axes>"
      ]
     },
     "metadata": {
      "needs_background": "light"
     },
     "output_type": "display_data"
    },
    {
     "name": "stdout",
     "output_type": "stream",
     "text": [
      "\n"
     ]
    },
    {
     "data": {
      "image/png": "[encoded data removed]",
      "text/plain": [
       "<Figure size 432x288 with 1 Axes>"
      ]
     },
     "metadata": {
      "needs_background": "light"
     },
     "output_type": "display_data"
    },
    {
     "name": "stdout",
     "output_type": "stream",
     "text": [
      "\n"
     ]
    },
    {
     "data": {
      "image/png": "[encoded data removed]",
      "text/plain": [
       "<Figure size 432x288 with 1 Axes>"
      ]
     },
     "metadata": {
      "needs_background": "light"
     },
     "output_type": "display_data"
    },
    {
     "name": "stdout",
     "output_type": "stream",
     "text": [
      "\n"
     ]
    },
    {
     "data": {
      "image/png": "[encoded data removed]",
      "text/plain": [
       "<Figure size 432x288 with 1 Axes>"
      ]
     },
     "metadata": {
      "needs_background": "light"
     },
     "output_type": "display_data"
    },
    {
     "name": "stdout",
     "output_type": "stream",
     "text": [
      "\n"
     ]
    },
    {
     "data": {
      "image/png": "[encoded data removed]",
      "text/plain": [
       "<Figure size 432x288 with 1 Axes>"
      ]
     },
     "metadata": {
      "needs_background": "light"
     },
     "output_type": "display_data"
    },
    {
     "name": "stdout",
     "output_type": "stream",
     "text": [
      "\n"
     ]
    },
    {
     "data": {
      "image/png": "[encoded data removed]",
      "text/plain": [
       "<Figure size 432x288 with 1 Axes>"
      ]
     },
     "metadata": {
      "needs_background": "light"
     },
     "output_type": "display_data"
    },
    {
     "name": "stdout",
     "output_type": "stream",
     "text": [
      "\n"
     ]
    },
    {
     "data": {
      "image/png": "[encoded data removed]",
      "text/plain": [
       "<Figure size 432x288 with 1 Axes>"
      ]
     },
     "metadata": {
      "needs_background": "light"
     },
     "output_type": "display_data"
    },
    {
     "name": "stdout",
     "output_type": "stream",
     "text": [
      "\n"
     ]
    },
    {
     "data": {
      "image/png": "[encoded data removed]",
      "text/plain": [
       "<Figure size 432x288 with 1 Axes>"
      ]
     },
     "metadata": {
      "needs_background": "light"
     },
     "output_type": "display_data"
    },
    {
     "name": "stdout",
     "output_type": "stream",
     "text": [
      "\n"
     ]
    },
    {
     "data": {
      "image/png": "[encoded data removed]",
      "text/plain": [
       "<Figure size 432x288 with 1 Axes>"
      ]
     },
     "metadata": {
      "needs_background": "light"
     },
     "output_type": "display_data"
    },
    {
     "name": "stdout",
     "output_type": "stream",
     "text": [
      "\n"
     ]
    },
    {
     "data": {
      "image/png": "[encoded data removed]",
      "text/plain": [
       "<Figure size 432x288 with 1 Axes>"
      ]
     },
     "metadata": {
      "needs_background": "light"
     },
     "output_type": "display_data"
    },
    {
     "name": "stdout",
     "output_type": "stream",
     "text": [
      "\n"
     ]
    },
    {
     "data": {
      "image/png": "[encoded data removed]",
      "text/plain": [
       "<Figure size 432x288 with 1 Axes>"
      ]
     },
     "metadata": {
      "needs_background": "light"
     },
     "output_type": "display_data"
    },
    {
     "name": "stdout",
     "output_type": "stream",
     "text": [
      "\n"
     ]
    },
    {
     "data": {
      "image/png": "[encoded data removed]",
      "text/plain": [
       "<Figure size 432x288 with 1 Axes>"
      ]
     },
     "metadata": {
      "needs_background": "light"
     },
     "output_type": "display_data"
    },
    {
     "name": "stdout",
     "output_type": "stream",
     "text": [
      "\n"
     ]
    },
    {
     "data": {
      "image/png": "[encoded data removed]",
      "text/plain": [
       "<Figure size 432x288 with 1 Axes>"
      ]
     },
     "metadata": {
      "needs_background": "light"
     },
     "output_type": "display_data"
    },
    {
     "name": "stdout",
     "output_type": "stream",
     "text": [
      "\n"
     ]
    }
   ],
   "source": [
    "for a in range(len(mean_compare)):\n",
    "    sns.barplot(data = mean_compare[['churn_0_mean', 'churn_1_mean']][a:a+1], palette='pastel')\n",
    "    plt.title(mean_compare[a:a+1].index[0])\n",
    "    plt.show()\n",
    "    print('')\n",
    "    "
   ]
  },
  {
   "cell_type": "markdown",
   "id": "bbaac42c",
   "metadata": {},
   "source": [
    "\n",
    "## <a id = 'task8'> 1.4. Выводы и предложения\n"
   ]
  },
  {
   "cell_type": "markdown",
   "id": "4f6712d2",
   "metadata": {},
   "source": [
    "---\n",
    "**Разделим параметры на группы по степени влияния на отток:**\n",
    "\n",
    "**1.** Выделяем параметры с наиболее сильным влиянием на отток:\n",
    "- Avg_class_frequency_current_month\n",
    "- Promo_friends\n",
    "- Group_visits\t\n",
    "- Partner\t\n",
    "- Avg_additional_charges_total\t\n",
    "\n",
    "**2.** Параметры с низким влиянием на отток:\n",
    "- Near_Location\n",
    "- Age\t\n",
    "\n",
    "**3.** Параметры, практически не влияющие на отток:\n",
    "- gender\n",
    "- Phone\n",
    "\n",
    "**4.** Параметры, которые можно считать скорее следствием лояльности клиентов:\n",
    "- Lifetime\n",
    "- Contract_period\n",
    "- Month_to_end_contract\n"
   ]
  },
  {
   "cell_type": "markdown",
   "id": "50a63119",
   "metadata": {},
   "source": [
    "---\n",
    "### Не влияющие на отток параметры:\n",
    "\n",
    "Оценим влияние пола клиента и наличия телефона в базе клуба (gender и Phone) статистически:\n",
    "\n",
    "---"
   ]
  },
  {
   "cell_type": "code",
   "execution_count": 157,
   "id": "34b03c1b",
   "metadata": {},
   "outputs": [
    {
     "data": {
      "text/plain": [
       "(-0.04474984696315838, 0.9643089361902392)"
      ]
     },
     "execution_count": 157,
     "metadata": {},
     "output_type": "execute_result"
    }
   ],
   "source": [
    "t, p_value = stats.ttest_ind(df[df['Churn'] == 0]['gender'], df[df['Churn'] == 1]['gender'])  # Критерий Стьюдента (t-test)\n",
    "t, p_value"
   ]
  },
  {
   "cell_type": "code",
   "execution_count": 158,
   "id": "b908df24",
   "metadata": {},
   "outputs": [
    {
     "data": {
      "text/plain": [
       "(0.07439624953956464, 0.9406988149138941)"
      ]
     },
     "execution_count": 158,
     "metadata": {},
     "output_type": "execute_result"
    }
   ],
   "source": [
    "t, p_value = stats.ttest_ind(df[df['Churn'] == 0]['Phone'], df[df['Churn'] == 1]['Phone'])  # Критерий Стьюдента (t-test)\n",
    "t, p_value"
   ]
  },
  {
   "cell_type": "markdown",
   "id": "c0a6f07f",
   "metadata": {},
   "source": [
    "---\n",
    "Видим крайне низкое влияние на уровне значимости 94%.  \n",
    "Подтверждаем гипотезу о незначительности данных факторов.\n",
    "\n",
    "---"
   ]
  },
  {
   "cell_type": "markdown",
   "id": "b1285491",
   "metadata": {},
   "source": [
    "\n",
    "### Параметры с низким влиянием на отток:  \n",
    "\n",
    "Влияние удаленности клиента от клуба (Near_Location) логически обосновано.   \n",
    "Предложение:  \n",
    "Ввести коэффициент на скидку, привязанный к удаленности клиента от клуба.  \n",
    "\n",
    "Влияние возраста (Age), возможно, связано со стремлением более молодых к новому.  \n",
    "Возможно, динамика покажет стабильный приток клиентов этого возраста, компенсирующий отток.  \n",
    "Предложение:  \n",
    "Держать руку на пульсе тенденций и перенимать опыт конкурентов.  "
   ]
  },
  {
   "cell_type": "markdown",
   "id": "d4784bc5",
   "metadata": {},
   "source": [
    "---\n",
    "### Параметры с наиболее сильным влиянием на отток:\n",
    "\n",
    "\n",
    "1. **Активность клиентов клуба:**  \n",
    "    (Avg_class_frequency_current_month)\n",
    "\n",
    "Редко занимающиеся клиенты чаще прекращают занятия совсем.\n",
    "\n",
    "Предложение:  \n",
    "Провести опрос редко занимающихся клиентов с целью выявления причин такого поведения\n",
    "По результатам опроса рассмотреть возможность устранения выявленных причин.  \n",
    "    \n",
    "\n",
    "2. **Дополнительные услуги:**  \n",
    "   (Group_visits, Avg_additional_charges_total)  \n",
    "\n",
    "Видим, что уходящие клиенты гораздо реже посещали групповые занятия и меньше тратили на доп услуги  \n",
    "Возможно, ушедшие клиенты не успели оценить все услуги клуба до принятия решения о продлении абонемента.\n",
    "\n",
    "Предложение:  \n",
    "Предоставить скидку на доп услуги тем, кто ими не пользуется (или давно не пользовался)\n",
    "Предложить записаться на пробные групповые занятия.\n",
    "\n",
    "3. **Маркетинг и привлечение клиентов:**  \n",
    "   (Partner, Promo_friends)  \n",
    "\n",
    "Вывод: Программы работают и дают результат.\n",
    "   \n",
    "\n",
    "\n",
    "---"
   ]
  }
 ],
 "metadata": {
  "kernelspec": {
   "display_name": "Python 3",
   "language": "python",
   "name": "python3"
  },
  "language_info": {
   "codemirror_mode": {
    "name": "ipython",
    "version": 3
   },
   "file_extension": ".py",
   "mimetype": "text/x-python",
   "name": "python",
   "nbconvert_exporter": "python",
   "pygments_lexer": "ipython3",
   "version": "3.8.8"
  }
 },
 "nbformat": 4,
 "nbformat_minor": 5
}
