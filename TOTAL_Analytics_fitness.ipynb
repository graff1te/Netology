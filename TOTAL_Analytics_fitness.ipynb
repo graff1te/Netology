{
 "cells": [
  {
   "cell_type": "markdown",
   "id": "badd70d5",
   "metadata": {},
   "source": [
    "# <center>Анализ данных и прогноз оттока клиентов фитнесс-клуба</center>"
   ]
  },
  {
   "cell_type": "markdown",
   "id": "392c6b35",
   "metadata": {},
   "source": [
    "---\n",
    "### Содержание:\n",
    "\n",
    "-  [Цели дипломной работы](#task1) \n",
    "-  [Описание данных](#task2) \n",
    "-  [Необходимые для работы библиотеки](#task3) \n",
    "\n",
    "### 1. [**EDA | Исследовательский анализ данных**](#task4)   \n",
    "\n",
    "  1.1. [Подготовка данных](#task5)  \n",
    "  1.2. [Оценка коррелирующих с оттоком параметров](#task6)  \n",
    "  1.3. [Общий портрет клиента в разрезе оттока](#task7)  \n",
    "  1.4. [Выводы и предложения](#task8)  \n",
    " \n",
    "### 2. [**Прогноз оттока клиентов**](#task2-0)  \n",
    "\n",
    "  2.1. [**Модель случайного леса | Random Forest**](#task2-1)  \n",
    "  2.1.1. [Построение модели | Random Forest](#task2-1-1)   \n",
    "  2.1.2. [Оценка точности работы модели | Random Forest](#task2-1-2)  \n",
    "  2.1.3. [Отбор признаков для модели | Random Forest](#task2-1-3) \n",
    "    \n",
    "  2.2. [**Модель логистической регрессии | Logistic Regression**](#task2-2)  \n",
    "  2.2.1. [Построение модели | Logistic Regression](#task2-2-1)   \n",
    "  2.2.2. [Оценка точности работы модели | Logistic Regression](#task2-2-2)   \n",
    "  2.2.3. [Отбор признаков для модели | Logistic Regression](#task2-2-3)   \n",
    "  \n",
    "  2.3. [**Модель дерева решений | Decision Tree**](#task2-3)  \n",
    "  2.3.1. [Построение модели | Decision Tree](#task2-3-1)   \n",
    "  2.3.2. [Оценка точности работы модели | Decision Tree](#task2-3-2)   \n",
    "  2.3.3. [Отбор признаков для модели | Decision Tree](#task2-3-3)   \n",
    "  \n",
    "  2.4. [**Метод опорных векторов | Support Vector Machines**](#task2-4)  \n",
    "  2.4.1. [Построение модели | Support Vector Machines](#task2-4-1)   \n",
    "  2.4.2. [Оценка точности работы модели | Support Vector Machines](#task2-4-2)   \n",
    "  2.4.3. [Отбор признаков для модели | Support Vector Machines](#task2-4-3)   \n",
    "  \n",
    "  2.5. [**Метод градиентного бустинга | EXtreme Gradient Boosting**](#task2-5)  \n",
    "  2.5.1. [Построение модели | EXtreme Gradient Boosting](#task2-5-1)   \n",
    "  2.5.2. [Оценка точности работы модели | EXtreme Gradient Boosting](#task2-5-2)   \n",
    "  2.5.3. [Отбор признаков для модели | SEXtreme Gradient Boosting](#task2-5-3)   \n",
    "  \n",
    "  2.6. [Выводы | выбор модели прогноза](#task2-6)  \n",
    " \n",
    "### 3. [**Кластеризация клиентов**](#task3-0)  \n",
    "\n",
    "  3.1. [Иерархическая кластеризация](#task3-1)  \n",
    "  3.2. [Метод k-средних | K-Means](#task3-2)  \n",
    "  3.3. [Анализ срезов кластеров](#task3-3)  \n",
    "  3.4. [Выводы и предложения](#task3-4)  \n",
    "\n",
    "---"
   ]
  },
  {
   "cell_type": "markdown",
   "id": "bd1cb23b",
   "metadata": {},
   "source": [
    "### <a id = 'task1'> Цели дипломной работы:  \n",
    "1. Построить модель прогноза оттока клиентов на основе характеризующих их данных.\n",
    "2. Выявление групп клиентов с общими характеристиками. \n",
    "3. Оценка влияния характеристик клиентов на отток.\n",
    "    \n",
    "---"
   ]
  },
  {
   "cell_type": "markdown",
   "id": "f1aaefca",
   "metadata": {},
   "source": [
    "## <a id = 'task2'>Описание данных:\n",
    "\n",
    "- '**Churn**' — факт оттока в текущем месяце   \n",
    "\n",
    "### Данные клиента за предыдущий до проверки факта оттока месяц:  \n",
    "\n",
    "\n",
    "- '**gender**' — пол  \n",
    "- '**Near_Location**' — проживание или работа в районе, где находится фитнес-центр  \n",
    "- '**Partner**' — сотрудник компании-партнёра клуба  \n",
    "(сотрудничество с компаниями, чьи\n",
    "сотрудники могут получать скидки на абонемент — в таком случае\n",
    "фитнес-центр хранит информацию о работодателе клиента)  \n",
    "- '**Promo_friends**' — факт первоначальной записи в рамках акции «приведи друга»  \n",
    "(использовал промо-код от знакомого при оплате первого абонемента)  \n",
    "- '**Phone**' — наличие контактного телефона  \n",
    "- '**Age**' — возраст  \n",
    "- '**Lifetime**' — время с момента первого обращения в фитнес-центр (в месяцах)  \n",
    "\n",
    "### Информация на основе журнала посещений, покупок  и информация о текущем статусе абонемента клиента:  \n",
    "\n",
    "\n",
    "- '**Contract_period**' — длительность текущего действующего абонемента (месяц, 3 месяца, 6 месяцев, год)  \n",
    "- '**Month_to_end_contract**' — срок до окончания текущего действующего абонемента (в месяцах)  \n",
    "- '**Group_visits**' — факт посещения групповых занятий  \n",
    "- '**Avg_class_frequency_total**' — средняя частота посещений в неделю за все время с начала действия абонемента  \n",
    "- '**Avg_class_frequency_current_month**' — средняя частота посещений в неделю за предыдущий месяц  \n",
    "- '**Avg_additional_charges_total**' — суммарная выручка от других услуг фитнес-центра: кафе, спорт-товары, косметический и массажный салон  \n",
    "---"
   ]
  },
  {
   "cell_type": "markdown",
   "id": "1717b0fa",
   "metadata": {},
   "source": [
    "### <a id = 'task1'> Необходимые для работы библиотеки:"
   ]
  },
  {
   "cell_type": "code",
   "execution_count": 1,
   "id": "ec830683",
   "metadata": {},
   "outputs": [],
   "source": [
    "# Построение и обработка таблиц с данными\n",
    "import pandas as pd\n",
    "\n",
    "# Визуализация и построение графиков \n",
    "import matplotlib.pyplot as plt\n",
    "import seaborn as sns\n",
    "import matplotlib as mpl\n",
    "\n",
    "# Статистические функции\n",
    "import scipy.stats as stats \n",
    "\n",
    "# Математические функции\n",
    "import numpy as np\n",
    "\n",
    "# Фильтр незначительных предупреждений\n",
    "import warnings\n",
    "warnings.simplefilter(action='ignore', category=FutureWarning)\n",
    "warnings.filterwarnings(\"ignore\", category=UserWarning)\n",
    "\n",
    "# Разделение датасетов на обучающую и тестовую выборки\n",
    "from sklearn.model_selection import train_test_split\n",
    "\n",
    "# Модель Логистической регрессии\n",
    "from sklearn.linear_model import LogisticRegression\n",
    "# Алгоритм классификации Random Forest\n",
    "from sklearn.ensemble import RandomForestClassifier\n",
    "# Модель дерева решений Decision Tree\n",
    "from sklearn.tree import DecisionTreeClassifier\n",
    "# Метод опорных векторов | Support Vector Machines\n",
    "from sklearn.svm import SVC\n",
    "# Метод градиентного бустинга | EXtreme Gradient Boosting\n",
    "import xgboost as xgb\n",
    "from xgboost import XGBClassifier\n",
    "\n",
    "# Матрица ошибок результатов работы модели\n",
    "from sklearn.metrics import confusion_matrix  \n",
    "\n",
    "# Расчет точности - отношение совпадений к общему количеству позиций\n",
    "from sklearn.metrics import accuracy_score\n",
    "# Расчет точности на основе матрицы ошибок - Precision, Recall, f1\n",
    "from sklearn.metrics import precision_score, recall_score, f1_score\n",
    "\n",
    "# Выбор значимых параметров на основе 'случайного леса'\n",
    "from sklearn.feature_selection import SelectFromModel\n",
    "# Выбор лучших параметров на основе перебора всех параметров\n",
    "from sklearn.model_selection import GridSearchCV\n",
    "\n",
    "# Нормализация (масштабирование) данных\n",
    "from sklearn.preprocessing import StandardScaler\n",
    "\n",
    "# Модель кластерного анализа K-средних | K-means\n",
    "from sklearn.cluster import KMeans\n",
    "# Иерархическая кластеризация | Дендрограмма\n",
    "import scipy.cluster.hierarchy as shc\n",
    "# Группировка данных в кластеры\n",
    "from sklearn.cluster import AgglomerativeClustering\n",
    "# Оценка качества кластеризации\n",
    "from sklearn.metrics import silhouette_score"
   ]
  },
  {
   "cell_type": "markdown",
   "id": "844a9f12",
   "metadata": {},
   "source": [
    "---\n",
    "# <a id = 'task4'> 1. EDA | Исследовательский анализ данных"
   ]
  },
  {
   "cell_type": "markdown",
   "id": "71c0c880",
   "metadata": {},
   "source": [
    "## <a id = 'task5'> 1.1. Подготовка данных\n",
    "---"
   ]
  },
  {
   "cell_type": "code",
   "execution_count": 2,
   "id": "37f33789",
   "metadata": {},
   "outputs": [
    {
     "data": {
      "text/html": [
       "<div>\n",
       "<style scoped>\n",
       "    .dataframe tbody tr th:only-of-type {\n",
       "        vertical-align: middle;\n",
       "    }\n",
       "\n",
       "    .dataframe tbody tr th {\n",
       "        vertical-align: top;\n",
       "    }\n",
       "\n",
       "    .dataframe thead th {\n",
       "        text-align: right;\n",
       "    }\n",
       "</style>\n",
       "<table border=\"1\" class=\"dataframe\">\n",
       "  <thead>\n",
       "    <tr style=\"text-align: right;\">\n",
       "      <th></th>\n",
       "      <th>gender</th>\n",
       "      <th>Near_Location</th>\n",
       "      <th>Partner</th>\n",
       "      <th>Promo_friends</th>\n",
       "      <th>Phone</th>\n",
       "      <th>Contract_period</th>\n",
       "      <th>Group_visits</th>\n",
       "      <th>Age</th>\n",
       "      <th>Avg_additional_charges_total</th>\n",
       "      <th>Month_to_end_contract</th>\n",
       "      <th>Lifetime</th>\n",
       "      <th>Avg_class_frequency_total</th>\n",
       "      <th>Avg_class_frequency_current_month</th>\n",
       "      <th>Churn</th>\n",
       "    </tr>\n",
       "  </thead>\n",
       "  <tbody>\n",
       "    <tr>\n",
       "      <th>0</th>\n",
       "      <td>1</td>\n",
       "      <td>1</td>\n",
       "      <td>1</td>\n",
       "      <td>1</td>\n",
       "      <td>0</td>\n",
       "      <td>6</td>\n",
       "      <td>1</td>\n",
       "      <td>29</td>\n",
       "      <td>14.227470</td>\n",
       "      <td>5</td>\n",
       "      <td>3</td>\n",
       "      <td>0.020398</td>\n",
       "      <td>0.000000</td>\n",
       "      <td>0</td>\n",
       "    </tr>\n",
       "    <tr>\n",
       "      <th>1</th>\n",
       "      <td>0</td>\n",
       "      <td>1</td>\n",
       "      <td>0</td>\n",
       "      <td>0</td>\n",
       "      <td>1</td>\n",
       "      <td>12</td>\n",
       "      <td>1</td>\n",
       "      <td>31</td>\n",
       "      <td>113.202938</td>\n",
       "      <td>13</td>\n",
       "      <td>7</td>\n",
       "      <td>1.922936</td>\n",
       "      <td>1.910244</td>\n",
       "      <td>0</td>\n",
       "    </tr>\n",
       "    <tr>\n",
       "      <th>2</th>\n",
       "      <td>0</td>\n",
       "      <td>1</td>\n",
       "      <td>1</td>\n",
       "      <td>0</td>\n",
       "      <td>1</td>\n",
       "      <td>1</td>\n",
       "      <td>0</td>\n",
       "      <td>28</td>\n",
       "      <td>129.448479</td>\n",
       "      <td>2</td>\n",
       "      <td>2</td>\n",
       "      <td>1.859098</td>\n",
       "      <td>1.736502</td>\n",
       "      <td>0</td>\n",
       "    </tr>\n",
       "    <tr>\n",
       "      <th>3</th>\n",
       "      <td>0</td>\n",
       "      <td>1</td>\n",
       "      <td>1</td>\n",
       "      <td>1</td>\n",
       "      <td>1</td>\n",
       "      <td>12</td>\n",
       "      <td>1</td>\n",
       "      <td>33</td>\n",
       "      <td>62.669863</td>\n",
       "      <td>12</td>\n",
       "      <td>2</td>\n",
       "      <td>3.205633</td>\n",
       "      <td>3.357215</td>\n",
       "      <td>0</td>\n",
       "    </tr>\n",
       "    <tr>\n",
       "      <th>4</th>\n",
       "      <td>1</td>\n",
       "      <td>1</td>\n",
       "      <td>1</td>\n",
       "      <td>1</td>\n",
       "      <td>1</td>\n",
       "      <td>1</td>\n",
       "      <td>0</td>\n",
       "      <td>26</td>\n",
       "      <td>198.362265</td>\n",
       "      <td>2</td>\n",
       "      <td>3</td>\n",
       "      <td>1.113884</td>\n",
       "      <td>1.120078</td>\n",
       "      <td>0</td>\n",
       "    </tr>\n",
       "  </tbody>\n",
       "</table>\n",
       "</div>"
      ],
      "text/plain": [
       "   gender  Near_Location  Partner  Promo_friends  Phone  Contract_period  \\\n",
       "0       1              1        1              1      0                6   \n",
       "1       0              1        0              0      1               12   \n",
       "2       0              1        1              0      1                1   \n",
       "3       0              1        1              1      1               12   \n",
       "4       1              1        1              1      1                1   \n",
       "\n",
       "   Group_visits  Age  Avg_additional_charges_total  Month_to_end_contract  \\\n",
       "0             1   29                     14.227470                      5   \n",
       "1             1   31                    113.202938                     13   \n",
       "2             0   28                    129.448479                      2   \n",
       "3             1   33                     62.669863                     12   \n",
       "4             0   26                    198.362265                      2   \n",
       "\n",
       "   Lifetime  Avg_class_frequency_total  Avg_class_frequency_current_month  \\\n",
       "0         3                   0.020398                           0.000000   \n",
       "1         7                   1.922936                           1.910244   \n",
       "2         2                   1.859098                           1.736502   \n",
       "3         2                   3.205633                           3.357215   \n",
       "4         3                   1.113884                           1.120078   \n",
       "\n",
       "   Churn  \n",
       "0      0  \n",
       "1      0  \n",
       "2      0  \n",
       "3      0  \n",
       "4      0  "
      ]
     },
     "execution_count": 2,
     "metadata": {},
     "output_type": "execute_result"
    }
   ],
   "source": [
    "# Загружаем данные  \n",
    "\n",
    "df = pd.read_csv('D:\\\\Netology\\\\Модуль 5. Python\\\\TOTAL_Analytics_fitness\\\\gym_dataset.csv')\n",
    "df.head()"
   ]
  },
  {
   "cell_type": "code",
   "execution_count": 3,
   "id": "0cbd6c95",
   "metadata": {},
   "outputs": [
    {
     "data": {
      "text/plain": [
       "False    4000\n",
       "dtype: int64"
      ]
     },
     "execution_count": 3,
     "metadata": {},
     "output_type": "execute_result"
    }
   ],
   "source": [
    "# Проверяем наличие повторов записей\n",
    "\n",
    "df.duplicated().value_counts()"
   ]
  },
  {
   "cell_type": "code",
   "execution_count": 4,
   "id": "28fbc5c1",
   "metadata": {},
   "outputs": [
    {
     "name": "stdout",
     "output_type": "stream",
     "text": [
      "<class 'pandas.core.frame.DataFrame'>\n",
      "RangeIndex: 4000 entries, 0 to 3999\n",
      "Data columns (total 14 columns):\n",
      " #   Column                             Non-Null Count  Dtype  \n",
      "---  ------                             --------------  -----  \n",
      " 0   gender                             4000 non-null   int64  \n",
      " 1   Near_Location                      4000 non-null   int64  \n",
      " 2   Partner                            4000 non-null   int64  \n",
      " 3   Promo_friends                      4000 non-null   int64  \n",
      " 4   Phone                              4000 non-null   int64  \n",
      " 5   Contract_period                    4000 non-null   int64  \n",
      " 6   Group_visits                       4000 non-null   int64  \n",
      " 7   Age                                4000 non-null   int64  \n",
      " 8   Avg_additional_charges_total       4000 non-null   float64\n",
      " 9   Month_to_end_contract              4000 non-null   int64  \n",
      " 10  Lifetime                           4000 non-null   int64  \n",
      " 11  Avg_class_frequency_total          4000 non-null   float64\n",
      " 12  Avg_class_frequency_current_month  4000 non-null   float64\n",
      " 13  Churn                              4000 non-null   int64  \n",
      "dtypes: float64(3), int64(11)\n",
      "memory usage: 437.6 KB\n"
     ]
    }
   ],
   "source": [
    "# Смотрим на описание данных\n",
    "\n",
    "df.info()"
   ]
  },
  {
   "cell_type": "code",
   "execution_count": 5,
   "id": "0f787fde",
   "metadata": {},
   "outputs": [
    {
     "data": {
      "text/html": [
       "<div>\n",
       "<style scoped>\n",
       "    .dataframe tbody tr th:only-of-type {\n",
       "        vertical-align: middle;\n",
       "    }\n",
       "\n",
       "    .dataframe tbody tr th {\n",
       "        vertical-align: top;\n",
       "    }\n",
       "\n",
       "    .dataframe thead th {\n",
       "        text-align: right;\n",
       "    }\n",
       "</style>\n",
       "<table border=\"1\" class=\"dataframe\">\n",
       "  <thead>\n",
       "    <tr style=\"text-align: right;\">\n",
       "      <th></th>\n",
       "      <th>gender</th>\n",
       "      <th>Near_Location</th>\n",
       "      <th>Partner</th>\n",
       "      <th>Promo_friends</th>\n",
       "      <th>Phone</th>\n",
       "      <th>Contract_period</th>\n",
       "      <th>Group_visits</th>\n",
       "      <th>Age</th>\n",
       "      <th>Avg_additional_charges_total</th>\n",
       "      <th>Month_to_end_contract</th>\n",
       "      <th>Lifetime</th>\n",
       "      <th>Avg_class_frequency_total</th>\n",
       "      <th>Avg_class_frequency_current_month</th>\n",
       "      <th>Churn</th>\n",
       "    </tr>\n",
       "  </thead>\n",
       "  <tbody>\n",
       "    <tr>\n",
       "      <th>count</th>\n",
       "      <td>4000.000000</td>\n",
       "      <td>4000.000000</td>\n",
       "      <td>4000.000000</td>\n",
       "      <td>4000.000000</td>\n",
       "      <td>4000.000000</td>\n",
       "      <td>4000.000000</td>\n",
       "      <td>4000.000000</td>\n",
       "      <td>4000.000000</td>\n",
       "      <td>4000.000000</td>\n",
       "      <td>4000.000000</td>\n",
       "      <td>4000.000000</td>\n",
       "      <td>4000.000000</td>\n",
       "      <td>4000.000000</td>\n",
       "      <td>4000.000000</td>\n",
       "    </tr>\n",
       "    <tr>\n",
       "      <th>mean</th>\n",
       "      <td>0.510250</td>\n",
       "      <td>0.845250</td>\n",
       "      <td>0.486750</td>\n",
       "      <td>0.308500</td>\n",
       "      <td>0.903500</td>\n",
       "      <td>4.681250</td>\n",
       "      <td>0.412250</td>\n",
       "      <td>29.184250</td>\n",
       "      <td>146.943728</td>\n",
       "      <td>5.011500</td>\n",
       "      <td>3.724750</td>\n",
       "      <td>1.879020</td>\n",
       "      <td>1.767052</td>\n",
       "      <td>0.265250</td>\n",
       "    </tr>\n",
       "    <tr>\n",
       "      <th>std</th>\n",
       "      <td>0.499957</td>\n",
       "      <td>0.361711</td>\n",
       "      <td>0.499887</td>\n",
       "      <td>0.461932</td>\n",
       "      <td>0.295313</td>\n",
       "      <td>4.549706</td>\n",
       "      <td>0.492301</td>\n",
       "      <td>3.258367</td>\n",
       "      <td>96.355602</td>\n",
       "      <td>3.899573</td>\n",
       "      <td>3.749267</td>\n",
       "      <td>0.972245</td>\n",
       "      <td>1.052906</td>\n",
       "      <td>0.441521</td>\n",
       "    </tr>\n",
       "    <tr>\n",
       "      <th>min</th>\n",
       "      <td>0.000000</td>\n",
       "      <td>0.000000</td>\n",
       "      <td>0.000000</td>\n",
       "      <td>0.000000</td>\n",
       "      <td>0.000000</td>\n",
       "      <td>1.000000</td>\n",
       "      <td>0.000000</td>\n",
       "      <td>18.000000</td>\n",
       "      <td>0.148205</td>\n",
       "      <td>2.000000</td>\n",
       "      <td>0.000000</td>\n",
       "      <td>0.000000</td>\n",
       "      <td>0.000000</td>\n",
       "      <td>0.000000</td>\n",
       "    </tr>\n",
       "    <tr>\n",
       "      <th>25%</th>\n",
       "      <td>0.000000</td>\n",
       "      <td>1.000000</td>\n",
       "      <td>0.000000</td>\n",
       "      <td>0.000000</td>\n",
       "      <td>1.000000</td>\n",
       "      <td>1.000000</td>\n",
       "      <td>0.000000</td>\n",
       "      <td>27.000000</td>\n",
       "      <td>68.868830</td>\n",
       "      <td>2.000000</td>\n",
       "      <td>1.000000</td>\n",
       "      <td>1.180875</td>\n",
       "      <td>0.963003</td>\n",
       "      <td>0.000000</td>\n",
       "    </tr>\n",
       "    <tr>\n",
       "      <th>50%</th>\n",
       "      <td>1.000000</td>\n",
       "      <td>1.000000</td>\n",
       "      <td>0.000000</td>\n",
       "      <td>0.000000</td>\n",
       "      <td>1.000000</td>\n",
       "      <td>1.000000</td>\n",
       "      <td>0.000000</td>\n",
       "      <td>29.000000</td>\n",
       "      <td>136.220159</td>\n",
       "      <td>2.000000</td>\n",
       "      <td>3.000000</td>\n",
       "      <td>1.832768</td>\n",
       "      <td>1.719574</td>\n",
       "      <td>0.000000</td>\n",
       "    </tr>\n",
       "    <tr>\n",
       "      <th>75%</th>\n",
       "      <td>1.000000</td>\n",
       "      <td>1.000000</td>\n",
       "      <td>1.000000</td>\n",
       "      <td>1.000000</td>\n",
       "      <td>1.000000</td>\n",
       "      <td>6.000000</td>\n",
       "      <td>1.000000</td>\n",
       "      <td>31.000000</td>\n",
       "      <td>210.949625</td>\n",
       "      <td>7.000000</td>\n",
       "      <td>5.000000</td>\n",
       "      <td>2.536078</td>\n",
       "      <td>2.510336</td>\n",
       "      <td>1.000000</td>\n",
       "    </tr>\n",
       "    <tr>\n",
       "      <th>max</th>\n",
       "      <td>1.000000</td>\n",
       "      <td>1.000000</td>\n",
       "      <td>1.000000</td>\n",
       "      <td>1.000000</td>\n",
       "      <td>1.000000</td>\n",
       "      <td>12.000000</td>\n",
       "      <td>1.000000</td>\n",
       "      <td>41.000000</td>\n",
       "      <td>552.590740</td>\n",
       "      <td>13.000000</td>\n",
       "      <td>31.000000</td>\n",
       "      <td>6.023668</td>\n",
       "      <td>6.146783</td>\n",
       "      <td>1.000000</td>\n",
       "    </tr>\n",
       "  </tbody>\n",
       "</table>\n",
       "</div>"
      ],
      "text/plain": [
       "            gender  Near_Location      Partner  Promo_friends        Phone  \\\n",
       "count  4000.000000    4000.000000  4000.000000    4000.000000  4000.000000   \n",
       "mean      0.510250       0.845250     0.486750       0.308500     0.903500   \n",
       "std       0.499957       0.361711     0.499887       0.461932     0.295313   \n",
       "min       0.000000       0.000000     0.000000       0.000000     0.000000   \n",
       "25%       0.000000       1.000000     0.000000       0.000000     1.000000   \n",
       "50%       1.000000       1.000000     0.000000       0.000000     1.000000   \n",
       "75%       1.000000       1.000000     1.000000       1.000000     1.000000   \n",
       "max       1.000000       1.000000     1.000000       1.000000     1.000000   \n",
       "\n",
       "       Contract_period  Group_visits          Age  \\\n",
       "count      4000.000000   4000.000000  4000.000000   \n",
       "mean          4.681250      0.412250    29.184250   \n",
       "std           4.549706      0.492301     3.258367   \n",
       "min           1.000000      0.000000    18.000000   \n",
       "25%           1.000000      0.000000    27.000000   \n",
       "50%           1.000000      0.000000    29.000000   \n",
       "75%           6.000000      1.000000    31.000000   \n",
       "max          12.000000      1.000000    41.000000   \n",
       "\n",
       "       Avg_additional_charges_total  Month_to_end_contract     Lifetime  \\\n",
       "count                   4000.000000            4000.000000  4000.000000   \n",
       "mean                     146.943728               5.011500     3.724750   \n",
       "std                       96.355602               3.899573     3.749267   \n",
       "min                        0.148205               2.000000     0.000000   \n",
       "25%                       68.868830               2.000000     1.000000   \n",
       "50%                      136.220159               2.000000     3.000000   \n",
       "75%                      210.949625               7.000000     5.000000   \n",
       "max                      552.590740              13.000000    31.000000   \n",
       "\n",
       "       Avg_class_frequency_total  Avg_class_frequency_current_month  \\\n",
       "count                4000.000000                        4000.000000   \n",
       "mean                    1.879020                           1.767052   \n",
       "std                     0.972245                           1.052906   \n",
       "min                     0.000000                           0.000000   \n",
       "25%                     1.180875                           0.963003   \n",
       "50%                     1.832768                           1.719574   \n",
       "75%                     2.536078                           2.510336   \n",
       "max                     6.023668                           6.146783   \n",
       "\n",
       "             Churn  \n",
       "count  4000.000000  \n",
       "mean      0.265250  \n",
       "std       0.441521  \n",
       "min       0.000000  \n",
       "25%       0.000000  \n",
       "50%       0.000000  \n",
       "75%       1.000000  \n",
       "max       1.000000  "
      ]
     },
     "execution_count": 5,
     "metadata": {},
     "output_type": "execute_result"
    }
   ],
   "source": [
    "# Выводим основную статистику\n",
    "\n",
    "df.describe()"
   ]
  },
  {
   "cell_type": "markdown",
   "id": "31014d5a",
   "metadata": {},
   "source": [
    "---\n",
    "- Набор данных состоит из 4000 записей, состоящих из 14 параметров.  \n",
    "- Повторов записей нет.\n",
    "- Все данные имеют численное выражение (целые и дробные).  \n",
    "- Значений, не соответствующих условиям диапазона для допустимых нет.  \n",
    "- Исходя из известных диапазонов значений, по основной статистике можем сделать вывод об осутствии выбросов в значениях, кроме параметра 'Avg_additional_charges_total'.  \n",
    "- Пропусков нет. На всякий случай проверяем:\n",
    "---"
   ]
  },
  {
   "cell_type": "code",
   "execution_count": 6,
   "id": "a519348a",
   "metadata": {},
   "outputs": [
    {
     "name": "stdout",
     "output_type": "stream",
     "text": [
      "gender                               0\n",
      "Near_Location                        0\n",
      "Partner                              0\n",
      "Promo_friends                        0\n",
      "Phone                                0\n",
      "Contract_period                      0\n",
      "Group_visits                         0\n",
      "Age                                  0\n",
      "Avg_additional_charges_total         0\n",
      "Month_to_end_contract                0\n",
      "Lifetime                             0\n",
      "Avg_class_frequency_total            0\n",
      "Avg_class_frequency_current_month    0\n",
      "Churn                                0\n",
      "dtype: int64\n"
     ]
    }
   ],
   "source": [
    "# Считаем количество пропусков в каждом столбце\n",
    "\n",
    "print(df.isnull().sum())\n",
    "\n",
    "# % пропусков в каждом столбце\n",
    "# (df.isnull().mean() * 100).round(2)"
   ]
  },
  {
   "cell_type": "markdown",
   "id": "2ede480e",
   "metadata": {},
   "source": [
    "---\n",
    "Стоит проверить наличие выбросов в значениях параметра 'Avg_additional_charges_total' (суммарная выручка от других услуг)  \n",
    "Через межквартильный размах корректно искать выбросы в нормально распределенных данных  \n",
    "Оцениваем нормальность распределения визуально:\n",
    "\n",
    "---"
   ]
  },
  {
   "cell_type": "code",
   "execution_count": 7,
   "id": "148485b0",
   "metadata": {},
   "outputs": [
    {
     "data": {
      "text/plain": [
       "NormaltestResult(statistic=217.1033594810358, pvalue=7.187940729972919e-48)"
      ]
     },
     "execution_count": 7,
     "metadata": {},
     "output_type": "execute_result"
    }
   ],
   "source": [
    "stats.normaltest(df['Avg_additional_charges_total'])"
   ]
  },
  {
   "cell_type": "code",
   "execution_count": 8,
   "id": "5831b977",
   "metadata": {},
   "outputs": [
    {
     "data": {
      "text/plain": [
       "<AxesSubplot:xlabel='Avg_additional_charges_total', ylabel='Density'>"
      ]
     },
     "execution_count": 8,
     "metadata": {},
     "output_type": "execute_result"
    },
    {
     "data": {
      "image/png": "[encoded data removed]",
      "text/plain": [
       "<Figure size 432x288 with 1 Axes>"
      ]
     },
     "metadata": {
      "needs_background": "light"
     },
     "output_type": "display_data"
    }
   ],
   "source": [
    "sns.distplot(df.Avg_additional_charges_total)"
   ]
  },
  {
   "cell_type": "markdown",
   "id": "8a9afc37",
   "metadata": {},
   "source": [
    "---\n",
    "Видим распределение, похожее на нормальное, но 'односторонее'  \n",
    "Выбросы возможны только со стороны upper_bound\n",
    "\n",
    "---"
   ]
  },
  {
   "cell_type": "code",
   "execution_count": 9,
   "id": "559c0a65",
   "metadata": {},
   "outputs": [
    {
     "name": "stdout",
     "output_type": "stream",
     "text": [
      "% выбросов по методу квантилей: 0.73\n"
     ]
    }
   ],
   "source": [
    "# Проверяем наличие выбросов в столбце 'Avg_additional_charges_total'\n",
    "# Допустинмые значения: >lower_bound и <upper_bound\n",
    "\n",
    "q1 = df['Avg_additional_charges_total'].quantile(0.25)\n",
    "q3 = df['Avg_additional_charges_total'].quantile(0.75)\n",
    "iqr = q3 - q1\n",
    "lower_bound = q1 - (1.5 * iqr) \n",
    "upper_bound = q3 + (1.5 * iqr)\n",
    "\n",
    "print('% выбросов по методу квантилей:',\n",
    "    round(len(df[(\n",
    "    (df['Avg_additional_charges_total'] < lower_bound) | \n",
    "    (df['Avg_additional_charges_total'] > upper_bound) \n",
    ")]) / len(df['Avg_additional_charges_total']) *100, 2)\n",
    ")"
   ]
  },
  {
   "cell_type": "code",
   "execution_count": 10,
   "id": "587e9eec",
   "metadata": {},
   "outputs": [
    {
     "data": {
      "text/plain": [
       "<AxesSubplot:title={'center':'Выбросы по методу квантилей'}>"
      ]
     },
     "execution_count": 10,
     "metadata": {},
     "output_type": "execute_result"
    },
    {
     "data": {
      "image/png": "[encoded data removed]",
      "text/plain": [
       "<Figure size 432x288 with 1 Axes>"
      ]
     },
     "metadata": {
      "needs_background": "light"
     },
     "output_type": "display_data"
    }
   ],
   "source": [
    "df['Avg_additional_charges_total'].plot(kind='box', title='Выбросы по методу квантилей', grid=True)"
   ]
  },
  {
   "cell_type": "code",
   "execution_count": 11,
   "id": "f91f4373",
   "metadata": {},
   "outputs": [
    {
     "data": {
      "text/html": [
       "<div>\n",
       "<style scoped>\n",
       "    .dataframe tbody tr th:only-of-type {\n",
       "        vertical-align: middle;\n",
       "    }\n",
       "\n",
       "    .dataframe tbody tr th {\n",
       "        vertical-align: top;\n",
       "    }\n",
       "\n",
       "    .dataframe thead th {\n",
       "        text-align: right;\n",
       "    }\n",
       "</style>\n",
       "<table border=\"1\" class=\"dataframe\">\n",
       "  <thead>\n",
       "    <tr style=\"text-align: right;\">\n",
       "      <th></th>\n",
       "      <th>gender</th>\n",
       "      <th>Near_Location</th>\n",
       "      <th>Partner</th>\n",
       "      <th>Promo_friends</th>\n",
       "      <th>Phone</th>\n",
       "      <th>Contract_period</th>\n",
       "      <th>Group_visits</th>\n",
       "      <th>Age</th>\n",
       "      <th>Avg_additional_charges_total</th>\n",
       "      <th>Month_to_end_contract</th>\n",
       "      <th>Lifetime</th>\n",
       "      <th>Avg_class_frequency_total</th>\n",
       "      <th>Avg_class_frequency_current_month</th>\n",
       "      <th>Churn</th>\n",
       "    </tr>\n",
       "  </thead>\n",
       "  <tbody>\n",
       "    <tr>\n",
       "      <th>5</th>\n",
       "      <td>1</td>\n",
       "      <td>1</td>\n",
       "      <td>0</td>\n",
       "      <td>0</td>\n",
       "      <td>1</td>\n",
       "      <td>1</td>\n",
       "      <td>1</td>\n",
       "      <td>34</td>\n",
       "      <td>450.743960</td>\n",
       "      <td>2</td>\n",
       "      <td>3</td>\n",
       "      <td>2.623477</td>\n",
       "      <td>2.637007</td>\n",
       "      <td>0</td>\n",
       "    </tr>\n",
       "    <tr>\n",
       "      <th>483</th>\n",
       "      <td>0</td>\n",
       "      <td>1</td>\n",
       "      <td>0</td>\n",
       "      <td>0</td>\n",
       "      <td>1</td>\n",
       "      <td>1</td>\n",
       "      <td>0</td>\n",
       "      <td>28</td>\n",
       "      <td>455.173225</td>\n",
       "      <td>2</td>\n",
       "      <td>5</td>\n",
       "      <td>2.092353</td>\n",
       "      <td>2.154556</td>\n",
       "      <td>0</td>\n",
       "    </tr>\n",
       "    <tr>\n",
       "      <th>761</th>\n",
       "      <td>0</td>\n",
       "      <td>1</td>\n",
       "      <td>0</td>\n",
       "      <td>0</td>\n",
       "      <td>1</td>\n",
       "      <td>1</td>\n",
       "      <td>1</td>\n",
       "      <td>27</td>\n",
       "      <td>472.318897</td>\n",
       "      <td>2</td>\n",
       "      <td>5</td>\n",
       "      <td>3.547490</td>\n",
       "      <td>3.755130</td>\n",
       "      <td>0</td>\n",
       "    </tr>\n",
       "    <tr>\n",
       "      <th>822</th>\n",
       "      <td>0</td>\n",
       "      <td>1</td>\n",
       "      <td>1</td>\n",
       "      <td>1</td>\n",
       "      <td>1</td>\n",
       "      <td>1</td>\n",
       "      <td>1</td>\n",
       "      <td>29</td>\n",
       "      <td>460.904008</td>\n",
       "      <td>2</td>\n",
       "      <td>10</td>\n",
       "      <td>3.157764</td>\n",
       "      <td>3.154869</td>\n",
       "      <td>0</td>\n",
       "    </tr>\n",
       "    <tr>\n",
       "      <th>862</th>\n",
       "      <td>1</td>\n",
       "      <td>1</td>\n",
       "      <td>0</td>\n",
       "      <td>0</td>\n",
       "      <td>1</td>\n",
       "      <td>1</td>\n",
       "      <td>0</td>\n",
       "      <td>34</td>\n",
       "      <td>445.954527</td>\n",
       "      <td>2</td>\n",
       "      <td>1</td>\n",
       "      <td>1.872359</td>\n",
       "      <td>1.892621</td>\n",
       "      <td>0</td>\n",
       "    </tr>\n",
       "    <tr>\n",
       "      <th>975</th>\n",
       "      <td>0</td>\n",
       "      <td>0</td>\n",
       "      <td>1</td>\n",
       "      <td>0</td>\n",
       "      <td>1</td>\n",
       "      <td>12</td>\n",
       "      <td>1</td>\n",
       "      <td>32</td>\n",
       "      <td>552.590740</td>\n",
       "      <td>12</td>\n",
       "      <td>1</td>\n",
       "      <td>0.887859</td>\n",
       "      <td>0.939304</td>\n",
       "      <td>0</td>\n",
       "    </tr>\n",
       "    <tr>\n",
       "      <th>999</th>\n",
       "      <td>0</td>\n",
       "      <td>1</td>\n",
       "      <td>1</td>\n",
       "      <td>1</td>\n",
       "      <td>1</td>\n",
       "      <td>12</td>\n",
       "      <td>1</td>\n",
       "      <td>28</td>\n",
       "      <td>457.406479</td>\n",
       "      <td>9</td>\n",
       "      <td>1</td>\n",
       "      <td>1.718064</td>\n",
       "      <td>1.655872</td>\n",
       "      <td>0</td>\n",
       "    </tr>\n",
       "    <tr>\n",
       "      <th>1400</th>\n",
       "      <td>1</td>\n",
       "      <td>1</td>\n",
       "      <td>0</td>\n",
       "      <td>0</td>\n",
       "      <td>1</td>\n",
       "      <td>6</td>\n",
       "      <td>1</td>\n",
       "      <td>31</td>\n",
       "      <td>462.178660</td>\n",
       "      <td>5</td>\n",
       "      <td>0</td>\n",
       "      <td>2.504586</td>\n",
       "      <td>2.453484</td>\n",
       "      <td>0</td>\n",
       "    </tr>\n",
       "    <tr>\n",
       "      <th>1597</th>\n",
       "      <td>0</td>\n",
       "      <td>0</td>\n",
       "      <td>0</td>\n",
       "      <td>0</td>\n",
       "      <td>1</td>\n",
       "      <td>6</td>\n",
       "      <td>0</td>\n",
       "      <td>31</td>\n",
       "      <td>471.720040</td>\n",
       "      <td>7</td>\n",
       "      <td>21</td>\n",
       "      <td>3.284087</td>\n",
       "      <td>3.294925</td>\n",
       "      <td>0</td>\n",
       "    </tr>\n",
       "    <tr>\n",
       "      <th>1756</th>\n",
       "      <td>1</td>\n",
       "      <td>1</td>\n",
       "      <td>0</td>\n",
       "      <td>0</td>\n",
       "      <td>1</td>\n",
       "      <td>1</td>\n",
       "      <td>1</td>\n",
       "      <td>30</td>\n",
       "      <td>456.861001</td>\n",
       "      <td>2</td>\n",
       "      <td>2</td>\n",
       "      <td>1.937277</td>\n",
       "      <td>2.011021</td>\n",
       "      <td>0</td>\n",
       "    </tr>\n",
       "    <tr>\n",
       "      <th>1757</th>\n",
       "      <td>1</td>\n",
       "      <td>1</td>\n",
       "      <td>0</td>\n",
       "      <td>0</td>\n",
       "      <td>1</td>\n",
       "      <td>1</td>\n",
       "      <td>0</td>\n",
       "      <td>30</td>\n",
       "      <td>425.535220</td>\n",
       "      <td>2</td>\n",
       "      <td>5</td>\n",
       "      <td>1.010425</td>\n",
       "      <td>0.154223</td>\n",
       "      <td>1</td>\n",
       "    </tr>\n",
       "    <tr>\n",
       "      <th>1797</th>\n",
       "      <td>0</td>\n",
       "      <td>1</td>\n",
       "      <td>1</td>\n",
       "      <td>0</td>\n",
       "      <td>0</td>\n",
       "      <td>1</td>\n",
       "      <td>0</td>\n",
       "      <td>27</td>\n",
       "      <td>496.172222</td>\n",
       "      <td>2</td>\n",
       "      <td>6</td>\n",
       "      <td>1.630830</td>\n",
       "      <td>1.620165</td>\n",
       "      <td>0</td>\n",
       "    </tr>\n",
       "    <tr>\n",
       "      <th>1958</th>\n",
       "      <td>0</td>\n",
       "      <td>0</td>\n",
       "      <td>1</td>\n",
       "      <td>0</td>\n",
       "      <td>0</td>\n",
       "      <td>1</td>\n",
       "      <td>1</td>\n",
       "      <td>26</td>\n",
       "      <td>464.068749</td>\n",
       "      <td>2</td>\n",
       "      <td>4</td>\n",
       "      <td>3.350751</td>\n",
       "      <td>3.259372</td>\n",
       "      <td>0</td>\n",
       "    </tr>\n",
       "    <tr>\n",
       "      <th>2059</th>\n",
       "      <td>0</td>\n",
       "      <td>1</td>\n",
       "      <td>1</td>\n",
       "      <td>0</td>\n",
       "      <td>1</td>\n",
       "      <td>6</td>\n",
       "      <td>0</td>\n",
       "      <td>33</td>\n",
       "      <td>431.061636</td>\n",
       "      <td>7</td>\n",
       "      <td>5</td>\n",
       "      <td>4.005287</td>\n",
       "      <td>4.119855</td>\n",
       "      <td>0</td>\n",
       "    </tr>\n",
       "    <tr>\n",
       "      <th>2063</th>\n",
       "      <td>0</td>\n",
       "      <td>1</td>\n",
       "      <td>1</td>\n",
       "      <td>0</td>\n",
       "      <td>1</td>\n",
       "      <td>12</td>\n",
       "      <td>0</td>\n",
       "      <td>32</td>\n",
       "      <td>488.708175</td>\n",
       "      <td>12</td>\n",
       "      <td>2</td>\n",
       "      <td>1.073821</td>\n",
       "      <td>1.065885</td>\n",
       "      <td>0</td>\n",
       "    </tr>\n",
       "    <tr>\n",
       "      <th>2202</th>\n",
       "      <td>0</td>\n",
       "      <td>1</td>\n",
       "      <td>0</td>\n",
       "      <td>0</td>\n",
       "      <td>1</td>\n",
       "      <td>6</td>\n",
       "      <td>0</td>\n",
       "      <td>30</td>\n",
       "      <td>440.653490</td>\n",
       "      <td>7</td>\n",
       "      <td>3</td>\n",
       "      <td>1.191834</td>\n",
       "      <td>1.202961</td>\n",
       "      <td>0</td>\n",
       "    </tr>\n",
       "    <tr>\n",
       "      <th>2267</th>\n",
       "      <td>1</td>\n",
       "      <td>1</td>\n",
       "      <td>1</td>\n",
       "      <td>0</td>\n",
       "      <td>1</td>\n",
       "      <td>12</td>\n",
       "      <td>0</td>\n",
       "      <td>25</td>\n",
       "      <td>449.033720</td>\n",
       "      <td>12</td>\n",
       "      <td>7</td>\n",
       "      <td>0.014710</td>\n",
       "      <td>0.037995</td>\n",
       "      <td>0</td>\n",
       "    </tr>\n",
       "    <tr>\n",
       "      <th>2276</th>\n",
       "      <td>0</td>\n",
       "      <td>1</td>\n",
       "      <td>1</td>\n",
       "      <td>0</td>\n",
       "      <td>1</td>\n",
       "      <td>12</td>\n",
       "      <td>0</td>\n",
       "      <td>29</td>\n",
       "      <td>424.353056</td>\n",
       "      <td>13</td>\n",
       "      <td>8</td>\n",
       "      <td>3.653327</td>\n",
       "      <td>3.539171</td>\n",
       "      <td>0</td>\n",
       "    </tr>\n",
       "    <tr>\n",
       "      <th>2284</th>\n",
       "      <td>0</td>\n",
       "      <td>1</td>\n",
       "      <td>1</td>\n",
       "      <td>0</td>\n",
       "      <td>1</td>\n",
       "      <td>12</td>\n",
       "      <td>0</td>\n",
       "      <td>32</td>\n",
       "      <td>432.070355</td>\n",
       "      <td>11</td>\n",
       "      <td>4</td>\n",
       "      <td>0.784571</td>\n",
       "      <td>0.758408</td>\n",
       "      <td>0</td>\n",
       "    </tr>\n",
       "    <tr>\n",
       "      <th>2313</th>\n",
       "      <td>0</td>\n",
       "      <td>1</td>\n",
       "      <td>0</td>\n",
       "      <td>0</td>\n",
       "      <td>1</td>\n",
       "      <td>12</td>\n",
       "      <td>1</td>\n",
       "      <td>30</td>\n",
       "      <td>466.027640</td>\n",
       "      <td>10</td>\n",
       "      <td>1</td>\n",
       "      <td>3.519716</td>\n",
       "      <td>3.548916</td>\n",
       "      <td>0</td>\n",
       "    </tr>\n",
       "    <tr>\n",
       "      <th>2342</th>\n",
       "      <td>1</td>\n",
       "      <td>1</td>\n",
       "      <td>0</td>\n",
       "      <td>0</td>\n",
       "      <td>1</td>\n",
       "      <td>1</td>\n",
       "      <td>1</td>\n",
       "      <td>32</td>\n",
       "      <td>442.976355</td>\n",
       "      <td>2</td>\n",
       "      <td>1</td>\n",
       "      <td>1.884685</td>\n",
       "      <td>1.969210</td>\n",
       "      <td>0</td>\n",
       "    </tr>\n",
       "    <tr>\n",
       "      <th>2394</th>\n",
       "      <td>0</td>\n",
       "      <td>0</td>\n",
       "      <td>0</td>\n",
       "      <td>0</td>\n",
       "      <td>1</td>\n",
       "      <td>6</td>\n",
       "      <td>1</td>\n",
       "      <td>32</td>\n",
       "      <td>515.392606</td>\n",
       "      <td>7</td>\n",
       "      <td>4</td>\n",
       "      <td>0.000000</td>\n",
       "      <td>0.000000</td>\n",
       "      <td>0</td>\n",
       "    </tr>\n",
       "    <tr>\n",
       "      <th>2648</th>\n",
       "      <td>0</td>\n",
       "      <td>1</td>\n",
       "      <td>1</td>\n",
       "      <td>0</td>\n",
       "      <td>1</td>\n",
       "      <td>1</td>\n",
       "      <td>1</td>\n",
       "      <td>27</td>\n",
       "      <td>456.934348</td>\n",
       "      <td>2</td>\n",
       "      <td>14</td>\n",
       "      <td>2.649489</td>\n",
       "      <td>2.628932</td>\n",
       "      <td>0</td>\n",
       "    </tr>\n",
       "    <tr>\n",
       "      <th>3541</th>\n",
       "      <td>0</td>\n",
       "      <td>1</td>\n",
       "      <td>0</td>\n",
       "      <td>0</td>\n",
       "      <td>1</td>\n",
       "      <td>1</td>\n",
       "      <td>0</td>\n",
       "      <td>28</td>\n",
       "      <td>476.432655</td>\n",
       "      <td>2</td>\n",
       "      <td>4</td>\n",
       "      <td>3.207606</td>\n",
       "      <td>3.154818</td>\n",
       "      <td>0</td>\n",
       "    </tr>\n",
       "    <tr>\n",
       "      <th>3632</th>\n",
       "      <td>0</td>\n",
       "      <td>1</td>\n",
       "      <td>0</td>\n",
       "      <td>0</td>\n",
       "      <td>1</td>\n",
       "      <td>1</td>\n",
       "      <td>1</td>\n",
       "      <td>28</td>\n",
       "      <td>434.530332</td>\n",
       "      <td>2</td>\n",
       "      <td>3</td>\n",
       "      <td>0.562089</td>\n",
       "      <td>0.392896</td>\n",
       "      <td>0</td>\n",
       "    </tr>\n",
       "    <tr>\n",
       "      <th>3799</th>\n",
       "      <td>1</td>\n",
       "      <td>0</td>\n",
       "      <td>0</td>\n",
       "      <td>0</td>\n",
       "      <td>1</td>\n",
       "      <td>1</td>\n",
       "      <td>1</td>\n",
       "      <td>31</td>\n",
       "      <td>534.256182</td>\n",
       "      <td>2</td>\n",
       "      <td>2</td>\n",
       "      <td>2.325128</td>\n",
       "      <td>2.267241</td>\n",
       "      <td>0</td>\n",
       "    </tr>\n",
       "    <tr>\n",
       "      <th>3869</th>\n",
       "      <td>0</td>\n",
       "      <td>1</td>\n",
       "      <td>1</td>\n",
       "      <td>1</td>\n",
       "      <td>1</td>\n",
       "      <td>12</td>\n",
       "      <td>1</td>\n",
       "      <td>30</td>\n",
       "      <td>429.469075</td>\n",
       "      <td>12</td>\n",
       "      <td>3</td>\n",
       "      <td>2.499115</td>\n",
       "      <td>2.400492</td>\n",
       "      <td>0</td>\n",
       "    </tr>\n",
       "    <tr>\n",
       "      <th>3892</th>\n",
       "      <td>1</td>\n",
       "      <td>1</td>\n",
       "      <td>1</td>\n",
       "      <td>0</td>\n",
       "      <td>1</td>\n",
       "      <td>1</td>\n",
       "      <td>0</td>\n",
       "      <td>26</td>\n",
       "      <td>429.151779</td>\n",
       "      <td>2</td>\n",
       "      <td>1</td>\n",
       "      <td>2.624928</td>\n",
       "      <td>2.718264</td>\n",
       "      <td>0</td>\n",
       "    </tr>\n",
       "    <tr>\n",
       "      <th>3942</th>\n",
       "      <td>0</td>\n",
       "      <td>1</td>\n",
       "      <td>0</td>\n",
       "      <td>0</td>\n",
       "      <td>1</td>\n",
       "      <td>1</td>\n",
       "      <td>0</td>\n",
       "      <td>28</td>\n",
       "      <td>468.205360</td>\n",
       "      <td>2</td>\n",
       "      <td>2</td>\n",
       "      <td>0.763912</td>\n",
       "      <td>0.660546</td>\n",
       "      <td>0</td>\n",
       "    </tr>\n",
       "  </tbody>\n",
       "</table>\n",
       "</div>"
      ],
      "text/plain": [
       "      gender  Near_Location  Partner  Promo_friends  Phone  Contract_period  \\\n",
       "5          1              1        0              0      1                1   \n",
       "483        0              1        0              0      1                1   \n",
       "761        0              1        0              0      1                1   \n",
       "822        0              1        1              1      1                1   \n",
       "862        1              1        0              0      1                1   \n",
       "975        0              0        1              0      1               12   \n",
       "999        0              1        1              1      1               12   \n",
       "1400       1              1        0              0      1                6   \n",
       "1597       0              0        0              0      1                6   \n",
       "1756       1              1        0              0      1                1   \n",
       "1757       1              1        0              0      1                1   \n",
       "1797       0              1        1              0      0                1   \n",
       "1958       0              0        1              0      0                1   \n",
       "2059       0              1        1              0      1                6   \n",
       "2063       0              1        1              0      1               12   \n",
       "2202       0              1        0              0      1                6   \n",
       "2267       1              1        1              0      1               12   \n",
       "2276       0              1        1              0      1               12   \n",
       "2284       0              1        1              0      1               12   \n",
       "2313       0              1        0              0      1               12   \n",
       "2342       1              1        0              0      1                1   \n",
       "2394       0              0        0              0      1                6   \n",
       "2648       0              1        1              0      1                1   \n",
       "3541       0              1        0              0      1                1   \n",
       "3632       0              1        0              0      1                1   \n",
       "3799       1              0        0              0      1                1   \n",
       "3869       0              1        1              1      1               12   \n",
       "3892       1              1        1              0      1                1   \n",
       "3942       0              1        0              0      1                1   \n",
       "\n",
       "      Group_visits  Age  Avg_additional_charges_total  Month_to_end_contract  \\\n",
       "5                1   34                    450.743960                      2   \n",
       "483              0   28                    455.173225                      2   \n",
       "761              1   27                    472.318897                      2   \n",
       "822              1   29                    460.904008                      2   \n",
       "862              0   34                    445.954527                      2   \n",
       "975              1   32                    552.590740                     12   \n",
       "999              1   28                    457.406479                      9   \n",
       "1400             1   31                    462.178660                      5   \n",
       "1597             0   31                    471.720040                      7   \n",
       "1756             1   30                    456.861001                      2   \n",
       "1757             0   30                    425.535220                      2   \n",
       "1797             0   27                    496.172222                      2   \n",
       "1958             1   26                    464.068749                      2   \n",
       "2059             0   33                    431.061636                      7   \n",
       "2063             0   32                    488.708175                     12   \n",
       "2202             0   30                    440.653490                      7   \n",
       "2267             0   25                    449.033720                     12   \n",
       "2276             0   29                    424.353056                     13   \n",
       "2284             0   32                    432.070355                     11   \n",
       "2313             1   30                    466.027640                     10   \n",
       "2342             1   32                    442.976355                      2   \n",
       "2394             1   32                    515.392606                      7   \n",
       "2648             1   27                    456.934348                      2   \n",
       "3541             0   28                    476.432655                      2   \n",
       "3632             1   28                    434.530332                      2   \n",
       "3799             1   31                    534.256182                      2   \n",
       "3869             1   30                    429.469075                     12   \n",
       "3892             0   26                    429.151779                      2   \n",
       "3942             0   28                    468.205360                      2   \n",
       "\n",
       "      Lifetime  Avg_class_frequency_total  Avg_class_frequency_current_month  \\\n",
       "5            3                   2.623477                           2.637007   \n",
       "483          5                   2.092353                           2.154556   \n",
       "761          5                   3.547490                           3.755130   \n",
       "822         10                   3.157764                           3.154869   \n",
       "862          1                   1.872359                           1.892621   \n",
       "975          1                   0.887859                           0.939304   \n",
       "999          1                   1.718064                           1.655872   \n",
       "1400         0                   2.504586                           2.453484   \n",
       "1597        21                   3.284087                           3.294925   \n",
       "1756         2                   1.937277                           2.011021   \n",
       "1757         5                   1.010425                           0.154223   \n",
       "1797         6                   1.630830                           1.620165   \n",
       "1958         4                   3.350751                           3.259372   \n",
       "2059         5                   4.005287                           4.119855   \n",
       "2063         2                   1.073821                           1.065885   \n",
       "2202         3                   1.191834                           1.202961   \n",
       "2267         7                   0.014710                           0.037995   \n",
       "2276         8                   3.653327                           3.539171   \n",
       "2284         4                   0.784571                           0.758408   \n",
       "2313         1                   3.519716                           3.548916   \n",
       "2342         1                   1.884685                           1.969210   \n",
       "2394         4                   0.000000                           0.000000   \n",
       "2648        14                   2.649489                           2.628932   \n",
       "3541         4                   3.207606                           3.154818   \n",
       "3632         3                   0.562089                           0.392896   \n",
       "3799         2                   2.325128                           2.267241   \n",
       "3869         3                   2.499115                           2.400492   \n",
       "3892         1                   2.624928                           2.718264   \n",
       "3942         2                   0.763912                           0.660546   \n",
       "\n",
       "      Churn  \n",
       "5         0  \n",
       "483       0  \n",
       "761       0  \n",
       "822       0  \n",
       "862       0  \n",
       "975       0  \n",
       "999       0  \n",
       "1400      0  \n",
       "1597      0  \n",
       "1756      0  \n",
       "1757      1  \n",
       "1797      0  \n",
       "1958      0  \n",
       "2059      0  \n",
       "2063      0  \n",
       "2202      0  \n",
       "2267      0  \n",
       "2276      0  \n",
       "2284      0  \n",
       "2313      0  \n",
       "2342      0  \n",
       "2394      0  \n",
       "2648      0  \n",
       "3541      0  \n",
       "3632      0  \n",
       "3799      0  \n",
       "3869      0  \n",
       "3892      0  \n",
       "3942      0  "
      ]
     },
     "execution_count": 11,
     "metadata": {},
     "output_type": "execute_result"
    }
   ],
   "source": [
    "# Выводим эти выбросы:\n",
    "\n",
    "df[(\n",
    "    (df['Avg_additional_charges_total'] < lower_bound) | \n",
    "    (df['Avg_additional_charges_total'] > upper_bound) \n",
    ")]"
   ]
  },
  {
   "cell_type": "markdown",
   "id": "ecf3c2b2",
   "metadata": {},
   "source": [
    "---\n",
    "## <a id = 'task6'> 1.2. Оценка коррелирующих с оттоком параметров\n",
    "---"
   ]
  },
  {
   "cell_type": "code",
   "execution_count": 12,
   "id": "b2219bf5",
   "metadata": {},
   "outputs": [
    {
     "data": {
      "text/html": [
       "<div>\n",
       "<style scoped>\n",
       "    .dataframe tbody tr th:only-of-type {\n",
       "        vertical-align: middle;\n",
       "    }\n",
       "\n",
       "    .dataframe tbody tr th {\n",
       "        vertical-align: top;\n",
       "    }\n",
       "\n",
       "    .dataframe thead th {\n",
       "        text-align: right;\n",
       "    }\n",
       "</style>\n",
       "<table border=\"1\" class=\"dataframe\">\n",
       "  <thead>\n",
       "    <tr style=\"text-align: right;\">\n",
       "      <th></th>\n",
       "      <th>Churn</th>\n",
       "      <th>count</th>\n",
       "      <th>% charn</th>\n",
       "    </tr>\n",
       "  </thead>\n",
       "  <tbody>\n",
       "    <tr>\n",
       "      <th>0</th>\n",
       "      <td>0</td>\n",
       "      <td>2939</td>\n",
       "      <td>73</td>\n",
       "    </tr>\n",
       "    <tr>\n",
       "      <th>1</th>\n",
       "      <td>1</td>\n",
       "      <td>1061</td>\n",
       "      <td>27</td>\n",
       "    </tr>\n",
       "  </tbody>\n",
       "</table>\n",
       "</div>"
      ],
      "text/plain": [
       "   Churn  count  % charn\n",
       "0      0   2939       73\n",
       "1      1   1061       27"
      ]
     },
     "execution_count": 12,
     "metadata": {},
     "output_type": "execute_result"
    }
   ],
   "source": [
    "# Оцениваем масштаб оттока в текущем месяце\n",
    "\n",
    "data = df[['Churn']].value_counts()\n",
    "data = data.to_frame().reset_index()\n",
    "data = data.rename(columns = {0:'count'})\n",
    "data['% charn'] = round(data['count'] / data['count'].sum() * 100, 0).astype('int')\n",
    "\n",
    "data"
   ]
  },
  {
   "cell_type": "code",
   "execution_count": 13,
   "id": "9f88fed1",
   "metadata": {},
   "outputs": [
    {
     "data": {
      "image/png": "[encoded data removed]",
      "text/plain": [
       "<Figure size 432x288 with 1 Axes>"
      ]
     },
     "metadata": {
      "needs_background": "light"
     },
     "output_type": "display_data"
    }
   ],
   "source": [
    "sns.barplot(x = ['churn_0', 'churn_1'], y='% charn', data=data, palette='pastel')\n",
    "plt.title(\"Churn rate\")\n",
    "plt.xlabel('Churn')\n",
    "plt.ylabel('%')\n",
    "\n",
    "plt.show()"
   ]
  },
  {
   "cell_type": "markdown",
   "id": "3e692428",
   "metadata": {},
   "source": [
    "---\n",
    "Отток клиентов сотавляет 27%  \n",
    "Строим матрицу корреляций, чтобы найти наиболее влияющие на отток факторы\n",
    "\n",
    "---"
   ]
  },
  {
   "cell_type": "code",
   "execution_count": 14,
   "id": "f8cb4773",
   "metadata": {
    "scrolled": false
   },
   "outputs": [
    {
     "data": {
      "image/png": "[encoded data removed]",
      "text/plain": [
       "<Figure size 1080x720 with 2 Axes>"
      ]
     },
     "metadata": {
      "needs_background": "light"
     },
     "output_type": "display_data"
    }
   ],
   "source": [
    "plt.figure(figsize=(15,10))\n",
    "sns.heatmap(data = df.corr(), annot=True, square=True)\n",
    "plt.title('Матрица корреляций')\n",
    "plt.show()"
   ]
  },
  {
   "cell_type": "markdown",
   "id": "80c2b240",
   "metadata": {},
   "source": [
    "---\n",
    "Между собой параметры имеют довольно низкую корреляцию.  \n",
    "Исключения составляют производные от себя параметры.\n",
    "\n",
    "---"
   ]
  },
  {
   "cell_type": "code",
   "execution_count": 15,
   "id": "e81fa269",
   "metadata": {
    "scrolled": false
   },
   "outputs": [
    {
     "data": {
      "text/html": [
       "<div>\n",
       "<style scoped>\n",
       "    .dataframe tbody tr th:only-of-type {\n",
       "        vertical-align: middle;\n",
       "    }\n",
       "\n",
       "    .dataframe tbody tr th {\n",
       "        vertical-align: top;\n",
       "    }\n",
       "\n",
       "    .dataframe thead th {\n",
       "        text-align: right;\n",
       "    }\n",
       "</style>\n",
       "<table border=\"1\" class=\"dataframe\">\n",
       "  <thead>\n",
       "    <tr style=\"text-align: right;\">\n",
       "      <th></th>\n",
       "      <th>Churn</th>\n",
       "    </tr>\n",
       "  </thead>\n",
       "  <tbody>\n",
       "    <tr>\n",
       "      <th>Lifetime</th>\n",
       "      <td>-0.438220</td>\n",
       "    </tr>\n",
       "    <tr>\n",
       "      <th>Avg_class_frequency_current_month</th>\n",
       "      <td>-0.412348</td>\n",
       "    </tr>\n",
       "    <tr>\n",
       "      <th>Age</th>\n",
       "      <td>-0.404735</td>\n",
       "    </tr>\n",
       "    <tr>\n",
       "      <th>Contract_period</th>\n",
       "      <td>-0.389984</td>\n",
       "    </tr>\n",
       "    <tr>\n",
       "      <th>Month_to_end_contract</th>\n",
       "      <td>-0.374307</td>\n",
       "    </tr>\n",
       "    <tr>\n",
       "      <th>Avg_class_frequency_total</th>\n",
       "      <td>-0.249715</td>\n",
       "    </tr>\n",
       "    <tr>\n",
       "      <th>Avg_additional_charges_total</th>\n",
       "      <td>-0.198697</td>\n",
       "    </tr>\n",
       "    <tr>\n",
       "      <th>Group_visits</th>\n",
       "      <td>-0.175325</td>\n",
       "    </tr>\n",
       "    <tr>\n",
       "      <th>Promo_friends</th>\n",
       "      <td>-0.162233</td>\n",
       "    </tr>\n",
       "    <tr>\n",
       "      <th>Partner</th>\n",
       "      <td>-0.157986</td>\n",
       "    </tr>\n",
       "    <tr>\n",
       "      <th>Near_Location</th>\n",
       "      <td>-0.128098</td>\n",
       "    </tr>\n",
       "    <tr>\n",
       "      <th>Phone</th>\n",
       "      <td>-0.001177</td>\n",
       "    </tr>\n",
       "    <tr>\n",
       "      <th>gender</th>\n",
       "      <td>0.000708</td>\n",
       "    </tr>\n",
       "  </tbody>\n",
       "</table>\n",
       "</div>"
      ],
      "text/plain": [
       "                                      Churn\n",
       "Lifetime                          -0.438220\n",
       "Avg_class_frequency_current_month -0.412348\n",
       "Age                               -0.404735\n",
       "Contract_period                   -0.389984\n",
       "Month_to_end_contract             -0.374307\n",
       "Avg_class_frequency_total         -0.249715\n",
       "Avg_additional_charges_total      -0.198697\n",
       "Group_visits                      -0.175325\n",
       "Promo_friends                     -0.162233\n",
       "Partner                           -0.157986\n",
       "Near_Location                     -0.128098\n",
       "Phone                             -0.001177\n",
       "gender                             0.000708"
      ]
     },
     "execution_count": 15,
     "metadata": {},
     "output_type": "execute_result"
    }
   ],
   "source": [
    "df.corr()[['Churn']].sort_values(by = 'Churn')\n",
    "df_corr = df.corr()[['Churn']].sort_values(by = 'Churn')\n",
    "df_corr = df_corr.drop(df_corr[df_corr.index == 'Churn'].index)\n",
    "df_corr"
   ]
  },
  {
   "cell_type": "markdown",
   "id": "cb3a62ce",
   "metadata": {},
   "source": [
    "---\n",
    "Наиболее сильная корреляция связана со сроком посещения, частотой посещений и возрастом клиентов.  \n",
    "Можно выделить следующие характеристики, присущие потерянным клиентам:\n",
    "\n",
    "- новые клиенты\n",
    "- редко посесяющие клуб\n",
    "- молодые клиенты\n",
    "- с коротким абонементом\n",
    "\n",
    "Следовательно, нужно направить усилия на мотивацию клентов чаще заниматься.   \n",
    "Упор сделать на более молодых с коротким абонементом.\n",
    "\n",
    "**Предложение:**  \n",
    "- Провести опрос редко занимающихся клиентов с целью выявления причин такого поведения\n",
    "- По результатам опроса рассмотреть возможность устранения выявленных причин.\n",
    "\n",
    "---"
   ]
  },
  {
   "cell_type": "markdown",
   "id": "fe5b33d8",
   "metadata": {},
   "source": [
    "## <a id = 'task7'> 1.3. Общий портрет клиента в разрезе оттока\n",
    "\n",
    "---"
   ]
  },
  {
   "cell_type": "markdown",
   "id": "b3ba2164",
   "metadata": {},
   "source": [
    "Разделим параметры по типам имеющихся данных:\n",
    "- Параметры с категориальными значениями\n",
    "- Параметры с непрерывными значениями\n",
    "\n",
    "---\n",
    "\n",
    "### 1. Параметры с категориальными значениями\n",
    "На основании срезов средних значений параметров с категориальными значениями сравниваем общие портреты оставшихся и уходящих клиентов:\n",
    "\n",
    "---"
   ]
  },
  {
   "cell_type": "code",
   "execution_count": 16,
   "id": "cb2bac8b",
   "metadata": {
    "scrolled": false
   },
   "outputs": [
    {
     "data": {
      "text/html": [
       "<div>\n",
       "<style scoped>\n",
       "    .dataframe tbody tr th:only-of-type {\n",
       "        vertical-align: middle;\n",
       "    }\n",
       "\n",
       "    .dataframe tbody tr th {\n",
       "        vertical-align: top;\n",
       "    }\n",
       "\n",
       "    .dataframe thead th {\n",
       "        text-align: right;\n",
       "    }\n",
       "</style>\n",
       "<table border=\"1\" class=\"dataframe\">\n",
       "  <thead>\n",
       "    <tr style=\"text-align: right;\">\n",
       "      <th></th>\n",
       "      <th>churn_0_mean</th>\n",
       "      <th>churn_1_mean</th>\n",
       "      <th>%</th>\n",
       "    </tr>\n",
       "  </thead>\n",
       "  <tbody>\n",
       "    <tr>\n",
       "      <th>Promo_friends</th>\n",
       "      <td>0.35</td>\n",
       "      <td>0.18</td>\n",
       "      <td>94</td>\n",
       "    </tr>\n",
       "    <tr>\n",
       "      <th>Group_visits</th>\n",
       "      <td>0.46</td>\n",
       "      <td>0.27</td>\n",
       "      <td>70</td>\n",
       "    </tr>\n",
       "    <tr>\n",
       "      <th>Partner</th>\n",
       "      <td>0.53</td>\n",
       "      <td>0.36</td>\n",
       "      <td>47</td>\n",
       "    </tr>\n",
       "    <tr>\n",
       "      <th>Near_Location</th>\n",
       "      <td>0.87</td>\n",
       "      <td>0.77</td>\n",
       "      <td>12</td>\n",
       "    </tr>\n",
       "    <tr>\n",
       "      <th>gender</th>\n",
       "      <td>0.51</td>\n",
       "      <td>0.51</td>\n",
       "      <td>0</td>\n",
       "    </tr>\n",
       "    <tr>\n",
       "      <th>Phone</th>\n",
       "      <td>0.90</td>\n",
       "      <td>0.90</td>\n",
       "      <td>0</td>\n",
       "    </tr>\n",
       "  </tbody>\n",
       "</table>\n",
       "</div>"
      ],
      "text/plain": [
       "               churn_0_mean  churn_1_mean   %\n",
       "Promo_friends          0.35          0.18  94\n",
       "Group_visits           0.46          0.27  70\n",
       "Partner                0.53          0.36  47\n",
       "Near_Location          0.87          0.77  12\n",
       "gender                 0.51          0.51   0\n",
       "Phone                  0.90          0.90   0"
      ]
     },
     "execution_count": 16,
     "metadata": {},
     "output_type": "execute_result"
    }
   ],
   "source": [
    "cat_mean_compare = round(df[df['Churn'] == 0].mean(),2)[['Group_visits', 'Promo_friends', 'Partner', 'Near_Location', 'gender', 'Phone']]\n",
    "cat_mean_compare = cat_mean_compare.to_frame()\n",
    "cat_mean_compare = cat_mean_compare.rename(columns = {0:'churn_0_mean'})\n",
    "\n",
    "cat_mean_compare['churn_1_mean'] = round(df[df['Churn'] == 1].mean(),2)\n",
    "cat_mean_compare['%'] = (cat_mean_compare['churn_0_mean'] / cat_mean_compare['churn_1_mean']*100-100).astype(int)\n",
    "cat_mean_compare = cat_mean_compare.sort_values(by='%', ascending=False)\n",
    "\n",
    "cat_mean_compare = cat_mean_compare.drop(cat_mean_compare[cat_mean_compare.index == 'Churn'].index)\n",
    "cat_mean_compare"
   ]
  },
  {
   "cell_type": "markdown",
   "id": "cc2a9207",
   "metadata": {},
   "source": [
    "---\n",
    "Оценим различия визуально:\n",
    "\n",
    "---"
   ]
  },
  {
   "cell_type": "code",
   "execution_count": 17,
   "id": "a28bb622",
   "metadata": {
    "scrolled": false
   },
   "outputs": [
    {
     "data": {
      "image/png": "[encoded data removed]",
      "text/plain": [
       "<Figure size 432x288 with 1 Axes>"
      ]
     },
     "metadata": {
      "needs_background": "light"
     },
     "output_type": "display_data"
    },
    {
     "name": "stdout",
     "output_type": "stream",
     "text": [
      "\n"
     ]
    },
    {
     "data": {
      "image/png": "[encoded data removed]",
      "text/plain": [
       "<Figure size 432x288 with 1 Axes>"
      ]
     },
     "metadata": {
      "needs_background": "light"
     },
     "output_type": "display_data"
    },
    {
     "name": "stdout",
     "output_type": "stream",
     "text": [
      "\n"
     ]
    },
    {
     "data": {
      "image/png": "[encoded data removed]",
      "text/plain": [
       "<Figure size 432x288 with 1 Axes>"
      ]
     },
     "metadata": {
      "needs_background": "light"
     },
     "output_type": "display_data"
    },
    {
     "name": "stdout",
     "output_type": "stream",
     "text": [
      "\n"
     ]
    },
    {
     "data": {
      "image/png": "[encoded data removed]",
      "text/plain": [
       "<Figure size 432x288 with 1 Axes>"
      ]
     },
     "metadata": {
      "needs_background": "light"
     },
     "output_type": "display_data"
    },
    {
     "name": "stdout",
     "output_type": "stream",
     "text": [
      "\n"
     ]
    },
    {
     "data": {
      "image/png": "[encoded data removed]",
      "text/plain": [
       "<Figure size 432x288 with 1 Axes>"
      ]
     },
     "metadata": {
      "needs_background": "light"
     },
     "output_type": "display_data"
    },
    {
     "name": "stdout",
     "output_type": "stream",
     "text": [
      "\n"
     ]
    },
    {
     "data": {
      "image/png": "[encoded data removed]",
      "text/plain": [
       "<Figure size 432x288 with 1 Axes>"
      ]
     },
     "metadata": {
      "needs_background": "light"
     },
     "output_type": "display_data"
    },
    {
     "name": "stdout",
     "output_type": "stream",
     "text": [
      "\n"
     ]
    }
   ],
   "source": [
    "for a in range(len(cat_mean_compare)):\n",
    "    sns.barplot(data = cat_mean_compare[['churn_0_mean', 'churn_1_mean']][a:a+1], palette='pastel')\n",
    "    plt.title(cat_mean_compare[a:a+1].index[0])\n",
    "    plt.show()\n",
    "    print('')\n",
    "    "
   ]
  },
  {
   "cell_type": "markdown",
   "id": "28276942",
   "metadata": {},
   "source": [
    "---\n",
    "### 2. Параметры с непрерывными значениями\n",
    "На основании распределения значений параметров с непрерывными значениями сравниваем общие портреты оставшихся и уходящих клиентов:\n",
    "\n",
    "---"
   ]
  },
  {
   "cell_type": "code",
   "execution_count": 18,
   "id": "07387a20",
   "metadata": {},
   "outputs": [
    {
     "data": {
      "text/html": [
       "<div>\n",
       "<style scoped>\n",
       "    .dataframe tbody tr th:only-of-type {\n",
       "        vertical-align: middle;\n",
       "    }\n",
       "\n",
       "    .dataframe tbody tr th {\n",
       "        vertical-align: top;\n",
       "    }\n",
       "\n",
       "    .dataframe thead th {\n",
       "        text-align: right;\n",
       "    }\n",
       "</style>\n",
       "<table border=\"1\" class=\"dataframe\">\n",
       "  <thead>\n",
       "    <tr style=\"text-align: right;\">\n",
       "      <th></th>\n",
       "      <th>churn_0_mean</th>\n",
       "      <th>churn_1_mean</th>\n",
       "      <th>%</th>\n",
       "    </tr>\n",
       "  </thead>\n",
       "  <tbody>\n",
       "    <tr>\n",
       "      <th>Lifetime</th>\n",
       "      <td>4.71</td>\n",
       "      <td>0.99</td>\n",
       "      <td>375</td>\n",
       "    </tr>\n",
       "    <tr>\n",
       "      <th>Contract_period</th>\n",
       "      <td>5.75</td>\n",
       "      <td>1.73</td>\n",
       "      <td>232</td>\n",
       "    </tr>\n",
       "    <tr>\n",
       "      <th>Month_to_end_contract</th>\n",
       "      <td>5.89</td>\n",
       "      <td>2.58</td>\n",
       "      <td>128</td>\n",
       "    </tr>\n",
       "    <tr>\n",
       "      <th>Avg_class_frequency_current_month</th>\n",
       "      <td>2.03</td>\n",
       "      <td>1.04</td>\n",
       "      <td>95</td>\n",
       "    </tr>\n",
       "    <tr>\n",
       "      <th>Avg_class_frequency_total</th>\n",
       "      <td>2.02</td>\n",
       "      <td>1.47</td>\n",
       "      <td>37</td>\n",
       "    </tr>\n",
       "    <tr>\n",
       "      <th>Avg_additional_charges_total</th>\n",
       "      <td>158.45</td>\n",
       "      <td>115.08</td>\n",
       "      <td>37</td>\n",
       "    </tr>\n",
       "    <tr>\n",
       "      <th>Age</th>\n",
       "      <td>29.98</td>\n",
       "      <td>26.99</td>\n",
       "      <td>11</td>\n",
       "    </tr>\n",
       "  </tbody>\n",
       "</table>\n",
       "</div>"
      ],
      "text/plain": [
       "                                   churn_0_mean  churn_1_mean    %\n",
       "Lifetime                                   4.71          0.99  375\n",
       "Contract_period                            5.75          1.73  232\n",
       "Month_to_end_contract                      5.89          2.58  128\n",
       "Avg_class_frequency_current_month          2.03          1.04   95\n",
       "Avg_class_frequency_total                  2.02          1.47   37\n",
       "Avg_additional_charges_total             158.45        115.08   37\n",
       "Age                                       29.98         26.99   11"
      ]
     },
     "execution_count": 18,
     "metadata": {},
     "output_type": "execute_result"
    }
   ],
   "source": [
    "cont_mean_compare = round(df[df['Churn'] == 0].mean(),2)[['Lifetime', 'Avg_class_frequency_current_month', 'Age', 'Contract_period', 'Month_to_end_contract', 'Avg_class_frequency_total', 'Avg_additional_charges_total']]\n",
    "cont_mean_compare = cont_mean_compare.to_frame()\n",
    "cont_mean_compare = cont_mean_compare.rename(columns = {0:'churn_0_mean'})\n",
    "\n",
    "cont_mean_compare['churn_1_mean'] = round(df[df['Churn'] == 1].mean(),2)\n",
    "cont_mean_compare['%'] = (cont_mean_compare['churn_0_mean'] / cont_mean_compare['churn_1_mean']*100-100).astype(int)\n",
    "cont_mean_compare = cont_mean_compare.sort_values(by='%', ascending=False)\n",
    "\n",
    "cont_mean_compare = cont_mean_compare.drop(cont_mean_compare[cont_mean_compare.index == 'Churn'].index)\n",
    "cont_mean_compare"
   ]
  },
  {
   "cell_type": "markdown",
   "id": "b94cbc79",
   "metadata": {},
   "source": [
    "---\n",
    "Оценим распределение значений визуально:\n",
    "\n",
    "---"
   ]
  },
  {
   "cell_type": "code",
   "execution_count": 19,
   "id": "e957973e",
   "metadata": {
    "scrolled": false
   },
   "outputs": [
    {
     "name": "stdout",
     "output_type": "stream",
     "text": [
      "\n"
     ]
    },
    {
     "data": {
      "image/png": "[encoded data removed]",
      "text/plain": [
       "<Figure size 432x288 with 1 Axes>"
      ]
     },
     "metadata": {
      "needs_background": "light"
     },
     "output_type": "display_data"
    },
    {
     "name": "stdout",
     "output_type": "stream",
     "text": [
      "\n",
      "\n"
     ]
    },
    {
     "data": {
      "image/png": "[encoded data removed]",
      "text/plain": [
       "<Figure size 432x288 with 1 Axes>"
      ]
     },
     "metadata": {
      "needs_background": "light"
     },
     "output_type": "display_data"
    },
    {
     "name": "stdout",
     "output_type": "stream",
     "text": [
      "\n",
      "\n"
     ]
    },
    {
     "data": {
      "image/png": "[encoded data removed]",
      "text/plain": [
       "<Figure size 432x288 with 1 Axes>"
      ]
     },
     "metadata": {
      "needs_background": "light"
     },
     "output_type": "display_data"
    },
    {
     "name": "stdout",
     "output_type": "stream",
     "text": [
      "\n",
      "\n"
     ]
    },
    {
     "data": {
      "image/png": "[encoded data removed]",
      "text/plain": [
       "<Figure size 432x288 with 1 Axes>"
      ]
     },
     "metadata": {
      "needs_background": "light"
     },
     "output_type": "display_data"
    },
    {
     "name": "stdout",
     "output_type": "stream",
     "text": [
      "\n",
      "\n"
     ]
    },
    {
     "data": {
      "image/png": "[encoded data removed]",
      "text/plain": [
       "<Figure size 432x288 with 1 Axes>"
      ]
     },
     "metadata": {
      "needs_background": "light"
     },
     "output_type": "display_data"
    },
    {
     "name": "stdout",
     "output_type": "stream",
     "text": [
      "\n",
      "\n"
     ]
    },
    {
     "data": {
      "image/png": "[encoded data removed]",
      "text/plain": [
       "<Figure size 432x288 with 1 Axes>"
      ]
     },
     "metadata": {
      "needs_background": "light"
     },
     "output_type": "display_data"
    },
    {
     "name": "stdout",
     "output_type": "stream",
     "text": [
      "\n",
      "\n"
     ]
    },
    {
     "data": {
      "image/png": "[encoded data removed]",
      "text/plain": [
       "<Figure size 432x288 with 1 Axes>"
      ]
     },
     "metadata": {
      "needs_background": "light"
     },
     "output_type": "display_data"
    },
    {
     "name": "stdout",
     "output_type": "stream",
     "text": [
      "\n"
     ]
    }
   ],
   "source": [
    "сontinuous_data_Churn_0 = df[df['Churn'] == 0] [['Lifetime', 'Contract_period', 'Month_to_end_contract', 'Avg_class_frequency_current_month', 'Avg_class_frequency_total', 'Avg_additional_charges_total', 'Age']]\n",
    "сontinuous_data_Churn_0\n",
    "\n",
    "сontinuous_data_Churn_1 = df[df['Churn'] == 1] [['Lifetime', 'Contract_period', 'Month_to_end_contract', 'Avg_class_frequency_current_month', 'Avg_class_frequency_total', 'Avg_additional_charges_total', 'Age']]\n",
    "сontinuous_data_Churn_1\n",
    "\n",
    "for a in сontinuous_data_Churn_0.columns:\n",
    "    \n",
    "    sns.distplot(сontinuous_data_Churn_0[a])\n",
    "    sns.distplot(сontinuous_data_Churn_1[a])\n",
    "\n",
    "    print('')\n",
    "    plt.title(a+' distribution')\n",
    "    plt.legend(['Churn = 0', 'Churn = 1'])\n",
    "    plt.show()\n",
    "    \n",
    "    print('')"
   ]
  },
  {
   "cell_type": "markdown",
   "id": "3a8ea38f",
   "metadata": {},
   "source": [
    "---\n",
    "## <a id = 'task8'> 1.4. Выводы и предложения\n",
    "    \n",
    "Разделим параметры на группы по степени влияния на отток:\n",
    "    \n",
    "---"
   ]
  },
  {
   "cell_type": "code",
   "execution_count": 20,
   "id": "5827f6b0",
   "metadata": {},
   "outputs": [
    {
     "data": {
      "text/html": [
       "<div>\n",
       "<style scoped>\n",
       "    .dataframe tbody tr th:only-of-type {\n",
       "        vertical-align: middle;\n",
       "    }\n",
       "\n",
       "    .dataframe tbody tr th {\n",
       "        vertical-align: top;\n",
       "    }\n",
       "\n",
       "    .dataframe thead th {\n",
       "        text-align: right;\n",
       "    }\n",
       "</style>\n",
       "<table border=\"1\" class=\"dataframe\">\n",
       "  <thead>\n",
       "    <tr style=\"text-align: right;\">\n",
       "      <th></th>\n",
       "      <th>churn_0_mean</th>\n",
       "      <th>churn_1_mean</th>\n",
       "      <th>%</th>\n",
       "    </tr>\n",
       "  </thead>\n",
       "  <tbody>\n",
       "    <tr>\n",
       "      <th>Lifetime</th>\n",
       "      <td>4.71</td>\n",
       "      <td>0.99</td>\n",
       "      <td>375</td>\n",
       "    </tr>\n",
       "    <tr>\n",
       "      <th>Contract_period</th>\n",
       "      <td>5.75</td>\n",
       "      <td>1.73</td>\n",
       "      <td>232</td>\n",
       "    </tr>\n",
       "    <tr>\n",
       "      <th>Month_to_end_contract</th>\n",
       "      <td>5.89</td>\n",
       "      <td>2.58</td>\n",
       "      <td>128</td>\n",
       "    </tr>\n",
       "    <tr>\n",
       "      <th>Avg_class_frequency_current_month</th>\n",
       "      <td>2.03</td>\n",
       "      <td>1.04</td>\n",
       "      <td>95</td>\n",
       "    </tr>\n",
       "    <tr>\n",
       "      <th>Promo_friends</th>\n",
       "      <td>0.35</td>\n",
       "      <td>0.18</td>\n",
       "      <td>94</td>\n",
       "    </tr>\n",
       "    <tr>\n",
       "      <th>Group_visits</th>\n",
       "      <td>0.46</td>\n",
       "      <td>0.27</td>\n",
       "      <td>70</td>\n",
       "    </tr>\n",
       "    <tr>\n",
       "      <th>Partner</th>\n",
       "      <td>0.53</td>\n",
       "      <td>0.36</td>\n",
       "      <td>47</td>\n",
       "    </tr>\n",
       "    <tr>\n",
       "      <th>Avg_additional_charges_total</th>\n",
       "      <td>158.45</td>\n",
       "      <td>115.08</td>\n",
       "      <td>37</td>\n",
       "    </tr>\n",
       "    <tr>\n",
       "      <th>Avg_class_frequency_total</th>\n",
       "      <td>2.02</td>\n",
       "      <td>1.47</td>\n",
       "      <td>37</td>\n",
       "    </tr>\n",
       "    <tr>\n",
       "      <th>Near_Location</th>\n",
       "      <td>0.87</td>\n",
       "      <td>0.77</td>\n",
       "      <td>12</td>\n",
       "    </tr>\n",
       "    <tr>\n",
       "      <th>Age</th>\n",
       "      <td>29.98</td>\n",
       "      <td>26.99</td>\n",
       "      <td>11</td>\n",
       "    </tr>\n",
       "    <tr>\n",
       "      <th>gender</th>\n",
       "      <td>0.51</td>\n",
       "      <td>0.51</td>\n",
       "      <td>0</td>\n",
       "    </tr>\n",
       "    <tr>\n",
       "      <th>Phone</th>\n",
       "      <td>0.90</td>\n",
       "      <td>0.90</td>\n",
       "      <td>0</td>\n",
       "    </tr>\n",
       "  </tbody>\n",
       "</table>\n",
       "</div>"
      ],
      "text/plain": [
       "                                   churn_0_mean  churn_1_mean    %\n",
       "Lifetime                                   4.71          0.99  375\n",
       "Contract_period                            5.75          1.73  232\n",
       "Month_to_end_contract                      5.89          2.58  128\n",
       "Avg_class_frequency_current_month          2.03          1.04   95\n",
       "Promo_friends                              0.35          0.18   94\n",
       "Group_visits                               0.46          0.27   70\n",
       "Partner                                    0.53          0.36   47\n",
       "Avg_additional_charges_total             158.45        115.08   37\n",
       "Avg_class_frequency_total                  2.02          1.47   37\n",
       "Near_Location                              0.87          0.77   12\n",
       "Age                                       29.98         26.99   11\n",
       "gender                                     0.51          0.51    0\n",
       "Phone                                      0.90          0.90    0"
      ]
     },
     "execution_count": 20,
     "metadata": {},
     "output_type": "execute_result"
    }
   ],
   "source": [
    "# Общий список параметров по степени влияния:\n",
    "\n",
    "total_mean_compare = round(df[df['Churn'] == 0].mean(),2)\n",
    "total_mean_compare = total_mean_compare.to_frame()\n",
    "total_mean_compare = total_mean_compare.rename(columns = {0:'churn_0_mean'})\n",
    "\n",
    "total_mean_compare['churn_1_mean'] = round(df[df['Churn'] == 1].mean(),2)\n",
    "total_mean_compare['%'] = (total_mean_compare['churn_0_mean'] / total_mean_compare['churn_1_mean']*100-100).astype(int)\n",
    "total_mean_compare = total_mean_compare.sort_values(by='%', ascending=False)\n",
    "\n",
    "total_mean_compare = total_mean_compare.drop(total_mean_compare[total_mean_compare.index == 'Churn'].index)\n",
    "total_mean_compare"
   ]
  },
  {
   "cell_type": "markdown",
   "id": "be66c358",
   "metadata": {},
   "source": [
    "---\n",
    "\n",
    "**1.** Выделяем параметры с наиболее сильным влиянием на отток:\n",
    "- Avg_class_frequency_current_month\n",
    "- Promo_friends\n",
    "- Group_visits\t\n",
    "- Partner\t\n",
    "- Avg_additional_charges_total\t\n",
    "\n",
    "**2.** Параметры с низким влиянием на отток:\n",
    "- Near_Location\n",
    "- Age\t\n",
    "\n",
    "**3.** Параметры, практически не влияющие на отток:\n",
    "- gender\n",
    "- Phone\n",
    "\n",
    "**4.** Параметры, которые можно считать скорее следствием лояльности клиентов:\n",
    "- Lifetime\n",
    "- Contract_period\n",
    "- Month_to_end_contract\n"
   ]
  },
  {
   "cell_type": "markdown",
   "id": "810a296b",
   "metadata": {},
   "source": [
    "---\n",
    "### Не влияющие на отток параметры:\n",
    "\n",
    "Оценим влияние **пола** клиента и **наличия телефона** в базе клуба статистически:  \n",
    "(gender, Phone)\n",
    "\n",
    "---"
   ]
  },
  {
   "cell_type": "code",
   "execution_count": 21,
   "id": "6c0f98b4",
   "metadata": {},
   "outputs": [
    {
     "data": {
      "text/plain": [
       "(-0.04474984696315838, 0.9643089361902392)"
      ]
     },
     "execution_count": 21,
     "metadata": {},
     "output_type": "execute_result"
    }
   ],
   "source": [
    "t, p_value = stats.ttest_ind(df[df['Churn'] == 0]['gender'], df[df['Churn'] == 1]['gender'])  # Критерий Стьюдента (t-test)\n",
    "t, p_value"
   ]
  },
  {
   "cell_type": "code",
   "execution_count": 22,
   "id": "620c35ce",
   "metadata": {},
   "outputs": [
    {
     "data": {
      "text/plain": [
       "(0.07439624953956464, 0.9406988149138941)"
      ]
     },
     "execution_count": 22,
     "metadata": {},
     "output_type": "execute_result"
    }
   ],
   "source": [
    "t, p_value = stats.ttest_ind(df[df['Churn'] == 0]['Phone'], df[df['Churn'] == 1]['Phone'])  # Критерий Стьюдента (t-test)\n",
    "t, p_value"
   ]
  },
  {
   "cell_type": "markdown",
   "id": "11144110",
   "metadata": {},
   "source": [
    "---\n",
    "Видим крайне низкое влияние на уровне значимости 94%.  \n",
    "Подтверждаем гипотезу о незначительности данных факторов.\n",
    "\n",
    "---"
   ]
  },
  {
   "cell_type": "markdown",
   "id": "e5d874b3",
   "metadata": {},
   "source": [
    "\n",
    "### Параметры с низким влиянием на отток:  \n",
    "\n",
    "1. Влияние **удаленности** клиента от клуба логически обосновано.   \n",
    "(Near_Location) \n",
    "\n",
    "Предложение:  \n",
    "Ввести коэффициент на скидку, привязанный к удаленности клиента от клуба.  \n",
    "\n",
    "2. Влияние **возраста**, возможно, связано со стремлением более молодых к новому.  \n",
    " (Age)\n",
    "\n",
    "Возможно, динамика покажет стабильный приток клиентов этого возраста, компенсирующий отток.  \n",
    "\n",
    "Предложение:  \n",
    "Держать руку на пульсе тенденций и перенимать опыт конкурентов.  "
   ]
  },
  {
   "cell_type": "markdown",
   "id": "d4784bc5",
   "metadata": {},
   "source": [
    "---\n",
    "### Параметры с наиболее сильным влиянием на отток:\n",
    "\n",
    "\n",
    "1. **Активность клиентов клуба:**  \n",
    "    (Avg_class_frequency_current_month)\n",
    "\n",
    "Редко занимающиеся клиенты чаще прекращают занятия совсем.\n",
    "\n",
    "Предложение:  \n",
    "Провести опрос редко занимающихся клиентов с целью выявления причин такого поведения  \n",
    "По результатам опроса рассмотреть возможность устранения выявленных причин.  \n",
    "    \n",
    "\n",
    "2. **Дополнительные услуги:**  \n",
    "   (Group_visits, Avg_additional_charges_total)  \n",
    "\n",
    "Видим, что уходящие клиенты гораздо реже посещали групповые занятия и меньше тратили на доп услуги  \n",
    "Возможно, ушедшие клиенты не успели оценить все услуги клуба до принятия решения о продлении абонемента.\n",
    "\n",
    "Предложение:  \n",
    "Предоставить скидку на доп услуги тем, кто ими не пользуется (или давно не пользовался)  \n",
    "Предложить записаться на пробные групповые занятия.\n",
    "\n",
    "3. **Маркетинг и привлечение клиентов:**  \n",
    "   (Partner, Promo_friends)  \n",
    "\n",
    "Убеждаемся, что программа направлена на целевую аудиторию, так как привлекаемые таким образом клиенты реже уходят.  \n",
    "Вывод: Программы работают и дают результат.\n",
    "\n",
    "Предложение:  \n",
    "Рассмотреть возможность масштабировать программу путем стимулирования клиентов и партнеров.\n",
    "\n",
    "---"
   ]
  },
  {
   "cell_type": "markdown",
   "id": "1ad34920",
   "metadata": {},
   "source": [
    "# <a id = 'task2-0'> 2. Прогноз оттока клиентов\n",
    "---\n",
    "    \n",
    "Для сравнения рассмотрим несколько моделей классификации:\n",
    "    \n",
    "- Модель случайного леса | Random Forest\n",
    "- Модель логистической регрессии | Logistic Regression\n",
    "- Модель дерева решений | Decision Tree\n",
    "- Метод опорных векторов | Support Vector Machines\n",
    "- Метод градиентного бустинга | EXtreme Gradient Boosting"
   ]
  },
  {
   "cell_type": "markdown",
   "id": "23948185",
   "metadata": {},
   "source": [
    "---\n",
    "## <a id = 'task2-1'> 2.1. Модель случайного леса | Random Forest\n",
    "---\n",
    "    \n",
    "RF создает деревья решений для случайно выбранных семплов данных, получает прогноз от каждого дерева и выбирает наилучшее решение посредством голосования.  \n",
    "    Он также предоставляет довольно эффективный критерий важности показателей (признаков)."
   ]
  },
  {
   "cell_type": "markdown",
   "id": "fb4e81ea",
   "metadata": {},
   "source": [
    "---\n",
    "### <a id = 'task2-1-1'> 2.1.1. Построение модели | Random Forest  \n",
    "    \n",
    "---"
   ]
  },
  {
   "cell_type": "code",
   "execution_count": 23,
   "id": "57d55b82",
   "metadata": {},
   "outputs": [
    {
     "data": {
      "text/plain": [
       "Index(['gender', 'Near_Location', 'Partner', 'Promo_friends', 'Phone',\n",
       "       'Contract_period', 'Group_visits', 'Age',\n",
       "       'Avg_additional_charges_total', 'Month_to_end_contract', 'Lifetime',\n",
       "       'Avg_class_frequency_total', 'Avg_class_frequency_current_month',\n",
       "       'Churn'],\n",
       "      dtype='object')"
      ]
     },
     "execution_count": 23,
     "metadata": {},
     "output_type": "execute_result"
    }
   ],
   "source": [
    "df.columns"
   ]
  },
  {
   "cell_type": "code",
   "execution_count": 24,
   "id": "f7300070",
   "metadata": {},
   "outputs": [
    {
     "data": {
      "text/html": [
       "<div>\n",
       "<style scoped>\n",
       "    .dataframe tbody tr th:only-of-type {\n",
       "        vertical-align: middle;\n",
       "    }\n",
       "\n",
       "    .dataframe tbody tr th {\n",
       "        vertical-align: top;\n",
       "    }\n",
       "\n",
       "    .dataframe thead th {\n",
       "        text-align: right;\n",
       "    }\n",
       "</style>\n",
       "<table border=\"1\" class=\"dataframe\">\n",
       "  <thead>\n",
       "    <tr style=\"text-align: right;\">\n",
       "      <th></th>\n",
       "      <th>Y_pred_rf</th>\n",
       "      <th>Y_test</th>\n",
       "    </tr>\n",
       "  </thead>\n",
       "  <tbody>\n",
       "    <tr>\n",
       "      <th>2447</th>\n",
       "      <td>1</td>\n",
       "      <td>1</td>\n",
       "    </tr>\n",
       "    <tr>\n",
       "      <th>1560</th>\n",
       "      <td>0</td>\n",
       "      <td>0</td>\n",
       "    </tr>\n",
       "    <tr>\n",
       "      <th>2048</th>\n",
       "      <td>0</td>\n",
       "      <td>0</td>\n",
       "    </tr>\n",
       "    <tr>\n",
       "      <th>1675</th>\n",
       "      <td>0</td>\n",
       "      <td>1</td>\n",
       "    </tr>\n",
       "    <tr>\n",
       "      <th>3643</th>\n",
       "      <td>0</td>\n",
       "      <td>0</td>\n",
       "    </tr>\n",
       "  </tbody>\n",
       "</table>\n",
       "</div>"
      ],
      "text/plain": [
       "      Y_pred_rf  Y_test\n",
       "2447          1       1\n",
       "1560          0       0\n",
       "2048          0       0\n",
       "1675          0       1\n",
       "3643          0       0"
      ]
     },
     "execution_count": 24,
     "metadata": {},
     "output_type": "execute_result"
    }
   ],
   "source": [
    "# Разделяем выборку на независимые и зависимую переменные:\n",
    "\n",
    "X = df[['gender', 'Near_Location', 'Partner', 'Promo_friends', 'Phone',\n",
    "       'Contract_period', 'Group_visits', 'Age',\n",
    "       'Avg_additional_charges_total', 'Month_to_end_contract', 'Lifetime',\n",
    "       'Avg_class_frequency_total', 'Avg_class_frequency_current_month']]\n",
    "Y = df['Churn']\n",
    "\n",
    "# Разделяем полученые выборки на тренировочные и тестовые\n",
    "# (При разделении указываем параметр stratify, чтобы в разделенных данных сохранялась пропорция классов)\n",
    "\n",
    "X_train, X_test, Y_train, Y_test = train_test_split(X, Y, test_size=0.25, random_state=42, stratify=Y)\n",
    "\n",
    "# Создаем модель\n",
    "\n",
    "rf_model = RandomForestClassifier()\n",
    "\n",
    "# Обучаем модель на тестовых данных\n",
    "\n",
    "rf_model.fit(X_train, Y_train)\n",
    "\n",
    "# Загружаем в модель тестовые данные и записываем результат\n",
    "\n",
    "Y_pred_rf = rf_model.predict(X_test)\n",
    "\n",
    "# Сравниваем результат теста с фактическими данными\n",
    "\n",
    "result = X_test.copy()\n",
    "result['Y_pred_rf'] = Y_pred_rf\n",
    "result['Y_test'] = Y_test\n",
    "result[['Y_pred_rf', 'Y_test']].head()"
   ]
  },
  {
   "cell_type": "markdown",
   "id": "26e0fca8",
   "metadata": {},
   "source": [
    "---\n",
    "### <a id = 'task2-1-2'> 2.1.2. Оценка точности работы модели | Random Forest   \n",
    "---"
   ]
  },
  {
   "cell_type": "code",
   "execution_count": 25,
   "id": "b006c18e",
   "metadata": {},
   "outputs": [
    {
     "name": "stdout",
     "output_type": "stream",
     "text": [
      "accuracy_score: 92%\n"
     ]
    }
   ],
   "source": [
    "# Используем функцию 'расчет точности' - отношение верных прогнозов к общему количеству позиций\n",
    "\n",
    "print(f\"accuracy_score: {int(accuracy_score(result['Y_pred_rf'], result['Y_test'])*100)}%\")"
   ]
  },
  {
   "cell_type": "code",
   "execution_count": 26,
   "id": "46a8dfb4",
   "metadata": {},
   "outputs": [
    {
     "name": "stdout",
     "output_type": "stream",
     "text": [
      "Матрица ошибок:\n"
     ]
    },
    {
     "data": {
      "image/png": "[encoded data removed]",
      "text/plain": [
       "<Figure size 432x288 with 2 Axes>"
      ]
     },
     "metadata": {
      "needs_background": "light"
     },
     "output_type": "display_data"
    },
    {
     "name": "stdout",
     "output_type": "stream",
     "text": [
      "Верно предсказано Churn_0:  707\n",
      "Верно предсказано Churn_1:  213\n",
      "\n",
      "Ошибок предсказаний Churn_0:  52\n",
      "Ошибок предсказаний Churn_1:  28\n"
     ]
    }
   ],
   "source": [
    "# Строим матрицу ошибок результатов работы модели\n",
    "\n",
    "print('Матрица ошибок:')\n",
    "\n",
    "sns.heatmap(confusion_matrix(Y_test, Y_pred_rf), annot=True, fmt=\"d\", cmap=\"YlGnBu\")\n",
    "plt.show()\n",
    "\n",
    "print('Верно предсказано Churn_0: ', confusion_matrix(Y_test, Y_pred_rf)[0][0])\n",
    "print('Верно предсказано Churn_1: ', confusion_matrix(Y_test, Y_pred_rf)[1][1])\n",
    "print('')\n",
    "print('Ошибок предсказаний Churn_0: ', confusion_matrix(Y_test, Y_pred_rf)[1][0])\n",
    "print('Ошибок предсказаний Churn_1: ', confusion_matrix(Y_test, Y_pred_rf)[0][1])"
   ]
  },
  {
   "cell_type": "markdown",
   "id": "7a92894d",
   "metadata": {},
   "source": [
    "---\n",
    "- Recall/Sensitivity Metric  \n",
    "\n",
    "Сколько объектов наша модель смогла правильно классифицировать с позитивной меткой из всего множества позитивных.\n",
    "\n",
    "- Precision Metric  \n",
    "\n",
    "Сколько из всех объектов, которые классифицируются как положительные, действительно являются положительными, относительно общего количества полученных от модели позитивных меток.\n",
    "\n",
    "- **F1 score**\n",
    "\n",
    "Сочетание precision и recall, дает некоторый компромисс между ними двумя  \n",
    "Оценка F1 достигает своего наилучшего значения в 1 и худшее в 0.\n",
    "\n",
    "---"
   ]
  },
  {
   "cell_type": "code",
   "execution_count": 27,
   "id": "4799c901",
   "metadata": {},
   "outputs": [
    {
     "name": "stdout",
     "output_type": "stream",
     "text": [
      "recall:\t\t 0.8037735849056604\n",
      "precision:\t 0.8838174273858921\n",
      "f1_score:\t 0.841897233201581\n"
     ]
    }
   ],
   "source": [
    "print(f'recall:\\t\\t {recall_score(Y_test, Y_pred_rf)}')\n",
    "print(f'precision:\\t {precision_score(Y_test, Y_pred_rf)}')\n",
    "print(f'f1_score:\\t {f1_score(Y_test, Y_pred_rf)}')"
   ]
  },
  {
   "cell_type": "markdown",
   "id": "bd385014",
   "metadata": {},
   "source": [
    "---\n",
    "### <a id = 'task2-1-3'> 2.1.3. Отбор признаков для модели | Random Forest   \n",
    "---\n",
    "- #### Random Forest  \n",
    "\n",
    "    Воспользуемся методом случайного леса (Random Forest), чтобы определить, насколько важен признак, \n",
    "    рассчитав степень уменьшения «шумов» за счёт этого признака.\n",
    "\n",
    "---"
   ]
  },
  {
   "cell_type": "code",
   "execution_count": 28,
   "id": "18977f55",
   "metadata": {},
   "outputs": [
    {
     "data": {
      "text/html": [
       "<div>\n",
       "<style scoped>\n",
       "    .dataframe tbody tr th:only-of-type {\n",
       "        vertical-align: middle;\n",
       "    }\n",
       "\n",
       "    .dataframe tbody tr th {\n",
       "        vertical-align: top;\n",
       "    }\n",
       "\n",
       "    .dataframe thead th {\n",
       "        text-align: right;\n",
       "    }\n",
       "</style>\n",
       "<table border=\"1\" class=\"dataframe\">\n",
       "  <thead>\n",
       "    <tr style=\"text-align: right;\">\n",
       "      <th></th>\n",
       "      <th>parameter</th>\n",
       "      <th>importance</th>\n",
       "    </tr>\n",
       "  </thead>\n",
       "  <tbody>\n",
       "    <tr>\n",
       "      <th>10</th>\n",
       "      <td>Lifetime</td>\n",
       "      <td>0.274333</td>\n",
       "    </tr>\n",
       "    <tr>\n",
       "      <th>12</th>\n",
       "      <td>Avg_class_frequency_current_month</td>\n",
       "      <td>0.177727</td>\n",
       "    </tr>\n",
       "    <tr>\n",
       "      <th>11</th>\n",
       "      <td>Avg_class_frequency_total</td>\n",
       "      <td>0.134222</td>\n",
       "    </tr>\n",
       "    <tr>\n",
       "      <th>7</th>\n",
       "      <td>Age</td>\n",
       "      <td>0.121984</td>\n",
       "    </tr>\n",
       "    <tr>\n",
       "      <th>8</th>\n",
       "      <td>Avg_additional_charges_total</td>\n",
       "      <td>0.086551</td>\n",
       "    </tr>\n",
       "    <tr>\n",
       "      <th>5</th>\n",
       "      <td>Contract_period</td>\n",
       "      <td>0.073106</td>\n",
       "    </tr>\n",
       "    <tr>\n",
       "      <th>9</th>\n",
       "      <td>Month_to_end_contract</td>\n",
       "      <td>0.066058</td>\n",
       "    </tr>\n",
       "    <tr>\n",
       "      <th>6</th>\n",
       "      <td>Group_visits</td>\n",
       "      <td>0.016565</td>\n",
       "    </tr>\n",
       "    <tr>\n",
       "      <th>2</th>\n",
       "      <td>Partner</td>\n",
       "      <td>0.011987</td>\n",
       "    </tr>\n",
       "    <tr>\n",
       "      <th>0</th>\n",
       "      <td>gender</td>\n",
       "      <td>0.011829</td>\n",
       "    </tr>\n",
       "    <tr>\n",
       "      <th>3</th>\n",
       "      <td>Promo_friends</td>\n",
       "      <td>0.010530</td>\n",
       "    </tr>\n",
       "    <tr>\n",
       "      <th>1</th>\n",
       "      <td>Near_Location</td>\n",
       "      <td>0.008755</td>\n",
       "    </tr>\n",
       "    <tr>\n",
       "      <th>4</th>\n",
       "      <td>Phone</td>\n",
       "      <td>0.006354</td>\n",
       "    </tr>\n",
       "  </tbody>\n",
       "</table>\n",
       "</div>"
      ],
      "text/plain": [
       "                            parameter  importance\n",
       "10                           Lifetime    0.274333\n",
       "12  Avg_class_frequency_current_month    0.177727\n",
       "11          Avg_class_frequency_total    0.134222\n",
       "7                                 Age    0.121984\n",
       "8        Avg_additional_charges_total    0.086551\n",
       "5                     Contract_period    0.073106\n",
       "9               Month_to_end_contract    0.066058\n",
       "6                        Group_visits    0.016565\n",
       "2                             Partner    0.011987\n",
       "0                              gender    0.011829\n",
       "3                       Promo_friends    0.010530\n",
       "1                       Near_Location    0.008755\n",
       "4                               Phone    0.006354"
      ]
     },
     "execution_count": 28,
     "metadata": {},
     "output_type": "execute_result"
    }
   ],
   "source": [
    "# Разделяем выборку на независимые и зависимую переменные:\n",
    "\n",
    "X = df[['gender', 'Near_Location', 'Partner', 'Promo_friends', 'Phone',\n",
    "       'Contract_period', 'Group_visits', 'Age',\n",
    "       'Avg_additional_charges_total', 'Month_to_end_contract', 'Lifetime',\n",
    "       'Avg_class_frequency_total', 'Avg_class_frequency_current_month']]\n",
    "Y = df['Churn']\n",
    "\n",
    "# Разделяем полученые выборки на тренировочные и тестовые\n",
    "# (При разделении указываем параметр stratify, чтобы в разделенных данных сохранялась пропорция классов)\n",
    "\n",
    "X_train, X_test, Y_train, Y_test = train_test_split(X, Y, test_size=0.25, random_state=42, stratify=Y)\n",
    "\n",
    "# Создаем и обучаем модель\n",
    "\n",
    "rf_model = RandomForestClassifier()\n",
    "rf_model.fit(X, Y)\n",
    "\n",
    "# Выведем степень значения признаков\n",
    "\n",
    "param_value = X.columns.to_frame().reset_index()\n",
    "param_value[0] = list(rf_model.feature_importances_)\n",
    "param_value = param_value.rename(columns = {0:'importance', 'index':'parameter'})\n",
    "param_value= param_value.sort_values(by='importance', ascending = False)\n",
    "param_value"
   ]
  },
  {
   "cell_type": "code",
   "execution_count": 29,
   "id": "52e048dc",
   "metadata": {},
   "outputs": [
    {
     "data": {
      "image/png": "[encoded data removed]",
      "text/plain": [
       "<Figure size 432x288 with 1 Axes>"
      ]
     },
     "metadata": {
      "needs_background": "light"
     },
     "output_type": "display_data"
    }
   ],
   "source": [
    "# Оценим степень значения визуально\n",
    "\n",
    "sns.barplot(x=\"importance\", y='parameter', data=param_value, color='lightblue')\n",
    "plt.xticks(rotation=0)\n",
    "plt.show()"
   ]
  },
  {
   "cell_type": "code",
   "execution_count": 30,
   "id": "a1eb71e6",
   "metadata": {},
   "outputs": [
    {
     "name": "stdout",
     "output_type": "stream",
     "text": [
      "Количество критически важных признаков: 5\n",
      "\n",
      "- Age\n",
      "- Avg_additional_charges_total\n",
      "- Lifetime\n",
      "- Avg_class_frequency_total\n",
      "- Avg_class_frequency_current_month\n"
     ]
    }
   ],
   "source": [
    "# Посчитаем минимальное количество наиболее значимых признаков для получения максимального результата\n",
    "\n",
    "sel = SelectFromModel(RandomForestClassifier(n_estimators = 1000))\n",
    "sel.fit(X_train, Y_train)\n",
    "\n",
    "selected_feat= X_train.columns[(sel.get_support())]\n",
    "print(f'Количество критически важных признаков: {len(selected_feat)}')\n",
    "print('')\n",
    "# Какие это признаки\n",
    "for a in selected_feat:\n",
    "    print(f'- {a}')"
   ]
  },
  {
   "cell_type": "markdown",
   "id": "637f5ab9",
   "metadata": {},
   "source": [
    "---\n",
    "Проверим, насколько изменится точность прогноза при использовании в модели только значимых признаков\n",
    "\n",
    "---"
   ]
  },
  {
   "cell_type": "code",
   "execution_count": 31,
   "id": "049cfc08",
   "metadata": {},
   "outputs": [
    {
     "data": {
      "text/html": [
       "<div>\n",
       "<style scoped>\n",
       "    .dataframe tbody tr th:only-of-type {\n",
       "        vertical-align: middle;\n",
       "    }\n",
       "\n",
       "    .dataframe tbody tr th {\n",
       "        vertical-align: top;\n",
       "    }\n",
       "\n",
       "    .dataframe thead th {\n",
       "        text-align: right;\n",
       "    }\n",
       "</style>\n",
       "<table border=\"1\" class=\"dataframe\">\n",
       "  <thead>\n",
       "    <tr style=\"text-align: right;\">\n",
       "      <th></th>\n",
       "      <th>Y_pred</th>\n",
       "      <th>Y_test</th>\n",
       "    </tr>\n",
       "  </thead>\n",
       "  <tbody>\n",
       "    <tr>\n",
       "      <th>2447</th>\n",
       "      <td>1</td>\n",
       "      <td>1</td>\n",
       "    </tr>\n",
       "    <tr>\n",
       "      <th>1560</th>\n",
       "      <td>0</td>\n",
       "      <td>0</td>\n",
       "    </tr>\n",
       "    <tr>\n",
       "      <th>2048</th>\n",
       "      <td>0</td>\n",
       "      <td>0</td>\n",
       "    </tr>\n",
       "    <tr>\n",
       "      <th>1675</th>\n",
       "      <td>1</td>\n",
       "      <td>1</td>\n",
       "    </tr>\n",
       "    <tr>\n",
       "      <th>3643</th>\n",
       "      <td>0</td>\n",
       "      <td>0</td>\n",
       "    </tr>\n",
       "  </tbody>\n",
       "</table>\n",
       "</div>"
      ],
      "text/plain": [
       "      Y_pred  Y_test\n",
       "2447       1       1\n",
       "1560       0       0\n",
       "2048       0       0\n",
       "1675       1       1\n",
       "3643       0       0"
      ]
     },
     "execution_count": 31,
     "metadata": {},
     "output_type": "execute_result"
    }
   ],
   "source": [
    "# Разделяем выборку на независимые и зависимую переменные:\n",
    "\n",
    "X_main = df[['Age', 'Avg_additional_charges_total', 'Lifetime',\n",
    "       'Avg_class_frequency_total', 'Avg_class_frequency_current_month']]\n",
    "\n",
    "Y = df['Churn']\n",
    "\n",
    "# Разделяем полученые выборки на тренировочные и тестовые\n",
    "# (При разделении указываем параметр stratify, чтобы в разделенных данных сохранялась пропорция классов)\n",
    "\n",
    "X_train, X_test, Y_train, Y_test = train_test_split(X_main, Y, test_size=0.25, random_state=42, stratify=Y)\n",
    "\n",
    "# Создаем и обучаем модель\n",
    "\n",
    "rf_model = RandomForestClassifier()\n",
    "rf_model.fit(X_train, Y_train)\n",
    "\n",
    "# Загружаем в модель тестовые данные и записываем результат\n",
    "\n",
    "Y_pred_rf = rf_model.predict(X_test)\n",
    "\n",
    "# Сравниваем результат теста с фактическими данными\n",
    "\n",
    "result = X_test.copy()\n",
    "result['Y_pred'] = Y_pred_rf\n",
    "result['Y_test'] = Y_test\n",
    "result[['Y_pred', 'Y_test']].head()"
   ]
  },
  {
   "cell_type": "code",
   "execution_count": 32,
   "id": "a74e4345",
   "metadata": {},
   "outputs": [
    {
     "name": "stdout",
     "output_type": "stream",
     "text": [
      "accuracy_score:\t 92%\n",
      "recall:\t\t 0.8150943396226416\n",
      "precision:\t 0.9\n",
      "f1_score:\t 0.8554455445544554\n"
     ]
    }
   ],
   "source": [
    "# Используем функцию 'расчет точности' - отношение верных прогнозов к общему количеству позиций\n",
    "\n",
    "print(f\"accuracy_score:\\t {int(accuracy_score(result['Y_pred'], result['Y_test'])*100)}%\")\n",
    "\n",
    "# Recall, Precision, F1\n",
    "\n",
    "print(f'recall:\\t\\t {recall_score(Y_test, Y_pred_rf)}')\n",
    "print(f'precision:\\t {precision_score(Y_test, Y_pred_rf)}')\n",
    "print(f'f1_score:\\t {f1_score(Y_test, Y_pred_rf)}')"
   ]
  },
  {
   "cell_type": "markdown",
   "id": "3aa59301",
   "metadata": {},
   "source": [
    "---\n",
    "- #### GridSearchCV  \n",
    "\n",
    "    Может гарантировать нахождение наиболее точных параметров в указанном диапазоне параметров.  \n",
    "    Однако, требует обхода всех возможных комбинаций параметров, что требует очень много времени в условиях больших наборов данных и множества параметров.\n",
    "\n",
    "---"
   ]
  },
  {
   "cell_type": "code",
   "execution_count": 33,
   "id": "158a7d6c",
   "metadata": {
    "scrolled": true
   },
   "outputs": [
    {
     "data": {
      "text/html": [
       "<div>\n",
       "<style scoped>\n",
       "    .dataframe tbody tr th:only-of-type {\n",
       "        vertical-align: middle;\n",
       "    }\n",
       "\n",
       "    .dataframe tbody tr th {\n",
       "        vertical-align: top;\n",
       "    }\n",
       "\n",
       "    .dataframe thead th {\n",
       "        text-align: right;\n",
       "    }\n",
       "</style>\n",
       "<table border=\"1\" class=\"dataframe\">\n",
       "  <thead>\n",
       "    <tr style=\"text-align: right;\">\n",
       "      <th></th>\n",
       "      <th>Y_pred_rf</th>\n",
       "      <th>Y_test</th>\n",
       "    </tr>\n",
       "  </thead>\n",
       "  <tbody>\n",
       "    <tr>\n",
       "      <th>2447</th>\n",
       "      <td>1</td>\n",
       "      <td>1</td>\n",
       "    </tr>\n",
       "    <tr>\n",
       "      <th>1560</th>\n",
       "      <td>0</td>\n",
       "      <td>0</td>\n",
       "    </tr>\n",
       "    <tr>\n",
       "      <th>2048</th>\n",
       "      <td>0</td>\n",
       "      <td>0</td>\n",
       "    </tr>\n",
       "    <tr>\n",
       "      <th>1675</th>\n",
       "      <td>0</td>\n",
       "      <td>1</td>\n",
       "    </tr>\n",
       "    <tr>\n",
       "      <th>3643</th>\n",
       "      <td>0</td>\n",
       "      <td>0</td>\n",
       "    </tr>\n",
       "  </tbody>\n",
       "</table>\n",
       "</div>"
      ],
      "text/plain": [
       "      Y_pred_rf  Y_test\n",
       "2447          1       1\n",
       "1560          0       0\n",
       "2048          0       0\n",
       "1675          0       1\n",
       "3643          0       0"
      ]
     },
     "execution_count": 33,
     "metadata": {},
     "output_type": "execute_result"
    }
   ],
   "source": [
    "# Разделяем выборку на независимые и зависимую переменные:\n",
    "\n",
    "X = df[['gender', 'Near_Location', 'Partner', 'Promo_friends', 'Phone',\n",
    "       'Contract_period', 'Group_visits', 'Age',\n",
    "       'Avg_additional_charges_total', 'Month_to_end_contract', 'Lifetime',\n",
    "       'Avg_class_frequency_total', 'Avg_class_frequency_current_month']]\n",
    "Y = df['Churn']\n",
    "\n",
    "# Разделяем полученые выборки на тренировочные и тестовые\n",
    "# (При разделении указываем параметр stratify, чтобы в разделенных данных сохранялась пропорция классов)\n",
    "\n",
    "X_train, X_test, Y_train, Y_test = train_test_split(X, Y, test_size=0.25, random_state=42, stratify=Y)\n",
    "\n",
    "#------------------------------------------------------------\n",
    "\n",
    "# Будем использовать следующие параметры для GridSearchCV:\n",
    "\n",
    "# n_estimators – число деревьев в лесу.\n",
    "# max_depth – глубина дерева.\n",
    "# min_samples_leaf – минимальное число образцов в листах.\n",
    "# min_samples_split – минимальное число образцов для сплита.\n",
    "\n",
    "parameters = {'n_estimators': range (1, 1001, 100),\n",
    "              'max_depth': [None, 1, 2, 4, 8, 10],\n",
    "              'min_samples_leaf': [1, 2, 4, 8, 10],\n",
    "              'min_samples_split': [2, 4, 8, 10],\n",
    "              'n_jobs': [-1]}\n",
    "\n",
    "# Создаем модель\n",
    "\n",
    "rf_model = GridSearchCV(RandomForestClassifier(), parameters, cv=3, scoring='f1')\n",
    "\n",
    "#------------------------------------------------------------\n",
    "\n",
    "# Обучаем модель\n",
    "\n",
    "rf_model.fit(X_train, Y_train)\n",
    "\n",
    "# Загружаем в модель тестовые данные и записываем результат\n",
    "\n",
    "Y_pred_rf = rf_model.predict(X_test)\n",
    "\n",
    "# Сравниваем результат теста с фактическими данными\n",
    "\n",
    "result = X_test.copy()\n",
    "result['Y_pred_rf'] = Y_pred_rf\n",
    "result['Y_test'] = Y_test\n",
    "result[['Y_pred_rf', 'Y_test']].head()\n"
   ]
  },
  {
   "cell_type": "code",
   "execution_count": 34,
   "id": "b4332792",
   "metadata": {},
   "outputs": [
    {
     "data": {
      "text/plain": [
       "{'max_depth': 10,\n",
       " 'min_samples_leaf': 1,\n",
       " 'min_samples_split': 2,\n",
       " 'n_estimators': 201,\n",
       " 'n_jobs': -1}"
      ]
     },
     "execution_count": 34,
     "metadata": {},
     "output_type": "execute_result"
    }
   ],
   "source": [
    "# Полученные параметры являются лучшими для нашей модели\n",
    "\n",
    "rf_model.best_params_"
   ]
  },
  {
   "cell_type": "code",
   "execution_count": 35,
   "id": "ea8c8e0f",
   "metadata": {},
   "outputs": [
    {
     "name": "stdout",
     "output_type": "stream",
     "text": [
      "accuracy_score:\t 91%\n",
      "recall:\t\t 0.8\n",
      "precision:\t 0.8724279835390947\n",
      "f1_score:\t 0.8346456692913385\n"
     ]
    }
   ],
   "source": [
    "# Используем функцию 'расчет точности' - отношение верных прогнозов к общему количеству позиций\n",
    "\n",
    "print(f\"accuracy_score:\\t {int(accuracy_score(result['Y_pred_rf'], result['Y_test'])*100)}%\")\n",
    "\n",
    "# Recall, Precision, F1\n",
    "\n",
    "print(f'recall:\\t\\t {recall_score(Y_test, Y_pred_rf)}')\n",
    "print(f'precision:\\t {precision_score(Y_test, Y_pred_rf)}')\n",
    "print(f'f1_score:\\t {f1_score(Y_test, Y_pred_rf)}')\n",
    "\n",
    "Random_Forest = f1_score(Y_test, Y_pred_rf)"
   ]
  },
  {
   "cell_type": "markdown",
   "id": "d7498b8e",
   "metadata": {},
   "source": [
    "---\n",
    "Совместим и применим последовательно:\n",
    "- **Random Forest**\n",
    "- **GridSearchCV**\n",
    "\n",
    "---"
   ]
  },
  {
   "cell_type": "code",
   "execution_count": 36,
   "id": "b283b543",
   "metadata": {},
   "outputs": [
    {
     "data": {
      "text/html": [
       "<div>\n",
       "<style scoped>\n",
       "    .dataframe tbody tr th:only-of-type {\n",
       "        vertical-align: middle;\n",
       "    }\n",
       "\n",
       "    .dataframe tbody tr th {\n",
       "        vertical-align: top;\n",
       "    }\n",
       "\n",
       "    .dataframe thead th {\n",
       "        text-align: right;\n",
       "    }\n",
       "</style>\n",
       "<table border=\"1\" class=\"dataframe\">\n",
       "  <thead>\n",
       "    <tr style=\"text-align: right;\">\n",
       "      <th></th>\n",
       "      <th>Y_pred_rf</th>\n",
       "      <th>Y_test</th>\n",
       "    </tr>\n",
       "  </thead>\n",
       "  <tbody>\n",
       "    <tr>\n",
       "      <th>2447</th>\n",
       "      <td>1</td>\n",
       "      <td>1</td>\n",
       "    </tr>\n",
       "    <tr>\n",
       "      <th>1560</th>\n",
       "      <td>0</td>\n",
       "      <td>0</td>\n",
       "    </tr>\n",
       "    <tr>\n",
       "      <th>2048</th>\n",
       "      <td>0</td>\n",
       "      <td>0</td>\n",
       "    </tr>\n",
       "    <tr>\n",
       "      <th>1675</th>\n",
       "      <td>1</td>\n",
       "      <td>1</td>\n",
       "    </tr>\n",
       "    <tr>\n",
       "      <th>3643</th>\n",
       "      <td>0</td>\n",
       "      <td>0</td>\n",
       "    </tr>\n",
       "  </tbody>\n",
       "</table>\n",
       "</div>"
      ],
      "text/plain": [
       "      Y_pred_rf  Y_test\n",
       "2447          1       1\n",
       "1560          0       0\n",
       "2048          0       0\n",
       "1675          1       1\n",
       "3643          0       0"
      ]
     },
     "execution_count": 36,
     "metadata": {},
     "output_type": "execute_result"
    }
   ],
   "source": [
    "# Разделяем выборку на независимые и зависимую переменные:\n",
    "\n",
    "X_main = df[['Age', 'Avg_additional_charges_total', 'Lifetime',\n",
    "       'Avg_class_frequency_total', 'Avg_class_frequency_current_month']]\n",
    "\n",
    "Y = df['Churn']\n",
    "\n",
    "# Разделяем полученые выборки на тренировочные и тестовые\n",
    "# (При разделении указываем параметр stratify, чтобы в разделенных данных сохранялась пропорция классов)\n",
    "\n",
    "X_train, X_test, Y_train, Y_test = train_test_split(X_main, Y, test_size=0.25, random_state=42, stratify=Y)\n",
    "\n",
    "#------------------------------------------------------------\n",
    "\n",
    "# Будем использовать следующие параметры для GridSearchCV:\n",
    "\n",
    "# n_estimators – число деревьев в лесу.\n",
    "# max_depth – глубина дерева.\n",
    "# min_samples_leaf – минимальное число образцов в листах.\n",
    "# min_samples_split – минимальное число образцов для сплита.\n",
    "\n",
    "parameters = {'n_estimators': range (1, 1001, 100),\n",
    "              'max_depth': [None, 1, 2, 4, 8, 10],\n",
    "              'min_samples_leaf': [1, 2, 4, 8, 10],\n",
    "              'min_samples_split': [2, 4, 8, 10],\n",
    "              'n_jobs': [-1]}\n",
    "\n",
    "# Создаем модель\n",
    "\n",
    "rf_model = GridSearchCV(RandomForestClassifier(), parameters, cv=3, scoring='f1')\n",
    "\n",
    "#------------------------------------------------------------\n",
    "\n",
    "# Обучаем модель\n",
    "\n",
    "rf_model.fit(X_train, Y_train)\n",
    "\n",
    "# Загружаем в модель тестовые данные и записываем результат\n",
    "\n",
    "Y_pred_rf = rf_model.predict(X_test)\n",
    "\n",
    "# Сравниваем результат теста с фактическими данными\n",
    "\n",
    "result = X_test.copy()\n",
    "result['Y_pred_rf'] = Y_pred_rf\n",
    "result['Y_test'] = Y_test\n",
    "result[['Y_pred_rf', 'Y_test']].head()\n"
   ]
  },
  {
   "cell_type": "code",
   "execution_count": 37,
   "id": "e0284e8b",
   "metadata": {},
   "outputs": [
    {
     "name": "stdout",
     "output_type": "stream",
     "text": [
      "accuracy_score:\t 92%\n",
      "recall:\t\t 0.8150943396226416\n",
      "precision:\t 0.9\n",
      "f1_score:\t 0.8554455445544554\n"
     ]
    }
   ],
   "source": [
    "# Используем функцию 'расчет точности' - отношение верных прогнозов к общему количеству позиций\n",
    "\n",
    "print(f\"accuracy_score:\\t {int(accuracy_score(result['Y_pred_rf'], result['Y_test'])*100)}%\")\n",
    "\n",
    "# Recall, Precision, F1\n",
    "\n",
    "print(f'recall:\\t\\t {recall_score(Y_test, Y_pred_rf)}')\n",
    "print(f'precision:\\t {precision_score(Y_test, Y_pred_rf)}')\n",
    "print(f'f1_score:\\t {f1_score(Y_test, Y_pred_rf)}')\n",
    "\n",
    "Random_Forest_top_value = f1_score(Y_test, Y_pred_rf)"
   ]
  },
  {
   "cell_type": "markdown",
   "id": "cba389d9",
   "metadata": {},
   "source": [
    "---\n",
    "### Вывод:  \n",
    "\n",
    "Отбор параметров с помощью модели случайнго леса (Random Forest) и GridSearchCV показал большую эффективность по сравнению с прямой передачей всех параметров в модель."
   ]
  },
  {
   "cell_type": "markdown",
   "id": "c443f56b",
   "metadata": {},
   "source": [
    "---\n",
    "## <a id = 'task2-2'> 2.2. Модель логистической регрессии | Logistic Regression\n",
    "\n",
    "---\n",
    "    \n",
    "Логистическая регрессия — это алгоритм классификации машинного обучения, используемый для прогнозирования вероятности категориальной зависимой переменной.\n",
    "    \n",
    "---"
   ]
  },
  {
   "cell_type": "markdown",
   "id": "be0ea1fe",
   "metadata": {},
   "source": [
    "### <a id = 'task2-2-1'> 2.2.1. Построение модели логистической регрессии | Logistic Regression   \n",
    "---"
   ]
  },
  {
   "cell_type": "code",
   "execution_count": 38,
   "id": "f57291fa",
   "metadata": {},
   "outputs": [
    {
     "data": {
      "text/html": [
       "<div>\n",
       "<style scoped>\n",
       "    .dataframe tbody tr th:only-of-type {\n",
       "        vertical-align: middle;\n",
       "    }\n",
       "\n",
       "    .dataframe tbody tr th {\n",
       "        vertical-align: top;\n",
       "    }\n",
       "\n",
       "    .dataframe thead th {\n",
       "        text-align: right;\n",
       "    }\n",
       "</style>\n",
       "<table border=\"1\" class=\"dataframe\">\n",
       "  <thead>\n",
       "    <tr style=\"text-align: right;\">\n",
       "      <th></th>\n",
       "      <th>Y_pred_lr</th>\n",
       "      <th>Y_test</th>\n",
       "    </tr>\n",
       "  </thead>\n",
       "  <tbody>\n",
       "    <tr>\n",
       "      <th>2447</th>\n",
       "      <td>1</td>\n",
       "      <td>1</td>\n",
       "    </tr>\n",
       "    <tr>\n",
       "      <th>1560</th>\n",
       "      <td>0</td>\n",
       "      <td>0</td>\n",
       "    </tr>\n",
       "    <tr>\n",
       "      <th>2048</th>\n",
       "      <td>0</td>\n",
       "      <td>0</td>\n",
       "    </tr>\n",
       "    <tr>\n",
       "      <th>1675</th>\n",
       "      <td>1</td>\n",
       "      <td>1</td>\n",
       "    </tr>\n",
       "    <tr>\n",
       "      <th>3643</th>\n",
       "      <td>0</td>\n",
       "      <td>0</td>\n",
       "    </tr>\n",
       "  </tbody>\n",
       "</table>\n",
       "</div>"
      ],
      "text/plain": [
       "      Y_pred_lr  Y_test\n",
       "2447          1       1\n",
       "1560          0       0\n",
       "2048          0       0\n",
       "1675          1       1\n",
       "3643          0       0"
      ]
     },
     "execution_count": 38,
     "metadata": {},
     "output_type": "execute_result"
    }
   ],
   "source": [
    "# Разделяем выборку на независимые и зависимую переменные:\n",
    "\n",
    "X = df[['gender', 'Near_Location', 'Partner', 'Promo_friends', 'Phone',\n",
    "       'Contract_period', 'Group_visits', 'Age',\n",
    "       'Avg_additional_charges_total', 'Month_to_end_contract', 'Lifetime',\n",
    "       'Avg_class_frequency_total', 'Avg_class_frequency_current_month']]\n",
    "Y = df['Churn']\n",
    "\n",
    "# Разделяем полученые выборки на тренировочные и тестовые\n",
    "# (При разделении указываем параметр stratify, чтобы в разделенных данных сохранялась пропорция классов)\n",
    "\n",
    "X_train, X_test, Y_train, Y_test = train_test_split(X, Y, test_size=0.25, random_state=42, stratify=Y)\n",
    "\n",
    "# Создаем модель логистической регрессии\n",
    "\n",
    "lr_model = LogisticRegression(solver='liblinear')\n",
    "\n",
    "# Загружаем в модель данные для тренировки\n",
    "\n",
    "lr_model.fit(X_train, Y_train)\n",
    "\n",
    "# Загружаем в модель тестовые данные и записываем результат\n",
    "\n",
    "Y_pred_lr = lr_model.predict(X_test)    \n",
    "\n",
    "# Сравниваем результат теста с фактическими данными\n",
    "\n",
    "result = X_test.copy()\n",
    "result['Y_pred_lr'] = Y_pred_lr\n",
    "result['Y_test'] = Y_test\n",
    "result[['Y_pred_lr', 'Y_test']].head()"
   ]
  },
  {
   "cell_type": "markdown",
   "id": "672d6f12",
   "metadata": {},
   "source": [
    "---\n",
    "### <a id = 'task2-2-2'> 2.2.2. Оценка точности работы модели | Logistic Regression  \n",
    "    \n",
    "---"
   ]
  },
  {
   "cell_type": "code",
   "execution_count": 39,
   "id": "56cba2a4",
   "metadata": {},
   "outputs": [
    {
     "name": "stdout",
     "output_type": "stream",
     "text": [
      "accuracy_score:\t 92%\n",
      "recall:\t\t 0.8150943396226416\n",
      "precision:\t 0.8744939271255061\n",
      "f1_score:\t 0.84375\n"
     ]
    }
   ],
   "source": [
    "# Используем функцию 'расчет точности' - отношение верных прогнозов к общему количеству позиций\n",
    "\n",
    "print(f\"accuracy_score:\\t {int(accuracy_score(result['Y_pred_lr'], result['Y_test'])*100)}%\")\n",
    "\n",
    "# Recall, Precision, F1\n",
    "\n",
    "print(f'recall:\\t\\t {recall_score(Y_test, Y_pred_lr)}')\n",
    "print(f'precision:\\t {precision_score(Y_test, Y_pred_lr)}')\n",
    "print(f'f1_score:\\t {f1_score(Y_test, Y_pred_lr)}')"
   ]
  },
  {
   "cell_type": "markdown",
   "id": "d0f917d3",
   "metadata": {},
   "source": [
    "---\n",
    "### <a id = 'task2-2-3'> 2.2.3. Отбор признаков для модели | Logistic Regression"
   ]
  },
  {
   "cell_type": "markdown",
   "id": "edc17ad1",
   "metadata": {},
   "source": [
    "---\n",
    "- #### GridSearchCV  \n",
    "\n",
    "---"
   ]
  },
  {
   "cell_type": "code",
   "execution_count": 40,
   "id": "e356fe3c",
   "metadata": {
    "scrolled": true
   },
   "outputs": [
    {
     "data": {
      "text/html": [
       "<div>\n",
       "<style scoped>\n",
       "    .dataframe tbody tr th:only-of-type {\n",
       "        vertical-align: middle;\n",
       "    }\n",
       "\n",
       "    .dataframe tbody tr th {\n",
       "        vertical-align: top;\n",
       "    }\n",
       "\n",
       "    .dataframe thead th {\n",
       "        text-align: right;\n",
       "    }\n",
       "</style>\n",
       "<table border=\"1\" class=\"dataframe\">\n",
       "  <thead>\n",
       "    <tr style=\"text-align: right;\">\n",
       "      <th></th>\n",
       "      <th>Y_pred_lr</th>\n",
       "      <th>Y_test</th>\n",
       "    </tr>\n",
       "  </thead>\n",
       "  <tbody>\n",
       "    <tr>\n",
       "      <th>2447</th>\n",
       "      <td>1</td>\n",
       "      <td>1</td>\n",
       "    </tr>\n",
       "    <tr>\n",
       "      <th>1560</th>\n",
       "      <td>0</td>\n",
       "      <td>0</td>\n",
       "    </tr>\n",
       "    <tr>\n",
       "      <th>2048</th>\n",
       "      <td>0</td>\n",
       "      <td>0</td>\n",
       "    </tr>\n",
       "    <tr>\n",
       "      <th>1675</th>\n",
       "      <td>1</td>\n",
       "      <td>1</td>\n",
       "    </tr>\n",
       "    <tr>\n",
       "      <th>3643</th>\n",
       "      <td>0</td>\n",
       "      <td>0</td>\n",
       "    </tr>\n",
       "  </tbody>\n",
       "</table>\n",
       "</div>"
      ],
      "text/plain": [
       "      Y_pred_lr  Y_test\n",
       "2447          1       1\n",
       "1560          0       0\n",
       "2048          0       0\n",
       "1675          1       1\n",
       "3643          0       0"
      ]
     },
     "execution_count": 40,
     "metadata": {},
     "output_type": "execute_result"
    }
   ],
   "source": [
    "# Разделяем выборку на независимые и зависимую переменные:\n",
    "\n",
    "X = df[['gender', 'Near_Location', 'Partner', 'Promo_friends', 'Phone',\n",
    "       'Contract_period', 'Group_visits', 'Age',\n",
    "       'Avg_additional_charges_total', 'Month_to_end_contract', 'Lifetime',\n",
    "       'Avg_class_frequency_total', 'Avg_class_frequency_current_month']]\n",
    "Y = df['Churn']\n",
    "\n",
    "# Разделяем полученые выборки на тренировочные и тестовые\n",
    "# (При разделении указываем параметр stratify, чтобы в разделенных данных сохранялась пропорция классов)\n",
    "\n",
    "X_train, X_test, Y_train, Y_test = train_test_split(X, Y, test_size=0.25, random_state=42, stratify=Y)\n",
    "\n",
    "#------------------------------------------------------------\n",
    "\n",
    "# Будем использовать следующие параметры для GridSearchCV:\n",
    "\n",
    "parameters = {'penalty': ['l1', 'l2'], \n",
    "              'C': np.logspace(0,3,10)}\n",
    "\n",
    "# Создаем модель\n",
    "\n",
    "lr_model = GridSearchCV(LogisticRegression(solver='liblinear'), parameters, cv=3, scoring='f1')\n",
    "\n",
    "#------------------------------------------------------------\n",
    "\n",
    "# Обучаем модель\n",
    "\n",
    "lr_model.fit(X_train, Y_train)\n",
    "\n",
    "# Загружаем в модель тестовые данные и записываем результат\n",
    "\n",
    "Y_pred_lr = lr_model.predict(X_test)\n",
    "\n",
    "# Сравниваем результат теста с фактическими данными\n",
    "\n",
    "result = X_test.copy()\n",
    "result['Y_pred_lr'] = Y_pred_lr\n",
    "result['Y_test'] = Y_test\n",
    "result[['Y_pred_lr', 'Y_test']].head()\n"
   ]
  },
  {
   "cell_type": "code",
   "execution_count": 41,
   "id": "1d035364",
   "metadata": {},
   "outputs": [
    {
     "data": {
      "text/plain": [
       "{'C': 10.0, 'penalty': 'l1'}"
      ]
     },
     "execution_count": 41,
     "metadata": {},
     "output_type": "execute_result"
    }
   ],
   "source": [
    "# Полученные параметры являются лучшими для нашей модели\n",
    "\n",
    "lr_model.best_params_"
   ]
  },
  {
   "cell_type": "code",
   "execution_count": 42,
   "id": "3aec9e68",
   "metadata": {},
   "outputs": [
    {
     "name": "stdout",
     "output_type": "stream",
     "text": [
      "accuracy_score:\t 92%\n",
      "recall:\t\t 0.8264150943396227\n",
      "precision:\t 0.8690476190476191\n",
      "f1_score:\t 0.8471953578336557\n"
     ]
    }
   ],
   "source": [
    "# Используем функцию 'расчет точности' - отношение верных прогнозов к общему количеству позиций\n",
    "\n",
    "print(f\"accuracy_score:\\t {int(accuracy_score(result['Y_pred_lr'], result['Y_test'])*100)}%\")\n",
    "\n",
    "# Recall, Precision, F1\n",
    "\n",
    "print(f'recall:\\t\\t {recall_score(Y_test, Y_pred_lr)}')\n",
    "print(f'precision:\\t {precision_score(Y_test, Y_pred_lr)}')\n",
    "print(f'f1_score:\\t {f1_score(Y_test, Y_pred_lr)}')\n",
    "\n",
    "Logistic_Regression = f1_score(Y_test, Y_pred_lr)"
   ]
  },
  {
   "cell_type": "markdown",
   "id": "7a6ff050",
   "metadata": {},
   "source": [
    "---\n",
    "## <a id = 'task2-3'> 2.3. Модель дерева решений | Decision Tree\n",
    "\n",
    "---\n",
    "    \n",
    "Дерево решений — это инструмент поддержки принятия решений, который использует древовидную модель решений и их возможных последствий.\n",
    "    \n",
    "---"
   ]
  },
  {
   "cell_type": "markdown",
   "id": "228f0487",
   "metadata": {},
   "source": [
    "### <a id = 'task2-3-1'> 2.3.1. Построение модели | Decision Tree\n",
    "---"
   ]
  },
  {
   "cell_type": "code",
   "execution_count": 43,
   "id": "34097191",
   "metadata": {},
   "outputs": [
    {
     "data": {
      "text/html": [
       "<div>\n",
       "<style scoped>\n",
       "    .dataframe tbody tr th:only-of-type {\n",
       "        vertical-align: middle;\n",
       "    }\n",
       "\n",
       "    .dataframe tbody tr th {\n",
       "        vertical-align: top;\n",
       "    }\n",
       "\n",
       "    .dataframe thead th {\n",
       "        text-align: right;\n",
       "    }\n",
       "</style>\n",
       "<table border=\"1\" class=\"dataframe\">\n",
       "  <thead>\n",
       "    <tr style=\"text-align: right;\">\n",
       "      <th></th>\n",
       "      <th>Y_pred_dt</th>\n",
       "      <th>Y_test</th>\n",
       "    </tr>\n",
       "  </thead>\n",
       "  <tbody>\n",
       "    <tr>\n",
       "      <th>2447</th>\n",
       "      <td>0</td>\n",
       "      <td>1</td>\n",
       "    </tr>\n",
       "    <tr>\n",
       "      <th>1560</th>\n",
       "      <td>0</td>\n",
       "      <td>0</td>\n",
       "    </tr>\n",
       "    <tr>\n",
       "      <th>2048</th>\n",
       "      <td>0</td>\n",
       "      <td>0</td>\n",
       "    </tr>\n",
       "    <tr>\n",
       "      <th>1675</th>\n",
       "      <td>0</td>\n",
       "      <td>1</td>\n",
       "    </tr>\n",
       "    <tr>\n",
       "      <th>3643</th>\n",
       "      <td>0</td>\n",
       "      <td>0</td>\n",
       "    </tr>\n",
       "  </tbody>\n",
       "</table>\n",
       "</div>"
      ],
      "text/plain": [
       "      Y_pred_dt  Y_test\n",
       "2447          0       1\n",
       "1560          0       0\n",
       "2048          0       0\n",
       "1675          0       1\n",
       "3643          0       0"
      ]
     },
     "execution_count": 43,
     "metadata": {},
     "output_type": "execute_result"
    }
   ],
   "source": [
    "# Разделяем выборку на независимые и зависимую переменные:\n",
    "\n",
    "X = df[['gender', 'Near_Location', 'Partner', 'Promo_friends', 'Phone',\n",
    "       'Contract_period', 'Group_visits', 'Age',\n",
    "       'Avg_additional_charges_total', 'Month_to_end_contract', 'Lifetime',\n",
    "       'Avg_class_frequency_total', 'Avg_class_frequency_current_month']]\n",
    "Y = df['Churn']\n",
    "\n",
    "# Разделяем полученые выборки на тренировочные и тестовые\n",
    "# (При разделении указываем параметр stratify, чтобы в разделенных данных сохранялась пропорция классов)\n",
    "\n",
    "X_train, X_test, Y_train, Y_test = train_test_split(X, Y, test_size=0.25, random_state=42, stratify=Y)\n",
    "\n",
    "# Создаем модель логистической регрессии\n",
    "\n",
    "dt_model = DecisionTreeClassifier()\n",
    "\n",
    "# Загружаем в модель данные для тренировки\n",
    "\n",
    "dt_model.fit(X_train, Y_train)\n",
    "\n",
    "# Загружаем в модель тестовые данные и записываем результат\n",
    "\n",
    "Y_pred_dt = dt_model.predict(X_test)    \n",
    "\n",
    "# Сравниваем результат теста с фактическими данными\n",
    "\n",
    "result = X_test.copy()\n",
    "result['Y_pred_dt'] = Y_pred_dt\n",
    "result['Y_test'] = Y_test\n",
    "result[['Y_pred_dt', 'Y_test']].head()"
   ]
  },
  {
   "cell_type": "markdown",
   "id": "7647a839",
   "metadata": {},
   "source": [
    "---\n",
    "### <a id = 'task2-3-2'> 2.3.2. Оценка точности | Decision Tree\n",
    "    \n",
    "---"
   ]
  },
  {
   "cell_type": "code",
   "execution_count": 44,
   "id": "bb9fc87f",
   "metadata": {},
   "outputs": [
    {
     "name": "stdout",
     "output_type": "stream",
     "text": [
      "accuracy_score:\t 89%\n",
      "recall:\t\t 0.7660377358490567\n",
      "precision:\t 0.8087649402390438\n",
      "f1_score:\t 0.7868217054263567\n"
     ]
    }
   ],
   "source": [
    "# Используем функцию 'расчет точности' - отношение верных прогнозов к общему количеству позиций\n",
    "\n",
    "print(f\"accuracy_score:\\t {int(accuracy_score(result['Y_pred_dt'], result['Y_test'])*100)}%\")\n",
    "\n",
    "# Recall, Precision, F1\n",
    "\n",
    "print(f'recall:\\t\\t {recall_score(Y_test, Y_pred_dt)}')\n",
    "print(f'precision:\\t {precision_score(Y_test, Y_pred_dt)}')\n",
    "print(f'f1_score:\\t {f1_score(Y_test, Y_pred_dt)}')"
   ]
  },
  {
   "cell_type": "markdown",
   "id": "7ac73e60",
   "metadata": {},
   "source": [
    "---\n",
    "### <a id = 'task2-3-3'> 2.3.3. Отбор признаков | Decision Tree"
   ]
  },
  {
   "cell_type": "markdown",
   "id": "55961160",
   "metadata": {},
   "source": [
    "---\n",
    "- #### GridSearchCV  \n",
    "\n",
    "---"
   ]
  },
  {
   "cell_type": "code",
   "execution_count": 45,
   "id": "9a8c46ae",
   "metadata": {},
   "outputs": [
    {
     "data": {
      "text/html": [
       "<div>\n",
       "<style scoped>\n",
       "    .dataframe tbody tr th:only-of-type {\n",
       "        vertical-align: middle;\n",
       "    }\n",
       "\n",
       "    .dataframe tbody tr th {\n",
       "        vertical-align: top;\n",
       "    }\n",
       "\n",
       "    .dataframe thead th {\n",
       "        text-align: right;\n",
       "    }\n",
       "</style>\n",
       "<table border=\"1\" class=\"dataframe\">\n",
       "  <thead>\n",
       "    <tr style=\"text-align: right;\">\n",
       "      <th></th>\n",
       "      <th>Y_pred_dt</th>\n",
       "      <th>Y_test</th>\n",
       "    </tr>\n",
       "  </thead>\n",
       "  <tbody>\n",
       "    <tr>\n",
       "      <th>2447</th>\n",
       "      <td>1</td>\n",
       "      <td>1</td>\n",
       "    </tr>\n",
       "    <tr>\n",
       "      <th>1560</th>\n",
       "      <td>0</td>\n",
       "      <td>0</td>\n",
       "    </tr>\n",
       "    <tr>\n",
       "      <th>2048</th>\n",
       "      <td>0</td>\n",
       "      <td>0</td>\n",
       "    </tr>\n",
       "    <tr>\n",
       "      <th>1675</th>\n",
       "      <td>0</td>\n",
       "      <td>1</td>\n",
       "    </tr>\n",
       "    <tr>\n",
       "      <th>3643</th>\n",
       "      <td>0</td>\n",
       "      <td>0</td>\n",
       "    </tr>\n",
       "  </tbody>\n",
       "</table>\n",
       "</div>"
      ],
      "text/plain": [
       "      Y_pred_dt  Y_test\n",
       "2447          1       1\n",
       "1560          0       0\n",
       "2048          0       0\n",
       "1675          0       1\n",
       "3643          0       0"
      ]
     },
     "execution_count": 45,
     "metadata": {},
     "output_type": "execute_result"
    }
   ],
   "source": [
    "# Разделяем выборку на независимые и зависимую переменные:\n",
    "\n",
    "X = df[['gender', 'Near_Location', 'Partner', 'Promo_friends', 'Phone',\n",
    "       'Contract_period', 'Group_visits', 'Age',\n",
    "       'Avg_additional_charges_total', 'Month_to_end_contract', 'Lifetime',\n",
    "       'Avg_class_frequency_total', 'Avg_class_frequency_current_month']]\n",
    "Y = df['Churn']\n",
    "\n",
    "# Разделяем полученые выборки на тренировочные и тестовые\n",
    "# (При разделении указываем параметр stratify, чтобы в разделенных данных сохранялась пропорция классов)\n",
    "\n",
    "X_train, X_test, Y_train, Y_test = train_test_split(X, Y, test_size=0.25, random_state=42, stratify=Y)\n",
    "\n",
    "#------------------------------------------------------------\n",
    "\n",
    "# Будем использовать следующие параметры для GridSearchCV:\n",
    "\n",
    "parameters = {'max_depth': [None, 1, 2, 4, 5, 8, 10],\n",
    "              'min_samples_leaf': [1, 2, 4, 5, 8, 10],\n",
    "              'min_samples_split': [2, 4, 6, 5, 10] }\n",
    "\n",
    "# Создаем модель\n",
    "\n",
    "dt_model = GridSearchCV(DecisionTreeClassifier(), parameters, cv=3, scoring='f1')\n",
    "\n",
    "#------------------------------------------------------------\n",
    "\n",
    "# Обучаем модель\n",
    "\n",
    "dt_model.fit(X_train, Y_train)\n",
    "\n",
    "# Загружаем в модель тестовые данные и записываем результат\n",
    "\n",
    "Y_pred_dt = dt_model.predict(X_test)\n",
    "\n",
    "# Сравниваем результат теста с фактическими данными\n",
    "\n",
    "result = X_test.copy()\n",
    "result['Y_pred_dt'] = Y_pred_dt\n",
    "result['Y_test'] = Y_test\n",
    "result[['Y_pred_dt', 'Y_test']].head()\n"
   ]
  },
  {
   "cell_type": "code",
   "execution_count": 46,
   "id": "2b389c1a",
   "metadata": {},
   "outputs": [
    {
     "data": {
      "text/plain": [
       "{'max_depth': 8, 'min_samples_leaf': 2, 'min_samples_split': 4}"
      ]
     },
     "execution_count": 46,
     "metadata": {},
     "output_type": "execute_result"
    }
   ],
   "source": [
    "# Полученные параметры являются лучшими для нашей модели\n",
    "\n",
    "dt_model.best_params_"
   ]
  },
  {
   "cell_type": "code",
   "execution_count": 47,
   "id": "8f621be5",
   "metadata": {},
   "outputs": [
    {
     "name": "stdout",
     "output_type": "stream",
     "text": [
      "accuracy_score:\t 89%\n",
      "recall:\t\t 0.7735849056603774\n",
      "precision:\t 0.8299595141700404\n",
      "f1_score:\t 0.80078125\n"
     ]
    }
   ],
   "source": [
    "# Используем функцию 'расчет точности' - отношение верных прогнозов к общему количеству позиций\n",
    "\n",
    "print(f\"accuracy_score:\\t {int(accuracy_score(result['Y_pred_dt'], result['Y_test'])*100)}%\")\n",
    "\n",
    "# Recall, Precision, F1\n",
    "\n",
    "print(f'recall:\\t\\t {recall_score(Y_test, Y_pred_dt)}')\n",
    "print(f'precision:\\t {precision_score(Y_test, Y_pred_dt)}')\n",
    "print(f'f1_score:\\t {f1_score(Y_test, Y_pred_dt)}')\n",
    "\n",
    "Decision_Tree = f1_score(Y_test, Y_pred_dt)"
   ]
  },
  {
   "cell_type": "markdown",
   "id": "0464fc47",
   "metadata": {},
   "source": [
    "---\n",
    "## <a id = 'task2-4'> 2.4. Метод опорных векторов | Support Vector Machines\n",
    "\n",
    "---\n",
    "    \n",
    "Работа метода опорных векторов заключается в рисовании линии между разными кластерами точек, которые нужно сгруппировать в классы. С одной стороны линии будут точки, принадлежащие одному классу, с другой стороны — к другому классу.\n",
    "\n",
    "Классификатор будет пытаться увеличить расстояние между рисуемыми линиями и точками на разных сторонах, чтобы увеличить свою «уверенность» определения класса. Когда все точки построены, сторона, на которую они падают — это класс, которому эти точки принадлежат.\n",
    "    \n",
    "---"
   ]
  },
  {
   "cell_type": "markdown",
   "id": "ed61c6e9",
   "metadata": {},
   "source": [
    "### <a id = 'task2-4-1'> 2.4.1. Построение модели | Support Vector Machines\n",
    "---"
   ]
  },
  {
   "cell_type": "code",
   "execution_count": 48,
   "id": "20716f6c",
   "metadata": {},
   "outputs": [
    {
     "data": {
      "text/html": [
       "<div>\n",
       "<style scoped>\n",
       "    .dataframe tbody tr th:only-of-type {\n",
       "        vertical-align: middle;\n",
       "    }\n",
       "\n",
       "    .dataframe tbody tr th {\n",
       "        vertical-align: top;\n",
       "    }\n",
       "\n",
       "    .dataframe thead th {\n",
       "        text-align: right;\n",
       "    }\n",
       "</style>\n",
       "<table border=\"1\" class=\"dataframe\">\n",
       "  <thead>\n",
       "    <tr style=\"text-align: right;\">\n",
       "      <th></th>\n",
       "      <th>Y_pred_svm</th>\n",
       "      <th>Y_test</th>\n",
       "    </tr>\n",
       "  </thead>\n",
       "  <tbody>\n",
       "    <tr>\n",
       "      <th>2447</th>\n",
       "      <td>0</td>\n",
       "      <td>1</td>\n",
       "    </tr>\n",
       "    <tr>\n",
       "      <th>1560</th>\n",
       "      <td>0</td>\n",
       "      <td>0</td>\n",
       "    </tr>\n",
       "    <tr>\n",
       "      <th>2048</th>\n",
       "      <td>0</td>\n",
       "      <td>0</td>\n",
       "    </tr>\n",
       "    <tr>\n",
       "      <th>1675</th>\n",
       "      <td>0</td>\n",
       "      <td>1</td>\n",
       "    </tr>\n",
       "    <tr>\n",
       "      <th>3643</th>\n",
       "      <td>0</td>\n",
       "      <td>0</td>\n",
       "    </tr>\n",
       "  </tbody>\n",
       "</table>\n",
       "</div>"
      ],
      "text/plain": [
       "      Y_pred_svm  Y_test\n",
       "2447           0       1\n",
       "1560           0       0\n",
       "2048           0       0\n",
       "1675           0       1\n",
       "3643           0       0"
      ]
     },
     "execution_count": 48,
     "metadata": {},
     "output_type": "execute_result"
    }
   ],
   "source": [
    "# Разделяем выборку на независимые и зависимую переменные:\n",
    "\n",
    "X = df[['gender', 'Near_Location', 'Partner', 'Promo_friends', 'Phone',\n",
    "       'Contract_period', 'Group_visits', 'Age',\n",
    "       'Avg_additional_charges_total', 'Month_to_end_contract', 'Lifetime',\n",
    "       'Avg_class_frequency_total', 'Avg_class_frequency_current_month']]\n",
    "Y = df['Churn']\n",
    "\n",
    "# Разделяем полученые выборки на тренировочные и тестовые\n",
    "# (При разделении указываем параметр stratify, чтобы в разделенных данных сохранялась пропорция классов)\n",
    "\n",
    "X_train, X_test, Y_train, Y_test = train_test_split(X, Y, test_size=0.25, random_state=42, stratify=Y)\n",
    "\n",
    "# Создаем модель логистической регрессии\n",
    "\n",
    "svm_model = SVC()\n",
    "\n",
    "# Загружаем в модель данные для тренировки\n",
    "\n",
    "svm_model.fit(X_train, Y_train)\n",
    "\n",
    "# Загружаем в модель тестовые данные и записываем результат\n",
    "\n",
    "Y_pred_svm = svm_model.predict(X_test)    \n",
    "\n",
    "# Сравниваем результат теста с фактическими данными\n",
    "\n",
    "result = X_test.copy()\n",
    "result['Y_pred_svm'] = Y_pred_svm\n",
    "result['Y_test'] = Y_test\n",
    "result[['Y_pred_svm', 'Y_test']].head()"
   ]
  },
  {
   "cell_type": "markdown",
   "id": "bc29f01e",
   "metadata": {},
   "source": [
    "---\n",
    "### <a id = 'task2-4-2'> 2.4.2. Оценка точности | Support Vector Machines\n",
    "    \n",
    "---"
   ]
  },
  {
   "cell_type": "code",
   "execution_count": 49,
   "id": "71a4fb2e",
   "metadata": {},
   "outputs": [
    {
     "name": "stdout",
     "output_type": "stream",
     "text": [
      "accuracy_score:\t 78%\n",
      "recall:\t\t 0.18490566037735848\n",
      "precision:\t 0.9607843137254902\n",
      "f1_score:\t 0.31012658227848094\n"
     ]
    }
   ],
   "source": [
    "# Используем функцию 'расчет точности' - отношение верных прогнозов к общему количеству позиций\n",
    "\n",
    "print(f\"accuracy_score:\\t {int(accuracy_score(result['Y_pred_svm'], result['Y_test'])*100)}%\")\n",
    "\n",
    "# Recall, Precision, F1\n",
    "\n",
    "print(f'recall:\\t\\t {recall_score(Y_test, Y_pred_svm)}')\n",
    "print(f'precision:\\t {precision_score(Y_test, Y_pred_svm)}')\n",
    "print(f'f1_score:\\t {f1_score(Y_test, Y_pred_svm)}')"
   ]
  },
  {
   "cell_type": "markdown",
   "id": "070c9e91",
   "metadata": {},
   "source": [
    "---\n",
    "### <a id = 'task2-4-3'> 2.4.3. Отбор признаков | Support Vector Machines"
   ]
  },
  {
   "cell_type": "markdown",
   "id": "460c0be4",
   "metadata": {},
   "source": [
    "---\n",
    "- #### GridSearchCV \n",
    "\n",
    "---"
   ]
  },
  {
   "cell_type": "code",
   "execution_count": 50,
   "id": "f97f7fb2",
   "metadata": {},
   "outputs": [
    {
     "data": {
      "text/html": [
       "<div>\n",
       "<style scoped>\n",
       "    .dataframe tbody tr th:only-of-type {\n",
       "        vertical-align: middle;\n",
       "    }\n",
       "\n",
       "    .dataframe tbody tr th {\n",
       "        vertical-align: top;\n",
       "    }\n",
       "\n",
       "    .dataframe thead th {\n",
       "        text-align: right;\n",
       "    }\n",
       "</style>\n",
       "<table border=\"1\" class=\"dataframe\">\n",
       "  <thead>\n",
       "    <tr style=\"text-align: right;\">\n",
       "      <th></th>\n",
       "      <th>Y_pred_svm</th>\n",
       "      <th>Y_test</th>\n",
       "    </tr>\n",
       "  </thead>\n",
       "  <tbody>\n",
       "    <tr>\n",
       "      <th>2447</th>\n",
       "      <td>1</td>\n",
       "      <td>1</td>\n",
       "    </tr>\n",
       "    <tr>\n",
       "      <th>1560</th>\n",
       "      <td>0</td>\n",
       "      <td>0</td>\n",
       "    </tr>\n",
       "    <tr>\n",
       "      <th>2048</th>\n",
       "      <td>0</td>\n",
       "      <td>0</td>\n",
       "    </tr>\n",
       "    <tr>\n",
       "      <th>1675</th>\n",
       "      <td>1</td>\n",
       "      <td>1</td>\n",
       "    </tr>\n",
       "    <tr>\n",
       "      <th>3643</th>\n",
       "      <td>0</td>\n",
       "      <td>0</td>\n",
       "    </tr>\n",
       "  </tbody>\n",
       "</table>\n",
       "</div>"
      ],
      "text/plain": [
       "      Y_pred_svm  Y_test\n",
       "2447           1       1\n",
       "1560           0       0\n",
       "2048           0       0\n",
       "1675           1       1\n",
       "3643           0       0"
      ]
     },
     "execution_count": 50,
     "metadata": {},
     "output_type": "execute_result"
    }
   ],
   "source": [
    "# Разделяем выборку на независимые и зависимую переменные:\n",
    "\n",
    "X = df[['gender', 'Near_Location', 'Partner', 'Promo_friends', 'Phone',\n",
    "       'Contract_period', 'Group_visits', 'Age',\n",
    "       'Avg_additional_charges_total', 'Month_to_end_contract', 'Lifetime',\n",
    "       'Avg_class_frequency_total', 'Avg_class_frequency_current_month']]\n",
    "Y = df['Churn']\n",
    "\n",
    "# Разделяем полученые выборки на тренировочные и тестовые\n",
    "# (При разделении указываем параметр stratify, чтобы в разделенных данных сохранялась пропорция классов)\n",
    "\n",
    "X_train, X_test, Y_train, Y_test = train_test_split(X, Y, test_size=0.25, random_state=42, stratify=Y)\n",
    "\n",
    "#------------------------------------------------------------\n",
    "\n",
    "# Будем использовать следующие параметры для GridSearchCV:\n",
    "\n",
    "parameters = {'C': [0.1,1, 10, 100, 1000], \n",
    "              'gamma': [1,0.1,0.01,0.001,0.0001] } \n",
    "\n",
    "# Создаем модель\n",
    "\n",
    "svm_model = GridSearchCV(SVC(), parameters, cv=3, scoring='f1')\n",
    "\n",
    "#------------------------------------------------------------\n",
    "\n",
    "# Обучаем модель\n",
    "\n",
    "svm_model.fit(X_train, Y_train)\n",
    "\n",
    "# Загружаем в модель тестовые данные и записываем результат\n",
    "\n",
    "Y_pred_svm = svm_model.predict(X_test)\n",
    "\n",
    "# Сравниваем результат теста с фактическими данными\n",
    "\n",
    "result = X_test.copy()\n",
    "result['Y_pred_svm'] = Y_pred_svm\n",
    "result['Y_test'] = Y_test\n",
    "result[['Y_pred_svm', 'Y_test']].head()\n"
   ]
  },
  {
   "cell_type": "code",
   "execution_count": 51,
   "id": "301fd82f",
   "metadata": {},
   "outputs": [
    {
     "name": "stdout",
     "output_type": "stream",
     "text": [
      "accuracy_score:\t 92%\n",
      "recall:\t\t 0.8339622641509434\n",
      "precision:\t 0.86328125\n",
      "f1_score:\t 0.8483685220729367\n"
     ]
    }
   ],
   "source": [
    "# Используем функцию 'расчет точности' - отношение верных прогнозов к общему количеству позиций\n",
    "\n",
    "print(f\"accuracy_score:\\t {int(accuracy_score(result['Y_pred_svm'], result['Y_test'])*100)}%\")\n",
    "\n",
    "# Recall, Precision, F1\n",
    "\n",
    "print(f'recall:\\t\\t {recall_score(Y_test, Y_pred_svm)}')\n",
    "print(f'precision:\\t {precision_score(Y_test, Y_pred_svm)}')\n",
    "print(f'f1_score:\\t {f1_score(Y_test, Y_pred_svm)}')\n",
    "\n",
    "Support_Vector_Machines = f1_score(Y_test, Y_pred_svm)"
   ]
  },
  {
   "cell_type": "markdown",
   "id": "e302ebf0",
   "metadata": {},
   "source": [
    "---\n",
    "## <a id = 'task2-5'> 2.5. Метод градиентного бустинга | EXtreme Gradient Boosting\n",
    "\n",
    "---\n",
    "    \n",
    "Цель классификаторов градиентного бустинга состоит в том, чтобы минимизировать потери или разницу между фактическим значением класса обучающего примера и прогнозируемым значением класса.\n",
    "    \n",
    "---"
   ]
  },
  {
   "cell_type": "markdown",
   "id": "60e0ead2",
   "metadata": {},
   "source": [
    "### <a id = 'task2-5-1'> 2.5.1. Построение модели | EXtreme Gradient Boosting\n",
    "---"
   ]
  },
  {
   "cell_type": "code",
   "execution_count": 52,
   "id": "d5b9f2e5",
   "metadata": {},
   "outputs": [
    {
     "data": {
      "text/html": [
       "<div>\n",
       "<style scoped>\n",
       "    .dataframe tbody tr th:only-of-type {\n",
       "        vertical-align: middle;\n",
       "    }\n",
       "\n",
       "    .dataframe tbody tr th {\n",
       "        vertical-align: top;\n",
       "    }\n",
       "\n",
       "    .dataframe thead th {\n",
       "        text-align: right;\n",
       "    }\n",
       "</style>\n",
       "<table border=\"1\" class=\"dataframe\">\n",
       "  <thead>\n",
       "    <tr style=\"text-align: right;\">\n",
       "      <th></th>\n",
       "      <th>Y_pred_xgb</th>\n",
       "      <th>Y_test</th>\n",
       "    </tr>\n",
       "  </thead>\n",
       "  <tbody>\n",
       "    <tr>\n",
       "      <th>2447</th>\n",
       "      <td>0</td>\n",
       "      <td>1</td>\n",
       "    </tr>\n",
       "    <tr>\n",
       "      <th>1560</th>\n",
       "      <td>0</td>\n",
       "      <td>0</td>\n",
       "    </tr>\n",
       "    <tr>\n",
       "      <th>2048</th>\n",
       "      <td>0</td>\n",
       "      <td>0</td>\n",
       "    </tr>\n",
       "    <tr>\n",
       "      <th>1675</th>\n",
       "      <td>1</td>\n",
       "      <td>1</td>\n",
       "    </tr>\n",
       "    <tr>\n",
       "      <th>3643</th>\n",
       "      <td>0</td>\n",
       "      <td>0</td>\n",
       "    </tr>\n",
       "  </tbody>\n",
       "</table>\n",
       "</div>"
      ],
      "text/plain": [
       "      Y_pred_xgb  Y_test\n",
       "2447           0       1\n",
       "1560           0       0\n",
       "2048           0       0\n",
       "1675           1       1\n",
       "3643           0       0"
      ]
     },
     "execution_count": 52,
     "metadata": {},
     "output_type": "execute_result"
    }
   ],
   "source": [
    "# Разделяем выборку на независимые и зависимую переменные:\n",
    "\n",
    "X = df[['gender', 'Near_Location', 'Partner', 'Promo_friends', 'Phone',\n",
    "       'Contract_period', 'Group_visits', 'Age',\n",
    "       'Avg_additional_charges_total', 'Month_to_end_contract', 'Lifetime',\n",
    "       'Avg_class_frequency_total', 'Avg_class_frequency_current_month']]\n",
    "Y = df['Churn']\n",
    "\n",
    "# Разделяем полученые выборки на тренировочные и тестовые\n",
    "# (При разделении указываем параметр stratify, чтобы в разделенных данных сохранялась пропорция классов)\n",
    "\n",
    "X_train, X_test, Y_train, Y_test = train_test_split(X, Y, test_size=0.25, random_state=42, stratify=Y)\n",
    "\n",
    "# Создаем модель логистической регрессии\n",
    "\n",
    "xgb_model = XGBClassifier()\n",
    "\n",
    "# Загружаем в модель данные для тренировки\n",
    "\n",
    "xgb_model.fit(X_train, Y_train, eval_metric='rmse')\n",
    "\n",
    "# Загружаем в модель тестовые данные и записываем результат\n",
    "\n",
    "Y_pred_xgb = xgb_model.predict(X_test)    \n",
    "\n",
    "# Сравниваем результат теста с фактическими данными\n",
    "\n",
    "result = X_test.copy()\n",
    "result['Y_pred_xgb'] = Y_pred_xgb\n",
    "result['Y_test'] = Y_test\n",
    "result[['Y_pred_xgb', 'Y_test']].head()"
   ]
  },
  {
   "cell_type": "markdown",
   "id": "5b3472c7",
   "metadata": {},
   "source": [
    "---\n",
    "### <a id = 'task2-5-2'> 2.5.2. Оценка точности | EXtreme Gradient Boosting\n",
    "    \n",
    "---"
   ]
  },
  {
   "cell_type": "code",
   "execution_count": 53,
   "id": "6a8624c3",
   "metadata": {},
   "outputs": [
    {
     "name": "stdout",
     "output_type": "stream",
     "text": [
      "accuracy_score:\t 93%\n",
      "recall:\t\t 0.8490566037735849\n",
      "precision:\t 0.8928571428571429\n",
      "f1_score:\t 0.8704061895551257\n"
     ]
    }
   ],
   "source": [
    "# Используем функцию 'расчет точности' - отношение верных прогнозов к общему количеству позиций\n",
    "\n",
    "print(f\"accuracy_score:\\t {int(accuracy_score(result['Y_pred_xgb'], result['Y_test'])*100)}%\")\n",
    "\n",
    "# Recall, Precision, F1\n",
    "\n",
    "print(f'recall:\\t\\t {recall_score(Y_test, Y_pred_xgb)}')\n",
    "print(f'precision:\\t {precision_score(Y_test, Y_pred_xgb)}')\n",
    "print(f'f1_score:\\t {f1_score(Y_test, Y_pred_xgb)}')"
   ]
  },
  {
   "cell_type": "markdown",
   "id": "5695965d",
   "metadata": {},
   "source": [
    "---\n",
    "### <a id = 'task2-5-3'> 2.5.3. Отбор признаков | EXtreme Gradient Boosting"
   ]
  },
  {
   "cell_type": "markdown",
   "id": "ca6a5dc6",
   "metadata": {},
   "source": [
    "---\n",
    "- #### GridSearchCV \n",
    "\n",
    "---"
   ]
  },
  {
   "cell_type": "code",
   "execution_count": 54,
   "id": "4475c8ad",
   "metadata": {},
   "outputs": [
    {
     "data": {
      "text/html": [
       "<div>\n",
       "<style scoped>\n",
       "    .dataframe tbody tr th:only-of-type {\n",
       "        vertical-align: middle;\n",
       "    }\n",
       "\n",
       "    .dataframe tbody tr th {\n",
       "        vertical-align: top;\n",
       "    }\n",
       "\n",
       "    .dataframe thead th {\n",
       "        text-align: right;\n",
       "    }\n",
       "</style>\n",
       "<table border=\"1\" class=\"dataframe\">\n",
       "  <thead>\n",
       "    <tr style=\"text-align: right;\">\n",
       "      <th></th>\n",
       "      <th>Y_pred_xgb</th>\n",
       "      <th>Y_test</th>\n",
       "    </tr>\n",
       "  </thead>\n",
       "  <tbody>\n",
       "    <tr>\n",
       "      <th>2447</th>\n",
       "      <td>0</td>\n",
       "      <td>1</td>\n",
       "    </tr>\n",
       "    <tr>\n",
       "      <th>1560</th>\n",
       "      <td>0</td>\n",
       "      <td>0</td>\n",
       "    </tr>\n",
       "    <tr>\n",
       "      <th>2048</th>\n",
       "      <td>0</td>\n",
       "      <td>0</td>\n",
       "    </tr>\n",
       "    <tr>\n",
       "      <th>1675</th>\n",
       "      <td>1</td>\n",
       "      <td>1</td>\n",
       "    </tr>\n",
       "    <tr>\n",
       "      <th>3643</th>\n",
       "      <td>0</td>\n",
       "      <td>0</td>\n",
       "    </tr>\n",
       "  </tbody>\n",
       "</table>\n",
       "</div>"
      ],
      "text/plain": [
       "      Y_pred_xgb  Y_test\n",
       "2447           0       1\n",
       "1560           0       0\n",
       "2048           0       0\n",
       "1675           1       1\n",
       "3643           0       0"
      ]
     },
     "execution_count": 54,
     "metadata": {},
     "output_type": "execute_result"
    }
   ],
   "source": [
    "# Разделяем выборку на независимые и зависимую переменные:\n",
    "\n",
    "X = df[['gender', 'Near_Location', 'Partner', 'Promo_friends', 'Phone',\n",
    "       'Contract_period', 'Group_visits', 'Age',\n",
    "       'Avg_additional_charges_total', 'Month_to_end_contract', 'Lifetime',\n",
    "       'Avg_class_frequency_total', 'Avg_class_frequency_current_month']]\n",
    "Y = df['Churn']\n",
    "\n",
    "# Разделяем полученые выборки на тренировочные и тестовые\n",
    "# (При разделении указываем параметр stratify, чтобы в разделенных данных сохранялась пропорция классов)\n",
    "\n",
    "X_train, X_test, Y_train, Y_test = train_test_split(X, Y, test_size=0.25, random_state=42, stratify=Y)\n",
    "\n",
    "#------------------------------------------------------------\n",
    "\n",
    "# Будем использовать следующие параметры для GridSearchCV:\n",
    "\n",
    "parameters = {\n",
    "    'n_estimators': range(1, 501, 50),\n",
    "    'max_depth': range (1, 11, 1),\n",
    "    'learning_rate': [0.1, 0.5, 1, 2]\n",
    "}\n",
    "\n",
    "# Создаем модель\n",
    "\n",
    "xgb_model = GridSearchCV(XGBClassifier(), parameters, cv=3, scoring='f1')\n",
    "\n",
    "#------------------------------------------------------------\n",
    "\n",
    "# Обучаем модель\n",
    "\n",
    "xgb_model.fit(X_train, Y_train, eval_metric='rmse')\n",
    "\n",
    "# Загружаем в модель тестовые данные и записываем результат\n",
    "\n",
    "Y_pred_xgb = xgb_model.predict(X_test)\n",
    "\n",
    "# Сравниваем результат теста с фактическими данными\n",
    "\n",
    "result = X_test.copy()\n",
    "result['Y_pred_xgb'] = Y_pred_xgb\n",
    "result['Y_test'] = Y_test\n",
    "result[['Y_pred_xgb', 'Y_test']].head()\n"
   ]
  },
  {
   "cell_type": "code",
   "execution_count": 55,
   "id": "d39ef554",
   "metadata": {},
   "outputs": [
    {
     "name": "stdout",
     "output_type": "stream",
     "text": [
      "accuracy_score:\t 94%\n",
      "recall:\t\t 0.8528301886792453\n",
      "precision:\t 0.9149797570850202\n",
      "f1_score:\t 0.8828125000000001\n"
     ]
    }
   ],
   "source": [
    "# Используем функцию 'расчет точности' - отношение верных прогнозов к общему количеству позиций\n",
    "\n",
    "print(f\"accuracy_score:\\t {int(accuracy_score(result['Y_pred_xgb'], result['Y_test'])*100)}%\")\n",
    "\n",
    "# Recall, Precision, F1\n",
    "\n",
    "print(f'recall:\\t\\t {recall_score(Y_test, Y_pred_xgb)}')\n",
    "print(f'precision:\\t {precision_score(Y_test, Y_pred_xgb)}')\n",
    "print(f'f1_score:\\t {f1_score(Y_test, Y_pred_xgb)}')\n",
    "\n",
    "EXtreme_Gradient_Boosting = f1_score(Y_test, Y_pred_xgb)"
   ]
  },
  {
   "cell_type": "markdown",
   "id": "89060ab2",
   "metadata": {},
   "source": [
    "---\n",
    "## <a id = 'task2-6'> 2.6. Выводы | выбор модели прогноза\n",
    "\n",
    "---\n",
    "При выборе модели будем руководствоваться значением F1 score после подбора оптимальных параметров для каждой модели с помощью GridSearchCV.\n",
    "    \n",
    "Результаты работы моделей:\n",
    "  \n",
    "---"
   ]
  },
  {
   "cell_type": "code",
   "execution_count": 56,
   "id": "b1f17cf6",
   "metadata": {},
   "outputs": [
    {
     "data": {
      "text/html": [
       "<div>\n",
       "<style scoped>\n",
       "    .dataframe tbody tr th:only-of-type {\n",
       "        vertical-align: middle;\n",
       "    }\n",
       "\n",
       "    .dataframe tbody tr th {\n",
       "        vertical-align: top;\n",
       "    }\n",
       "\n",
       "    .dataframe thead th {\n",
       "        text-align: right;\n",
       "    }\n",
       "</style>\n",
       "<table border=\"1\" class=\"dataframe\">\n",
       "  <thead>\n",
       "    <tr style=\"text-align: right;\">\n",
       "      <th></th>\n",
       "      <th>model</th>\n",
       "      <th>f_1_%</th>\n",
       "    </tr>\n",
       "  </thead>\n",
       "  <tbody>\n",
       "    <tr>\n",
       "      <th>5</th>\n",
       "      <td>EXtreme_Gradient_Boosting</td>\n",
       "      <td>88.28</td>\n",
       "    </tr>\n",
       "    <tr>\n",
       "      <th>1</th>\n",
       "      <td>Random_Forest_top_value</td>\n",
       "      <td>85.54</td>\n",
       "    </tr>\n",
       "    <tr>\n",
       "      <th>4</th>\n",
       "      <td>Support_Vector_Machines</td>\n",
       "      <td>84.84</td>\n",
       "    </tr>\n",
       "    <tr>\n",
       "      <th>2</th>\n",
       "      <td>Logistic_Regression</td>\n",
       "      <td>84.72</td>\n",
       "    </tr>\n",
       "    <tr>\n",
       "      <th>0</th>\n",
       "      <td>Random_Forest</td>\n",
       "      <td>83.46</td>\n",
       "    </tr>\n",
       "    <tr>\n",
       "      <th>3</th>\n",
       "      <td>Decision_Tree</td>\n",
       "      <td>80.08</td>\n",
       "    </tr>\n",
       "  </tbody>\n",
       "</table>\n",
       "</div>"
      ],
      "text/plain": [
       "                       model  f_1_%\n",
       "5  EXtreme_Gradient_Boosting  88.28\n",
       "1    Random_Forest_top_value  85.54\n",
       "4    Support_Vector_Machines  84.84\n",
       "2        Logistic_Regression  84.72\n",
       "0              Random_Forest  83.46\n",
       "3              Decision_Tree  80.08"
      ]
     },
     "execution_count": 56,
     "metadata": {},
     "output_type": "execute_result"
    }
   ],
   "source": [
    "f1_score_dict = {}\n",
    "f1_score_dict['Random_Forest'] = Random_Forest\n",
    "f1_score_dict['Random_Forest_top_value'] = Random_Forest_top_value\n",
    "f1_score_dict['Logistic_Regression'] = Logistic_Regression\n",
    "f1_score_dict['Decision_Tree'] = Decision_Tree\n",
    "f1_score_dict['Support_Vector_Machines'] = Support_Vector_Machines\n",
    "f1_score_dict['EXtreme_Gradient_Boosting'] = EXtreme_Gradient_Boosting\n",
    "\n",
    "model_score = pd.DataFrame({'model': f1_score_dict.keys(), \n",
    "                            'f_1_%': f1_score_dict.values() })\n",
    "\n",
    "model_score = model_score.sort_values(by='f_1_%', ascending = False)\n",
    "model_score['f_1_%'] = round(model_score['f_1_%']*100,2)\n",
    "model_score"
   ]
  },
  {
   "cell_type": "code",
   "execution_count": 57,
   "id": "2fc6444c",
   "metadata": {},
   "outputs": [
    {
     "data": {
      "image/png": "[encoded data removed]",
      "text/plain": [
       "<Figure size 432x288 with 1 Axes>"
      ]
     },
     "metadata": {
      "needs_background": "light"
     },
     "output_type": "display_data"
    }
   ],
   "source": [
    "sns.barplot(x=\"f_1_%\", y='model', data=model_score, color='lightblue')\n",
    "plt.xticks(rotation=0)\n",
    "plt.xlim(77, 90)\n",
    "plt.show()"
   ]
  },
  {
   "cell_type": "markdown",
   "id": "e3504a26",
   "metadata": {},
   "source": [
    "---\n",
    "# <a id = 'task2-5'> 3. Кластеризация клиентов\n",
    "\n",
    "---\n",
    "Цель кластерного анализа – нахождение групп схожих объектов в выборке данных.  \n",
    "Эти группы удобно называть кластерами.\n",
    "    \n",
    "---"
   ]
  },
  {
   "cell_type": "code",
   "execution_count": 69,
   "id": "e74e2f3d",
   "metadata": {},
   "outputs": [
    {
     "data": {
      "text/plain": [
       "array([[ 0.97970588,  0.42788074,  1.02686062, ..., -0.19332863,\n",
       "        -1.91191971, -1.67847198],\n",
       "       [-1.0207145 ,  0.42788074, -0.973842  , ...,  0.87368001,\n",
       "         0.04517569,  0.1360137 ],\n",
       "       [-1.0207145 ,  0.42788074,  1.02686062, ..., -0.46008079,\n",
       "        -0.02049263, -0.02901851],\n",
       "       ...,\n",
       "       [ 0.97970588,  0.42788074,  1.02686062, ..., -0.46008079,\n",
       "         0.93313947,  1.01103141],\n",
       "       [-1.0207145 ,  0.42788074,  1.02686062, ..., -0.19332863,\n",
       "        -0.25604937, -0.16225246],\n",
       "       [ 0.97970588, -2.33709981,  1.02686062, ..., -0.72683295,\n",
       "        -0.79947418, -0.69509885]])"
      ]
     },
     "execution_count": 69,
     "metadata": {},
     "output_type": "execute_result"
    }
   ],
   "source": [
    "# Выделяем независимые переменные\n",
    "\n",
    "X = df[['gender', 'Near_Location', 'Partner', 'Promo_friends', 'Phone',\n",
    "       'Contract_period', 'Group_visits', 'Age',\n",
    "       'Avg_additional_charges_total', 'Month_to_end_contract', 'Lifetime',\n",
    "       'Avg_class_frequency_total', 'Avg_class_frequency_current_month']]\n",
    "\n",
    "# Для начала приведем данные к единому масштабу, чтобы исключить влиение значений с большей числовой величиной\n",
    "\n",
    "scaler = StandardScaler()\n",
    "X_scaled = scaler.fit_transform(X)\n",
    "X_scaled"
   ]
  },
  {
   "cell_type": "markdown",
   "id": "831e1bde",
   "metadata": {},
   "source": [
    "---\n",
    "## <a id = 'task3-1'> 3.1. Иерархическая кластеризация\n",
    "\n",
    "---\n",
    "Представляет собой алгоритм, который строит иерархию кластеров. Этот алгоритм начинает работу с того, что каждому экземпляру данных сопоставляется свой собственный кластер. Затем два ближайших кластера объединяются в один и так далее, пока не будет образован один общий кластер.  \n",
    "    \n",
    "Результат иерархической кластеризации может быть представлен с помощью дендрограммы  \n",
    "    \n",
    "---"
   ]
  },
  {
   "cell_type": "code",
   "execution_count": 70,
   "id": "a5cf214d",
   "metadata": {},
   "outputs": [
    {
     "data": {
      "image/png": "[encoded data removed]",
      "text/plain": [
       "<Figure size 1080x504 with 1 Axes>"
      ]
     },
     "metadata": {
      "needs_background": "light"
     },
     "output_type": "display_data"
    }
   ],
   "source": [
    "plt.figure(figsize=(15, 7))\n",
    "plt.title(\"Customer Dendrogram\")\n",
    "# Используем “ward” в качестве метода определения расстояний, поскольку он минимизирует варианты расстояний между кластерами\n",
    "dend = shc.dendrogram(shc.linkage(X_scaled, method='ward'))"
   ]
  },
  {
   "cell_type": "markdown",
   "id": "b12aa517",
   "metadata": {},
   "source": [
    "---\n",
    "Видим разделение на 4 кластера.  \n",
    "Когда мы знаем количество кластеров для нашего набора данных, следующий шаг - сгруппировать точки данных в эти кластеры.  \n",
    "Для этого будем использовать класс Agglomerative Clustering библиотеки sklearn.cluster\n",
    "\n",
    "---"
   ]
  },
  {
   "cell_type": "code",
   "execution_count": 72,
   "id": "82c01d94",
   "metadata": {},
   "outputs": [
    {
     "data": {
      "text/plain": [
       "array([2, 1, 0, ..., 1, 0, 2], dtype=int64)"
      ]
     },
     "execution_count": 72,
     "metadata": {},
     "output_type": "execute_result"
    }
   ],
   "source": [
    "clusters = AgglomerativeClustering(n_clusters=4, affinity='euclidean', linkage='ward')\n",
    "clusters = clusters.fit_predict(X_scaled)\n",
    "clusters"
   ]
  },
  {
   "cell_type": "code",
   "execution_count": 73,
   "id": "f31ce67a",
   "metadata": {},
   "outputs": [
    {
     "data": {
      "text/html": [
       "<div>\n",
       "<style scoped>\n",
       "    .dataframe tbody tr th:only-of-type {\n",
       "        vertical-align: middle;\n",
       "    }\n",
       "\n",
       "    .dataframe tbody tr th {\n",
       "        vertical-align: top;\n",
       "    }\n",
       "\n",
       "    .dataframe thead th {\n",
       "        text-align: right;\n",
       "    }\n",
       "</style>\n",
       "<table border=\"1\" class=\"dataframe\">\n",
       "  <thead>\n",
       "    <tr style=\"text-align: right;\">\n",
       "      <th></th>\n",
       "      <th>gender</th>\n",
       "      <th>Near_Location</th>\n",
       "      <th>Partner</th>\n",
       "      <th>Promo_friends</th>\n",
       "      <th>Phone</th>\n",
       "      <th>Contract_period</th>\n",
       "      <th>Group_visits</th>\n",
       "      <th>Age</th>\n",
       "      <th>Avg_additional_charges_total</th>\n",
       "      <th>Month_to_end_contract</th>\n",
       "      <th>Lifetime</th>\n",
       "      <th>Avg_class_frequency_total</th>\n",
       "      <th>Avg_class_frequency_current_month</th>\n",
       "      <th>Churn</th>\n",
       "      <th>Cluster</th>\n",
       "    </tr>\n",
       "  </thead>\n",
       "  <tbody>\n",
       "    <tr>\n",
       "      <th>0</th>\n",
       "      <td>1</td>\n",
       "      <td>1</td>\n",
       "      <td>1</td>\n",
       "      <td>1</td>\n",
       "      <td>0</td>\n",
       "      <td>6</td>\n",
       "      <td>1</td>\n",
       "      <td>29</td>\n",
       "      <td>14.227470</td>\n",
       "      <td>5</td>\n",
       "      <td>3</td>\n",
       "      <td>0.020398</td>\n",
       "      <td>0.000000</td>\n",
       "      <td>0</td>\n",
       "      <td>2</td>\n",
       "    </tr>\n",
       "    <tr>\n",
       "      <th>1</th>\n",
       "      <td>0</td>\n",
       "      <td>1</td>\n",
       "      <td>0</td>\n",
       "      <td>0</td>\n",
       "      <td>1</td>\n",
       "      <td>12</td>\n",
       "      <td>1</td>\n",
       "      <td>31</td>\n",
       "      <td>113.202938</td>\n",
       "      <td>13</td>\n",
       "      <td>7</td>\n",
       "      <td>1.922936</td>\n",
       "      <td>1.910244</td>\n",
       "      <td>0</td>\n",
       "      <td>1</td>\n",
       "    </tr>\n",
       "    <tr>\n",
       "      <th>2</th>\n",
       "      <td>0</td>\n",
       "      <td>1</td>\n",
       "      <td>1</td>\n",
       "      <td>0</td>\n",
       "      <td>1</td>\n",
       "      <td>1</td>\n",
       "      <td>0</td>\n",
       "      <td>28</td>\n",
       "      <td>129.448479</td>\n",
       "      <td>2</td>\n",
       "      <td>2</td>\n",
       "      <td>1.859098</td>\n",
       "      <td>1.736502</td>\n",
       "      <td>0</td>\n",
       "      <td>0</td>\n",
       "    </tr>\n",
       "    <tr>\n",
       "      <th>3</th>\n",
       "      <td>0</td>\n",
       "      <td>1</td>\n",
       "      <td>1</td>\n",
       "      <td>1</td>\n",
       "      <td>1</td>\n",
       "      <td>12</td>\n",
       "      <td>1</td>\n",
       "      <td>33</td>\n",
       "      <td>62.669863</td>\n",
       "      <td>12</td>\n",
       "      <td>2</td>\n",
       "      <td>3.205633</td>\n",
       "      <td>3.357215</td>\n",
       "      <td>0</td>\n",
       "      <td>1</td>\n",
       "    </tr>\n",
       "    <tr>\n",
       "      <th>4</th>\n",
       "      <td>1</td>\n",
       "      <td>1</td>\n",
       "      <td>1</td>\n",
       "      <td>1</td>\n",
       "      <td>1</td>\n",
       "      <td>1</td>\n",
       "      <td>0</td>\n",
       "      <td>26</td>\n",
       "      <td>198.362265</td>\n",
       "      <td>2</td>\n",
       "      <td>3</td>\n",
       "      <td>1.113884</td>\n",
       "      <td>1.120078</td>\n",
       "      <td>0</td>\n",
       "      <td>0</td>\n",
       "    </tr>\n",
       "  </tbody>\n",
       "</table>\n",
       "</div>"
      ],
      "text/plain": [
       "   gender  Near_Location  Partner  Promo_friends  Phone  Contract_period  \\\n",
       "0       1              1        1              1      0                6   \n",
       "1       0              1        0              0      1               12   \n",
       "2       0              1        1              0      1                1   \n",
       "3       0              1        1              1      1               12   \n",
       "4       1              1        1              1      1                1   \n",
       "\n",
       "   Group_visits  Age  Avg_additional_charges_total  Month_to_end_contract  \\\n",
       "0             1   29                     14.227470                      5   \n",
       "1             1   31                    113.202938                     13   \n",
       "2             0   28                    129.448479                      2   \n",
       "3             1   33                     62.669863                     12   \n",
       "4             0   26                    198.362265                      2   \n",
       "\n",
       "   Lifetime  Avg_class_frequency_total  Avg_class_frequency_current_month  \\\n",
       "0         3                   0.020398                           0.000000   \n",
       "1         7                   1.922936                           1.910244   \n",
       "2         2                   1.859098                           1.736502   \n",
       "3         2                   3.205633                           3.357215   \n",
       "4         3                   1.113884                           1.120078   \n",
       "\n",
       "   Churn  Cluster  \n",
       "0      0        2  \n",
       "1      0        1  \n",
       "2      0        0  \n",
       "3      0        1  \n",
       "4      0        0  "
      ]
     },
     "execution_count": 73,
     "metadata": {},
     "output_type": "execute_result"
    }
   ],
   "source": [
    "# Добавляем кластеры в таблицу с данными\n",
    "\n",
    "df_clust_dendrogram = df.copy()\n",
    "df_clust_dendrogram['Cluster'] = clusters\n",
    "df_clust_dendrogram.head()"
   ]
  },
  {
   "cell_type": "markdown",
   "id": "99665eb4",
   "metadata": {},
   "source": [
    "---\n",
    "## <a id = 'task3-2'> 3.2. Медод K-средних | K-means\n",
    "\n",
    "---\n",
    "Разбивает множество элементов векторного пространства на заранее известное число кластеров k.  \n",
    "    Действие алгоритма таково, что он стремится минимизировать среднеквадратичное отклонение на точках каждого кластера. Основная идея заключается в том, что на каждой итерации перевычисляется центр масс для каждого кластера, полученного на предыдущем шаге, затем векторы разбиваются на кластеры вновь в соответствии с тем, какой из новых центров оказался ближе по выбранной метрике. Алгоритм завершается, когда на какой-то итерации не происходит изменения кластеров.\n",
    "    \n",
    "---"
   ]
  },
  {
   "cell_type": "code",
   "execution_count": 74,
   "id": "7d47e89f",
   "metadata": {},
   "outputs": [
    {
     "data": {
      "image/png": "[encoded data removed]",
      "text/plain": [
       "<Figure size 432x288 with 1 Axes>"
      ]
     },
     "metadata": {
      "needs_background": "light"
     },
     "output_type": "display_data"
    }
   ],
   "source": [
    "# строим график локтя (определяем оптимальное количесвто классов)\n",
    "\n",
    "# создаем список для инерции\n",
    "k_inertia = []\n",
    "# задаем диапазон кластеров\n",
    "ks = range(1, 10)\n",
    "\n",
    "for k in ks:\n",
    "    clf_kmeans = KMeans(n_clusters=k, init = 'k-means++')\n",
    "    clusters_kmeans = clf_kmeans.fit_predict(X_scaled)\n",
    "    # добавляем инерцию каждой модели в список\n",
    "    k_inertia.append(clf_kmeans.inertia_)\n",
    "    \n",
    "    \n",
    "plt.plot(ks, k_inertia)\n",
    "plt.plot(ks, k_inertia ,'ro')\n",
    "plt.xlabel('clusters')\n",
    "\n",
    "plt.show()"
   ]
  },
  {
   "cell_type": "markdown",
   "id": "4f9a1d6a",
   "metadata": {},
   "source": [
    "---\n",
    "Отличия между классами плохо различимы визуально, поэтому будем руководствоваться разделением на классы методом иерархической кластеризации (4 класса)\n",
    "\n",
    "---"
   ]
  },
  {
   "cell_type": "markdown",
   "id": "8d053226",
   "metadata": {},
   "source": [
    "Проверим количество классов с помощью\n",
    "\n",
    "### Silhouette index\n",
    "\n",
    "\n",
    "Силуэтный анализ относится к методу интерпретации и проверки согласованности в кластерах данных. Значение силуэта является мерой того, насколько объект похож на свой собственный кластер (сплоченность) по сравнению с другими кластерами (разделение). Он может быть использован для изучения расстояния между результирующими кластерами. График силуэта показывает меру того, насколько близко каждая точка в одном кластере находится к точкам в соседних кластерах, и, таким образом, предоставляет способ визуальной оценки таких параметров, как количество кластеров.   \n",
    "\n",
    "- Если значение силуэта близко к 1, выборка хорошо кластеризована и уже назначена очень подходящему кластеру.  \n",
    "- Если значение силуэта равно 0, выборка может быть назначена другому кластеру, ближайшему к нему, и выборка находится на одинаковом расстоянии от обоих кластеров. Это означает, что это указывает на перекрывающиеся кластеры   \n",
    "- Если значение силуэта близко к -1, выборка ошибочно классифицируется и просто помещается где-то между кластерами.\n",
    "\n",
    "---"
   ]
  },
  {
   "cell_type": "code",
   "execution_count": 75,
   "id": "3490daec",
   "metadata": {},
   "outputs": [
    {
     "name": "stdout",
     "output_type": "stream",
     "text": [
      "For № of clusters = 2  the average silhouette_score is: 0.16474446920681482\n",
      "For № of clusters = 3  the average silhouette_score is: 0.12573142273986712\n",
      "For № of clusters = 4  the average silhouette_score is: 0.13425636820711617\n",
      "For № of clusters = 5  the average silhouette_score is: 0.12810670747149713\n",
      "For № of clusters = 6  the average silhouette_score is: 0.12228605458127269\n",
      "For № of clusters = 7  the average silhouette_score is: 0.11184952362303788\n",
      "For № of clusters = 8  the average silhouette_score is: 0.11155536030023612\n",
      "For № of clusters = 9  the average silhouette_score is: 0.11459481927115114\n"
     ]
    }
   ],
   "source": [
    "no_of_clusters = range(2,10,1)\n",
    "\n",
    "for n_clusters in no_of_clusters:\n",
    "    cluster = KMeans(n_clusters = n_clusters, init = 'k-means++', random_state = 42)\n",
    "    cluster_labels = cluster.fit_predict(X_scaled)\n",
    "\n",
    "    # Silhouette_score дает среднее значение для всех образцов\n",
    "\n",
    "    silhouette_avg = silhouette_score(X_scaled, cluster_labels)\n",
    "\n",
    "    print(\"For № of clusters =\", n_clusters, \" the average silhouette_score is:\", silhouette_avg)"
   ]
  },
  {
   "cell_type": "markdown",
   "id": "fe22ae1d",
   "metadata": {},
   "source": [
    "---\n",
    "Видим, что silhouette_score наиболее высокий при разделении выборки на 2 кластера.   \n",
    "Следующее по качеству значение соответствует 4 кластерам.  \n",
    "Выбираем 4 кластера для вариативности срезов.\n",
    "\n",
    "---"
   ]
  },
  {
   "cell_type": "code",
   "execution_count": 76,
   "id": "4c34ef66",
   "metadata": {},
   "outputs": [
    {
     "data": {
      "text/plain": [
       "array([2, 0, 1, ..., 0, 0, 2])"
      ]
     },
     "execution_count": 76,
     "metadata": {},
     "output_type": "execute_result"
    }
   ],
   "source": [
    "# Явно указываем количество кластеров\n",
    "\n",
    "kmeans = KMeans(n_clusters=4, init = 'k-means++')\n",
    "\n",
    "# fit_predict обучается на данных и каждому объекту присваивает кластер\n",
    "\n",
    "clusters = kmeans.fit_predict(X_scaled)\n",
    "clusters"
   ]
  },
  {
   "cell_type": "code",
   "execution_count": 77,
   "id": "c65e6402",
   "metadata": {},
   "outputs": [
    {
     "data": {
      "text/html": [
       "<div>\n",
       "<style scoped>\n",
       "    .dataframe tbody tr th:only-of-type {\n",
       "        vertical-align: middle;\n",
       "    }\n",
       "\n",
       "    .dataframe tbody tr th {\n",
       "        vertical-align: top;\n",
       "    }\n",
       "\n",
       "    .dataframe thead th {\n",
       "        text-align: right;\n",
       "    }\n",
       "</style>\n",
       "<table border=\"1\" class=\"dataframe\">\n",
       "  <thead>\n",
       "    <tr style=\"text-align: right;\">\n",
       "      <th></th>\n",
       "      <th>gender</th>\n",
       "      <th>Near_Location</th>\n",
       "      <th>Partner</th>\n",
       "      <th>Promo_friends</th>\n",
       "      <th>Phone</th>\n",
       "      <th>Contract_period</th>\n",
       "      <th>Group_visits</th>\n",
       "      <th>Age</th>\n",
       "      <th>Avg_additional_charges_total</th>\n",
       "      <th>Month_to_end_contract</th>\n",
       "      <th>Lifetime</th>\n",
       "      <th>Avg_class_frequency_total</th>\n",
       "      <th>Avg_class_frequency_current_month</th>\n",
       "      <th>Churn</th>\n",
       "      <th>Cluster</th>\n",
       "    </tr>\n",
       "  </thead>\n",
       "  <tbody>\n",
       "    <tr>\n",
       "      <th>0</th>\n",
       "      <td>1</td>\n",
       "      <td>1</td>\n",
       "      <td>1</td>\n",
       "      <td>1</td>\n",
       "      <td>0</td>\n",
       "      <td>6</td>\n",
       "      <td>1</td>\n",
       "      <td>29</td>\n",
       "      <td>14.227470</td>\n",
       "      <td>5</td>\n",
       "      <td>3</td>\n",
       "      <td>0.020398</td>\n",
       "      <td>0.000000</td>\n",
       "      <td>0</td>\n",
       "      <td>2</td>\n",
       "    </tr>\n",
       "    <tr>\n",
       "      <th>1</th>\n",
       "      <td>0</td>\n",
       "      <td>1</td>\n",
       "      <td>0</td>\n",
       "      <td>0</td>\n",
       "      <td>1</td>\n",
       "      <td>12</td>\n",
       "      <td>1</td>\n",
       "      <td>31</td>\n",
       "      <td>113.202938</td>\n",
       "      <td>13</td>\n",
       "      <td>7</td>\n",
       "      <td>1.922936</td>\n",
       "      <td>1.910244</td>\n",
       "      <td>0</td>\n",
       "      <td>0</td>\n",
       "    </tr>\n",
       "    <tr>\n",
       "      <th>2</th>\n",
       "      <td>0</td>\n",
       "      <td>1</td>\n",
       "      <td>1</td>\n",
       "      <td>0</td>\n",
       "      <td>1</td>\n",
       "      <td>1</td>\n",
       "      <td>0</td>\n",
       "      <td>28</td>\n",
       "      <td>129.448479</td>\n",
       "      <td>2</td>\n",
       "      <td>2</td>\n",
       "      <td>1.859098</td>\n",
       "      <td>1.736502</td>\n",
       "      <td>0</td>\n",
       "      <td>1</td>\n",
       "    </tr>\n",
       "    <tr>\n",
       "      <th>3</th>\n",
       "      <td>0</td>\n",
       "      <td>1</td>\n",
       "      <td>1</td>\n",
       "      <td>1</td>\n",
       "      <td>1</td>\n",
       "      <td>12</td>\n",
       "      <td>1</td>\n",
       "      <td>33</td>\n",
       "      <td>62.669863</td>\n",
       "      <td>12</td>\n",
       "      <td>2</td>\n",
       "      <td>3.205633</td>\n",
       "      <td>3.357215</td>\n",
       "      <td>0</td>\n",
       "      <td>0</td>\n",
       "    </tr>\n",
       "    <tr>\n",
       "      <th>4</th>\n",
       "      <td>1</td>\n",
       "      <td>1</td>\n",
       "      <td>1</td>\n",
       "      <td>1</td>\n",
       "      <td>1</td>\n",
       "      <td>1</td>\n",
       "      <td>0</td>\n",
       "      <td>26</td>\n",
       "      <td>198.362265</td>\n",
       "      <td>2</td>\n",
       "      <td>3</td>\n",
       "      <td>1.113884</td>\n",
       "      <td>1.120078</td>\n",
       "      <td>0</td>\n",
       "      <td>1</td>\n",
       "    </tr>\n",
       "  </tbody>\n",
       "</table>\n",
       "</div>"
      ],
      "text/plain": [
       "   gender  Near_Location  Partner  Promo_friends  Phone  Contract_period  \\\n",
       "0       1              1        1              1      0                6   \n",
       "1       0              1        0              0      1               12   \n",
       "2       0              1        1              0      1                1   \n",
       "3       0              1        1              1      1               12   \n",
       "4       1              1        1              1      1                1   \n",
       "\n",
       "   Group_visits  Age  Avg_additional_charges_total  Month_to_end_contract  \\\n",
       "0             1   29                     14.227470                      5   \n",
       "1             1   31                    113.202938                     13   \n",
       "2             0   28                    129.448479                      2   \n",
       "3             1   33                     62.669863                     12   \n",
       "4             0   26                    198.362265                      2   \n",
       "\n",
       "   Lifetime  Avg_class_frequency_total  Avg_class_frequency_current_month  \\\n",
       "0         3                   0.020398                           0.000000   \n",
       "1         7                   1.922936                           1.910244   \n",
       "2         2                   1.859098                           1.736502   \n",
       "3         2                   3.205633                           3.357215   \n",
       "4         3                   1.113884                           1.120078   \n",
       "\n",
       "   Churn  Cluster  \n",
       "0      0        2  \n",
       "1      0        0  \n",
       "2      0        1  \n",
       "3      0        0  \n",
       "4      0        1  "
      ]
     },
     "execution_count": 77,
     "metadata": {},
     "output_type": "execute_result"
    }
   ],
   "source": [
    "# Добавляем кластеры в таблицу с данными\n",
    "\n",
    "df_clust_kmeans = df.copy()\n",
    "df_clust_kmeans['Cluster'] = clusters\n",
    "df_clust_kmeans.head()"
   ]
  },
  {
   "cell_type": "markdown",
   "id": "fdb35c48",
   "metadata": {},
   "source": [
    "---\n",
    "## <a id = 'task3-3'> 3.3. Анализ срезов кластеров\n",
    "    \n",
    "---\n",
    "Для анализа клиентской базы выберем кластеры, присвоенные клиентам с помощью метода k-means, как более продвинутого.\n",
    "    \n",
    "---"
   ]
  },
  {
   "cell_type": "code",
   "execution_count": 80,
   "id": "21da7f3b",
   "metadata": {},
   "outputs": [
    {
     "data": {
      "text/html": [
       "<div>\n",
       "<style scoped>\n",
       "    .dataframe tbody tr th:only-of-type {\n",
       "        vertical-align: middle;\n",
       "    }\n",
       "\n",
       "    .dataframe tbody tr th {\n",
       "        vertical-align: top;\n",
       "    }\n",
       "\n",
       "    .dataframe thead th {\n",
       "        text-align: right;\n",
       "    }\n",
       "</style>\n",
       "<table border=\"1\" class=\"dataframe\">\n",
       "  <thead>\n",
       "    <tr style=\"text-align: right;\">\n",
       "      <th>Parameter</th>\n",
       "      <th>1</th>\n",
       "      <th>2</th>\n",
       "      <th>3</th>\n",
       "      <th>4</th>\n",
       "    </tr>\n",
       "  </thead>\n",
       "  <tbody>\n",
       "    <tr>\n",
       "      <th>gender_%</th>\n",
       "      <td>48.96</td>\n",
       "      <td>52.33</td>\n",
       "      <td>54.08</td>\n",
       "      <td>50.33</td>\n",
       "    </tr>\n",
       "    <tr>\n",
       "      <th>Near_Location_%</th>\n",
       "      <td>75.96</td>\n",
       "      <td>86.27</td>\n",
       "      <td>86.46</td>\n",
       "      <td>94.08</td>\n",
       "    </tr>\n",
       "    <tr>\n",
       "      <th>Partner_%</th>\n",
       "      <td>38.62</td>\n",
       "      <td>47.15</td>\n",
       "      <td>35.25</td>\n",
       "      <td>77.36</td>\n",
       "    </tr>\n",
       "    <tr>\n",
       "      <th>Promo_friends_%</th>\n",
       "      <td>19.54</td>\n",
       "      <td>30.57</td>\n",
       "      <td>21.24</td>\n",
       "      <td>56.92</td>\n",
       "    </tr>\n",
       "    <tr>\n",
       "      <th>Phone_%</th>\n",
       "      <td>100.00</td>\n",
       "      <td>0.00</td>\n",
       "      <td>100.00</td>\n",
       "      <td>100.00</td>\n",
       "    </tr>\n",
       "    <tr>\n",
       "      <th>Contract_period</th>\n",
       "      <td>1.93</td>\n",
       "      <td>4.78</td>\n",
       "      <td>2.49</td>\n",
       "      <td>10.83</td>\n",
       "    </tr>\n",
       "    <tr>\n",
       "      <th>Group_visits_%</th>\n",
       "      <td>29.55</td>\n",
       "      <td>42.75</td>\n",
       "      <td>44.06</td>\n",
       "      <td>54.35</td>\n",
       "    </tr>\n",
       "    <tr>\n",
       "      <th>Age</th>\n",
       "      <td>28.05</td>\n",
       "      <td>29.30</td>\n",
       "      <td>29.98</td>\n",
       "      <td>29.93</td>\n",
       "    </tr>\n",
       "    <tr>\n",
       "      <th>Avg_additional_charges_total</th>\n",
       "      <td>129.97</td>\n",
       "      <td>144.21</td>\n",
       "      <td>157.75</td>\n",
       "      <td>160.97</td>\n",
       "    </tr>\n",
       "    <tr>\n",
       "      <th>Month_to_end_contract</th>\n",
       "      <td>2.71</td>\n",
       "      <td>5.15</td>\n",
       "      <td>3.12</td>\n",
       "      <td>10.18</td>\n",
       "    </tr>\n",
       "    <tr>\n",
       "      <th>Lifetime</th>\n",
       "      <td>2.23</td>\n",
       "      <td>3.94</td>\n",
       "      <td>4.70</td>\n",
       "      <td>4.76</td>\n",
       "    </tr>\n",
       "    <tr>\n",
       "      <th>Avg_class_frequency_total</th>\n",
       "      <td>1.21</td>\n",
       "      <td>1.85</td>\n",
       "      <td>2.72</td>\n",
       "      <td>1.98</td>\n",
       "    </tr>\n",
       "    <tr>\n",
       "      <th>Avg_class_frequency_current_month</th>\n",
       "      <td>0.95</td>\n",
       "      <td>1.72</td>\n",
       "      <td>2.71</td>\n",
       "      <td>1.97</td>\n",
       "    </tr>\n",
       "    <tr>\n",
       "      <th>clients_count</th>\n",
       "      <td>1489.00</td>\n",
       "      <td>386.00</td>\n",
       "      <td>1078.00</td>\n",
       "      <td>1047.00</td>\n",
       "    </tr>\n",
       "    <tr>\n",
       "      <th>Churn_%</th>\n",
       "      <td>55.88</td>\n",
       "      <td>26.68</td>\n",
       "      <td>9.00</td>\n",
       "      <td>2.77</td>\n",
       "    </tr>\n",
       "  </tbody>\n",
       "</table>\n",
       "</div>"
      ],
      "text/plain": [
       "Parameter                                1       2        3        4\n",
       "gender_%                             48.96   52.33    54.08    50.33\n",
       "Near_Location_%                      75.96   86.27    86.46    94.08\n",
       "Partner_%                            38.62   47.15    35.25    77.36\n",
       "Promo_friends_%                      19.54   30.57    21.24    56.92\n",
       "Phone_%                             100.00    0.00   100.00   100.00\n",
       "Contract_period                       1.93    4.78     2.49    10.83\n",
       "Group_visits_%                       29.55   42.75    44.06    54.35\n",
       "Age                                  28.05   29.30    29.98    29.93\n",
       "Avg_additional_charges_total        129.97  144.21   157.75   160.97\n",
       "Month_to_end_contract                 2.71    5.15     3.12    10.18\n",
       "Lifetime                              2.23    3.94     4.70     4.76\n",
       "Avg_class_frequency_total             1.21    1.85     2.72     1.98\n",
       "Avg_class_frequency_current_month     0.95    1.72     2.71     1.97\n",
       "clients_count                      1489.00  386.00  1078.00  1047.00\n",
       "Churn_%                              55.88   26.68     9.00     2.77"
      ]
     },
     "execution_count": 80,
     "metadata": {},
     "output_type": "execute_result"
    }
   ],
   "source": [
    "# Сгруппируем клиентов по кластерам с выводом средних значений параметров\n",
    "\n",
    "# Сразу переименуем колонку Клстер в Параметр (при транспонировании она превратится в параметр)\n",
    "df_clust_mean = df_clust_kmeans.rename(columns={'Cluster':'Parameter'}).copy()\n",
    "\n",
    "# Считаем средние значения параметров в кластере\n",
    "df_clust_mean = df_clust_mean.groupby('Parameter').mean()\n",
    "\n",
    "# Добавляем колонку с количеством клиентов в кластере\n",
    "df_clust_mean['clients_count'] = df_clust_kmeans.groupby('Cluster')['Cluster'].count()\n",
    "\n",
    "# Переводим значения категориальных величин в %\n",
    "df_clust_mean[['gender', 'Near_Location', 'Partner', \n",
    "               'Promo_friends', 'Phone', 'Group_visits', 'Churn']] = df_clust_mean[['gender', 'Near_Location', 'Partner', \n",
    "                                                                                       'Promo_friends', 'Phone', 'Group_visits', 'Churn']] *100\n",
    "# Обозначим %-ные значения в названиях столбцов\n",
    "df_clust_mean = df_clust_mean.rename(columns={'gender':'gender_%', 'Near_Location':'Near_Location_%', 'Partner':'Partner_%', \n",
    "                                              'Promo_friends':'Promo_friends_%', 'Phone':'Phone_%', 'Group_visits':'Group_visits_%', \n",
    "                                              'Churn':'Churn_%'})\n",
    "\n",
    "df_clust_mean = df_clust_mean.sort_values(by='Churn_%', ascending = False).round(2)\n",
    "\n",
    "df_clust_mean['clients_count'] = df_clust_mean['clients_count'].astype(int)\n",
    "\n",
    "# Меняем порядок столбцов\n",
    "df_clust_mean = df_clust_mean[['gender_%', 'Near_Location_%', 'Partner_%', 'Promo_friends_%',\n",
    "                               'Phone_%', 'Contract_period', 'Group_visits_%', 'Age',\n",
    "                               'Avg_additional_charges_total', 'Month_to_end_contract', 'Lifetime',\n",
    "                               'Avg_class_frequency_total', 'Avg_class_frequency_current_month','clients_count','Churn_%']]\n",
    "\n",
    "df_clust_mean_T = df_clust_mean.T.rename(columns={1:1, 2:2, 3:3, 0:4})\n",
    "df_clust_mean_T"
   ]
  },
  {
   "cell_type": "code",
   "execution_count": 81,
   "id": "e2832970",
   "metadata": {
    "scrolled": false
   },
   "outputs": [
    {
     "data": {
      "image/png": "[encoded data removed]",
      "text/plain": [
       "<Figure size 432x288 with 1 Axes>"
      ]
     },
     "metadata": {
      "needs_background": "light"
     },
     "output_type": "display_data"
    },
    {
     "name": "stdout",
     "output_type": "stream",
     "text": [
      "\n"
     ]
    },
    {
     "data": {
      "image/png": "[encoded data removed]",
      "text/plain": [
       "<Figure size 432x288 with 1 Axes>"
      ]
     },
     "metadata": {
      "needs_background": "light"
     },
     "output_type": "display_data"
    },
    {
     "name": "stdout",
     "output_type": "stream",
     "text": [
      "\n"
     ]
    },
    {
     "data": {
      "image/png": "[encoded data removed]",
      "text/plain": [
       "<Figure size 432x288 with 1 Axes>"
      ]
     },
     "metadata": {
      "needs_background": "light"
     },
     "output_type": "display_data"
    },
    {
     "name": "stdout",
     "output_type": "stream",
     "text": [
      "\n"
     ]
    },
    {
     "data": {
      "image/png": "[encoded data removed]",
      "text/plain": [
       "<Figure size 432x288 with 1 Axes>"
      ]
     },
     "metadata": {
      "needs_background": "light"
     },
     "output_type": "display_data"
    },
    {
     "name": "stdout",
     "output_type": "stream",
     "text": [
      "\n"
     ]
    },
    {
     "data": {
      "image/png": "[encoded data removed]",
      "text/plain": [
       "<Figure size 432x288 with 1 Axes>"
      ]
     },
     "metadata": {
      "needs_background": "light"
     },
     "output_type": "display_data"
    },
    {
     "name": "stdout",
     "output_type": "stream",
     "text": [
      "\n"
     ]
    },
    {
     "data": {
      "image/png": "[encoded data removed]",
      "text/plain": [
       "<Figure size 432x288 with 1 Axes>"
      ]
     },
     "metadata": {
      "needs_background": "light"
     },
     "output_type": "display_data"
    },
    {
     "name": "stdout",
     "output_type": "stream",
     "text": [
      "\n"
     ]
    },
    {
     "data": {
      "image/png": "[encoded data removed]",
      "text/plain": [
       "<Figure size 432x288 with 1 Axes>"
      ]
     },
     "metadata": {
      "needs_background": "light"
     },
     "output_type": "display_data"
    },
    {
     "name": "stdout",
     "output_type": "stream",
     "text": [
      "\n"
     ]
    },
    {
     "data": {
      "image/png": "[encoded data removed]",
      "text/plain": [
       "<Figure size 432x288 with 1 Axes>"
      ]
     },
     "metadata": {
      "needs_background": "light"
     },
     "output_type": "display_data"
    },
    {
     "name": "stdout",
     "output_type": "stream",
     "text": [
      "\n"
     ]
    },
    {
     "data": {
      "image/png": "[encoded data removed]",
      "text/plain": [
       "<Figure size 432x288 with 1 Axes>"
      ]
     },
     "metadata": {
      "needs_background": "light"
     },
     "output_type": "display_data"
    },
    {
     "name": "stdout",
     "output_type": "stream",
     "text": [
      "\n"
     ]
    },
    {
     "data": {
      "image/png": "[encoded data removed]",
      "text/plain": [
       "<Figure size 432x288 with 1 Axes>"
      ]
     },
     "metadata": {
      "needs_background": "light"
     },
     "output_type": "display_data"
    },
    {
     "name": "stdout",
     "output_type": "stream",
     "text": [
      "\n"
     ]
    },
    {
     "data": {
      "image/png": "[encoded data removed]",
      "text/plain": [
       "<Figure size 432x288 with 1 Axes>"
      ]
     },
     "metadata": {
      "needs_background": "light"
     },
     "output_type": "display_data"
    },
    {
     "name": "stdout",
     "output_type": "stream",
     "text": [
      "\n"
     ]
    },
    {
     "data": {
      "image/png": "[encoded data removed]",
      "text/plain": [
       "<Figure size 432x288 with 1 Axes>"
      ]
     },
     "metadata": {
      "needs_background": "light"
     },
     "output_type": "display_data"
    },
    {
     "name": "stdout",
     "output_type": "stream",
     "text": [
      "\n"
     ]
    },
    {
     "data": {
      "image/png": "[encoded data removed]",
      "text/plain": [
       "<Figure size 432x288 with 1 Axes>"
      ]
     },
     "metadata": {
      "needs_background": "light"
     },
     "output_type": "display_data"
    },
    {
     "name": "stdout",
     "output_type": "stream",
     "text": [
      "\n"
     ]
    },
    {
     "data": {
      "image/png": "[encoded data removed]",
      "text/plain": [
       "<Figure size 432x288 with 1 Axes>"
      ]
     },
     "metadata": {
      "needs_background": "light"
     },
     "output_type": "display_data"
    },
    {
     "name": "stdout",
     "output_type": "stream",
     "text": [
      "\n"
     ]
    },
    {
     "data": {
      "image/png": "[encoded data removed]",
      "text/plain": [
       "<Figure size 432x288 with 1 Axes>"
      ]
     },
     "metadata": {
      "needs_background": "light"
     },
     "output_type": "display_data"
    },
    {
     "name": "stdout",
     "output_type": "stream",
     "text": [
      "\n"
     ]
    }
   ],
   "source": [
    "for a in range(len(df_clust_mean_T)):\n",
    "    sns.barplot(data = df_clust_mean_T[a:a+1], palette='pastel')\n",
    "    plt.title(df_clust_mean_T[a:a+1].index[0])\n",
    "    plt.xlabel('Cluster')\n",
    "    plt.show()\n",
    "    print('')"
   ]
  },
  {
   "cell_type": "markdown",
   "id": "612ad00d",
   "metadata": {},
   "source": [
    "---\n",
    "## <a id = 'task3-4'> 3.4. Выводы и предложения\n",
    "    \n",
    "---"
   ]
  },
  {
   "cell_type": "code",
   "execution_count": 68,
   "id": "85efd0ea",
   "metadata": {},
   "outputs": [
    {
     "name": "stdout",
     "output_type": "stream",
     "text": [
      "Клиентов в 1 кластере: 34%\n",
      "Клиентов в 2 кластере: 13%\n",
      "Клиентов в 3 кластере: 24%\n",
      "Клиентов в 4 кластере: 27%\n"
     ]
    }
   ],
   "source": [
    "# Определяем % клиентов в каждом кластере\n",
    "\n",
    "Claster_1 = int(df_clust_mean_T.T['clients_count'][0:1] / df_clust_mean_T.T['clients_count'].sum()*100)\n",
    "Claster_2 = int(df_clust_mean_T.T['clients_count'][1:2] / df_clust_mean_T.T['clients_count'].sum()*100)\n",
    "Claster_3 = int(df_clust_mean_T.T['clients_count'][2:3] / df_clust_mean_T.T['clients_count'].sum()*100)\n",
    "Claster_4 = int(df_clust_mean_T.T['clients_count'][3:4] / df_clust_mean_T.T['clients_count'].sum()*100)\n",
    "\n",
    "print(f'Клиентов в 1 кластере: {Claster_1}%')\n",
    "print(f'Клиентов в 2 кластере: {Claster_2}%')\n",
    "print(f'Клиентов в 3 кластере: {Claster_3}%')\n",
    "print(f'Клиентов в 4 кластере: {Claster_4}%')"
   ]
  },
  {
   "cell_type": "markdown",
   "id": "3b94f0a7",
   "metadata": {},
   "source": [
    "---\n",
    "#### Cluster 1  \n",
    "Самый крупный кластер (34%).   \n",
    "Этот кластер также является самым проблемным. Больше половины клиентов этой групы попадают в отток.  \n",
    "\n",
    "Отличительные характеристики клиентов кластера:  \n",
    "- редко посещают групповые занятия\n",
    "- редко посещают клуб\n",
    "- редко пользуются платными услугами\n",
    "\n",
    "Делаем вывод, что эти характеристики являются самыми важными для удержания клиентов.\n",
    "\n",
    "#### Cluster 2  \n",
    "Этот кластер самый малочисленный (13%) и отток в нем вдвое меньше.\n",
    "Не смотря на все еще высокий % оттока, кластер имеет все признаки благополучного.\n",
    "\n",
    "Отличительные характеристики клиентов кластера:  \n",
    "- отсутствие контактов в базе\n",
    "- меньше пользуются платными услугами\n",
    "\n",
    "Эти характеристики могут быть связаны.  \n",
    "Если клуб пользуется контактной информацией клиента для предложения услуг, то эти клиенты выпадают из этой программы.  \n",
    "Вполне возможно, что связь с клиентом могла бы перевести его в благополучный кластер.\n",
    "\n",
    "#### Cluster 3\n",
    "Благополучный кластер.  \n",
    "Не смотря на не самый низкий % оттока, кластер имеет все признаки самого благополучного.\n",
    "\n",
    "Отличительные характеристики клиентов кластера:  \n",
    "- чаще посещают клуб\n",
    "- чаще пользуются платными услугами\n",
    "\n",
    "Статистически, видим отличия в сроке действия абоненемента, который близок к сроку в худшем кластере, но судя по значению lifetime, это просто особенность кластера, которая не влияет на отток.\n",
    "\n",
    "Единственный параметр, который не позволяет этого достичь - менее частое посещение групповых занятий, по сравнению с лючшим по оттоку кластером.\n",
    "\n",
    "#### Cluster 4\n",
    "Лучший кластер.  \n",
    "Самые лояльные клиенты.  \n",
    "Клиенты этого кластера в полной мере пользуются услугами клуба.\n",
    "\n",
    "Отличительные характеристики клиентов кластера:  \n",
    "- пришли по программе привлечения клиентов\n",
    "\n",
    "Убеждаемся, что программа направлена на целевую аудиторию клуба."
   ]
  },
  {
   "cell_type": "markdown",
   "id": "efb499f2",
   "metadata": {},
   "source": [
    "---\n",
    "Исходя из срезов кластеров, структурируем параметры по степени влияния на отток:\n",
    "\n",
    "#### 1. Выделяем параметры с наиболее сильным влиянием на отток:  \n",
    "\n",
    "- Avg_class_frequency_current_month  \n",
    "- Promo_friends  \n",
    "- Group_visits  \n",
    "- Partner  \n",
    "- Avg_additional_charges_total  \n",
    "\n",
    "#### 2. Параметры с низким влиянием на отток:  \n",
    "\n",
    "- Near_Location  \n",
    "- Phone  \n",
    "\n",
    "#### 3. Параметры, практически не влияющие на отток:  \n",
    "\n",
    "- gender  \n",
    "- Age  \n",
    "\n",
    "#### 4. Параметры, которые можно считать скорее следствием лояльности клиентов:\n",
    "\n",
    "- Lifetime  \n",
    "- Contract_period  \n",
    "- Month_to_end_contract  "
   ]
  }
 ],
 "metadata": {
  "kernelspec": {
   "display_name": "Python 3",
   "language": "python",
   "name": "python3"
  },
  "language_info": {
   "codemirror_mode": {
    "name": "ipython",
    "version": 3
   },
   "file_extension": ".py",
   "mimetype": "text/x-python",
   "name": "python",
   "nbconvert_exporter": "python",
   "pygments_lexer": "ipython3",
   "version": "3.8.8"
  }
 },
 "nbformat": 4,
 "nbformat_minor": 5
}
